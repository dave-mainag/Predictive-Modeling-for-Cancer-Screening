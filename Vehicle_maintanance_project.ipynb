{
 "cells": [
  {
   "cell_type": "markdown",
   "metadata": {},
   "source": [
    "VEHICLE MAINTANCE PROJECT\n",
    "\n",
    "STUDENT NAME: \n",
    "\n",
    "STUDENT PACE:\n",
    "\n",
    "SCHEDULED PROJECT REVIEW DATE/TIME:\n",
    "\n",
    "INSTRUCTOR NAME:"
   ]
  },
  {
   "cell_type": "markdown",
   "metadata": {},
   "source": [
    "1.IMPORTING NECESSARY LIBRARIES"
   ]
  },
  {
   "cell_type": "code",
   "execution_count": 26,
   "metadata": {},
   "outputs": [],
   "source": [
    "# Libraries required for data analysis and preprocessing\n",
    "\n",
    "import pandas as pd\n",
    "import numpy as np\n",
    "\n",
    "# Libraries required for data visualization\n",
    "import matplotlib.pyplot as plt\n",
    "import seaborn as sns\n",
    "from collections import Counter\n",
    "from matplotlib import pyplot\n",
    "\n",
    "#Libraries required for applying logistic regression models\n",
    "from sklearn.linear_model import LogisticRegression\n",
    "from sklearn.preprocessing import OneHotEncoder, StandardScaler, RobustScaler\n",
    "from sklearn.model_selection import train_test_split\n",
    "from sklearn import metrics\n",
    "import statsmodels.api as sm\n",
    "\n",
    "#Libraries required for model evaluation\n",
    "from sklearn.metrics import confusion_matrix, accuracy_score\n",
    "from sklearn.model_selection import train_test_split\n",
    "from sklearn.tree import DecisionTreeClassifier\n",
    "from sklearn.metrics import accuracy_score, confusion_matrix\n",
    "from sklearn.preprocessing import LabelEncoder \n",
    "from sklearn.metrics import precision_score, recall_score, f1_score\n",
    "from sklearn.model_selection import cross_val_score\n",
    "\n",
    "\n",
    "\n",
    "\n",
    "\n",
    "\n",
    "\n"
   ]
  },
  {
   "cell_type": "markdown",
   "metadata": {},
   "source": [
    "2. LOADING THE FILE (DATASET)"
   ]
  },
  {
   "cell_type": "code",
   "execution_count": 9,
   "metadata": {},
   "outputs": [
    {
     "data": {
      "text/html": [
       "<div>\n",
       "<style scoped>\n",
       "    .dataframe tbody tr th:only-of-type {\n",
       "        vertical-align: middle;\n",
       "    }\n",
       "\n",
       "    .dataframe tbody tr th {\n",
       "        vertical-align: top;\n",
       "    }\n",
       "\n",
       "    .dataframe thead th {\n",
       "        text-align: right;\n",
       "    }\n",
       "</style>\n",
       "<table border=\"1\" class=\"dataframe\">\n",
       "  <thead>\n",
       "    <tr style=\"text-align: right;\">\n",
       "      <th></th>\n",
       "      <th>,\"\",\"\",\"Jobs created from:\",\"10/03/10\",\"To\",\"09/04/24\",\" From Com 10 To: 99\"</th>\n",
       "    </tr>\n",
       "  </thead>\n",
       "  <tbody>\n",
       "    <tr>\n",
       "      <th>0</th>\n",
       "      <td>Date Created,\"Promised\",\"Period\",\"Co\",\"Account...</td>\n",
       "    </tr>\n",
       "    <tr>\n",
       "      <th>1</th>\n",
       "      <td>'2010-05-12,\"\",\"201005\",\"15\",\"'158G0015\",\"15H3...</td>\n",
       "    </tr>\n",
       "    <tr>\n",
       "      <th>2</th>\n",
       "      <td>'2010-05-31,\"\",\"201005\",\"15\",\"'151111\",\"15Z017...</td>\n",
       "    </tr>\n",
       "    <tr>\n",
       "      <th>3</th>\n",
       "      <td>'2011-06-15,\"\",\"201106\",\"13\",\"'134U0001\",\"13H2...</td>\n",
       "    </tr>\n",
       "    <tr>\n",
       "      <th>4</th>\n",
       "      <td>'2011-10-01,\"\",\"201110\",\"13\",\"'134T0001\",\"13H3...</td>\n",
       "    </tr>\n",
       "  </tbody>\n",
       "</table>\n",
       "</div>"
      ],
      "text/plain": [
       "  ,\"\",\"\",\"Jobs created from:\",\"10/03/10\",\"To\",\"09/04/24\",\" From Com 10 To: 99\"\n",
       "0  Date Created,\"Promised\",\"Period\",\"Co\",\"Account...                          \n",
       "1  '2010-05-12,\"\",\"201005\",\"15\",\"'158G0015\",\"15H3...                          \n",
       "2  '2010-05-31,\"\",\"201005\",\"15\",\"'151111\",\"15Z017...                          \n",
       "3  '2011-06-15,\"\",\"201106\",\"13\",\"'134U0001\",\"13H2...                          \n",
       "4  '2011-10-01,\"\",\"201110\",\"13\",\"'134T0001\",\"13H3...                          "
      ]
     },
     "execution_count": 9,
     "metadata": {},
     "output_type": "execute_result"
    }
   ],
   "source": [
    "#import file\n",
    "vehicles= pd.read_csv(r\"C:\\Users\\OTIENO BAKER OYUGI\\Downloads\\Vehicle Repair Jobs.csv\", sep='\\t')\n",
    "vehicles.head()\n"
   ]
  },
  {
   "cell_type": "markdown",
   "metadata": {},
   "source": [
    "3. DATA PREPROCESSING\n"
   ]
  },
  {
   "cell_type": "code",
   "execution_count": 12,
   "metadata": {},
   "outputs": [
    {
     "name": "stdout",
     "output_type": "stream",
     "text": [
      "  ,\"\",\"\",\"Jobs created from:\",\"10/03/10\",\"To\",\"09/04/24\",\" From Com 10 To: 99\"\n",
      "0  Date Created,\"Promised\",\"Period\",\"Co\",\"Account...                          \n",
      "1  '2010-05-12,\"\",\"201005\",\"15\",\"'158G0015\",\"15H3...                          \n",
      "2  '2010-05-31,\"\",\"201005\",\"15\",\"'151111\",\"15Z017...                          \n",
      "3  '2011-06-15,\"\",\"201106\",\"13\",\"'134U0001\",\"13H2...                          \n",
      "4  '2011-10-01,\"\",\"201110\",\"13\",\"'134T0001\",\"13H3...                          \n"
     ]
    }
   ],
   "source": [
    "# Display the first few rows of the dataset\n",
    "print(vehicles.head())\n"
   ]
  },
  {
   "cell_type": "code",
   "execution_count": 13,
   "metadata": {},
   "outputs": [
    {
     "name": "stdout",
     "output_type": "stream",
     "text": [
      "<class 'pandas.core.frame.DataFrame'>\n",
      "RangeIndex: 17855 entries, 0 to 17854\n",
      "Data columns (total 1 columns):\n",
      " #   Column                                                                        Non-Null Count  Dtype \n",
      "---  ------                                                                        --------------  ----- \n",
      " 0   ,\"\",\"\",\"Jobs created from:\",\"10/03/10\",\"To\",\"09/04/24\",\" From Com 10 To: 99\"  17855 non-null  object\n",
      "dtypes: object(1)\n",
      "memory usage: 139.6+ KB\n",
      "None\n"
     ]
    }
   ],
   "source": [
    "# Summary of data types and non-null counts\n",
    "print(vehicles.info())"
   ]
  },
  {
   "cell_type": "code",
   "execution_count": 14,
   "metadata": {},
   "outputs": [
    {
     "name": "stdout",
     "output_type": "stream",
     "text": [
      "       ,\"\",\"\",\"Jobs created from:\",\"10/03/10\",\"To\",\"09/04/24\",\" From Com 10 To: 99\"\n",
      "count                                               17855                          \n",
      "unique                                              17855                          \n",
      "top     Date Created,\"Promised\",\"Period\",\"Co\",\"Account...                          \n",
      "freq                                                    1                          \n"
     ]
    }
   ],
   "source": [
    "#Summary Statistics for numerical columns\n",
    "print(vehicles.describe())"
   ]
  },
  {
   "cell_type": "code",
   "execution_count": 15,
   "metadata": {},
   "outputs": [
    {
     "name": "stdout",
     "output_type": "stream",
     "text": [
      ",\"\",\"\",\"Jobs created from:\",\"10/03/10\",\"To\",\"09/04/24\",\" From Com 10 To: 99\"    0\n",
      "dtype: int64\n"
     ]
    }
   ],
   "source": [
    "#Count of missing values per column\n",
    "print(vehicles.isnull().sum())"
   ]
  }
 ],
 "metadata": {
  "kernelspec": {
   "display_name": "myenv",
   "language": "python",
   "name": "myenv"
  },
  "language_info": {
   "codemirror_mode": {
    "name": "ipython",
    "version": 3
   },
   "file_extension": ".py",
   "mimetype": "text/x-python",
   "name": "python",
   "nbconvert_exporter": "python",
   "pygments_lexer": "ipython3",
   "version": "3.11.4"
  }
 },
 "nbformat": 4,
 "nbformat_minor": 2
}
