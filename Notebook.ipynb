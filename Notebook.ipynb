{
 "cells": [
  {
   "cell_type": "markdown",
   "id": "b362f7e9",
   "metadata": {},
   "source": [
    "# >>>>>>>"
   ]
  },
  {
   "cell_type": "code",
   "execution_count": 370,
   "id": "355c27a1",
   "metadata": {},
   "outputs": [],
   "source": [
    "# Import relevant libraries\n",
    "import pandas as pd\n",
    "import numpy as np\n",
    "import matplotlib.pyplot as plt"
   ]
  },
  {
   "cell_type": "code",
   "execution_count": 371,
   "id": "96996eda",
   "metadata": {},
   "outputs": [],
   "source": [
    "# Import data\n",
    "data = pd.read_csv('Data/2020-brfss-survey-responses.csv')"
   ]
  },
  {
   "cell_type": "code",
   "execution_count": 372,
   "id": "72f5c84c",
   "metadata": {},
   "outputs": [
    {
     "data": {
      "text/html": [
       "<div>\n",
       "<style scoped>\n",
       "    .dataframe tbody tr th:only-of-type {\n",
       "        vertical-align: middle;\n",
       "    }\n",
       "\n",
       "    .dataframe tbody tr th {\n",
       "        vertical-align: top;\n",
       "    }\n",
       "\n",
       "    .dataframe thead th {\n",
       "        text-align: right;\n",
       "    }\n",
       "</style>\n",
       "<table border=\"1\" class=\"dataframe\">\n",
       "  <thead>\n",
       "    <tr style=\"text-align: right;\">\n",
       "      <th></th>\n",
       "      <th>FIPS</th>\n",
       "      <th>ST</th>\n",
       "      <th>X_URBSTAT</th>\n",
       "      <th>X_AGEG5YR</th>\n",
       "      <th>DISPCODE</th>\n",
       "      <th>NUMADULT</th>\n",
       "      <th>SEXVAR</th>\n",
       "      <th>GENHLTH</th>\n",
       "      <th>PHYSHLTH</th>\n",
       "      <th>MENTHLTH</th>\n",
       "      <th>...</th>\n",
       "      <th>AVEDRNK3</th>\n",
       "      <th>DRNK3GE5</th>\n",
       "      <th>SEATBELT</th>\n",
       "      <th>HADMAM</th>\n",
       "      <th>PSATEST1</th>\n",
       "      <th>COLNSCPY</th>\n",
       "      <th>HIVTST7</th>\n",
       "      <th>HIVRISK5</th>\n",
       "      <th>X_LLCPWT</th>\n",
       "      <th>X_AAWEIGHT</th>\n",
       "    </tr>\n",
       "  </thead>\n",
       "  <tbody>\n",
       "    <tr>\n",
       "      <th>0</th>\n",
       "      <td>1</td>\n",
       "      <td>AL</td>\n",
       "      <td>1.0</td>\n",
       "      <td>11</td>\n",
       "      <td>1100</td>\n",
       "      <td>1.0</td>\n",
       "      <td>2</td>\n",
       "      <td>3.0</td>\n",
       "      <td>88.0</td>\n",
       "      <td>88.0</td>\n",
       "      <td>...</td>\n",
       "      <td>88.0</td>\n",
       "      <td>4.0</td>\n",
       "      <td>1.0</td>\n",
       "      <td>1.0</td>\n",
       "      <td>NaN</td>\n",
       "      <td>1.0</td>\n",
       "      <td>1.0</td>\n",
       "      <td>2.0</td>\n",
       "      <td>351.425067</td>\n",
       "      <td>203.906248</td>\n",
       "    </tr>\n",
       "    <tr>\n",
       "      <th>1</th>\n",
       "      <td>1</td>\n",
       "      <td>AL</td>\n",
       "      <td>1.0</td>\n",
       "      <td>12</td>\n",
       "      <td>1100</td>\n",
       "      <td>3.0</td>\n",
       "      <td>1</td>\n",
       "      <td>5.0</td>\n",
       "      <td>10.0</td>\n",
       "      <td>88.0</td>\n",
       "      <td>...</td>\n",
       "      <td>NaN</td>\n",
       "      <td>NaN</td>\n",
       "      <td>1.0</td>\n",
       "      <td>NaN</td>\n",
       "      <td>2.0</td>\n",
       "      <td>1.0</td>\n",
       "      <td>2.0</td>\n",
       "      <td>2.0</td>\n",
       "      <td>717.647873</td>\n",
       "      <td>383.539091</td>\n",
       "    </tr>\n",
       "    <tr>\n",
       "      <th>2</th>\n",
       "      <td>1</td>\n",
       "      <td>AL</td>\n",
       "      <td>1.0</td>\n",
       "      <td>13</td>\n",
       "      <td>1200</td>\n",
       "      <td>1.0</td>\n",
       "      <td>2</td>\n",
       "      <td>3.0</td>\n",
       "      <td>5.0</td>\n",
       "      <td>88.0</td>\n",
       "      <td>...</td>\n",
       "      <td>NaN</td>\n",
       "      <td>NaN</td>\n",
       "      <td>1.0</td>\n",
       "      <td>1.0</td>\n",
       "      <td>NaN</td>\n",
       "      <td>1.0</td>\n",
       "      <td>2.0</td>\n",
       "      <td>NaN</td>\n",
       "      <td>2207.021300</td>\n",
       "      <td>1538.325330</td>\n",
       "    </tr>\n",
       "    <tr>\n",
       "      <th>3</th>\n",
       "      <td>1</td>\n",
       "      <td>AL</td>\n",
       "      <td>1.0</td>\n",
       "      <td>10</td>\n",
       "      <td>1100</td>\n",
       "      <td>2.0</td>\n",
       "      <td>2</td>\n",
       "      <td>4.0</td>\n",
       "      <td>3.0</td>\n",
       "      <td>3.0</td>\n",
       "      <td>...</td>\n",
       "      <td>NaN</td>\n",
       "      <td>NaN</td>\n",
       "      <td>1.0</td>\n",
       "      <td>1.0</td>\n",
       "      <td>NaN</td>\n",
       "      <td>1.0</td>\n",
       "      <td>2.0</td>\n",
       "      <td>2.0</td>\n",
       "      <td>785.062265</td>\n",
       "      <td>462.564229</td>\n",
       "    </tr>\n",
       "    <tr>\n",
       "      <th>4</th>\n",
       "      <td>1</td>\n",
       "      <td>AL</td>\n",
       "      <td>1.0</td>\n",
       "      <td>13</td>\n",
       "      <td>1100</td>\n",
       "      <td>1.0</td>\n",
       "      <td>2</td>\n",
       "      <td>2.0</td>\n",
       "      <td>88.0</td>\n",
       "      <td>88.0</td>\n",
       "      <td>...</td>\n",
       "      <td>NaN</td>\n",
       "      <td>NaN</td>\n",
       "      <td>1.0</td>\n",
       "      <td>1.0</td>\n",
       "      <td>NaN</td>\n",
       "      <td>1.0</td>\n",
       "      <td>2.0</td>\n",
       "      <td>2.0</td>\n",
       "      <td>327.589761</td>\n",
       "      <td>228.334737</td>\n",
       "    </tr>\n",
       "  </tbody>\n",
       "</table>\n",
       "<p>5 rows × 51 columns</p>\n",
       "</div>"
      ],
      "text/plain": [
       "   FIPS  ST  X_URBSTAT  X_AGEG5YR  DISPCODE  NUMADULT  SEXVAR  GENHLTH  \\\n",
       "0     1  AL        1.0         11      1100       1.0       2      3.0   \n",
       "1     1  AL        1.0         12      1100       3.0       1      5.0   \n",
       "2     1  AL        1.0         13      1200       1.0       2      3.0   \n",
       "3     1  AL        1.0         10      1100       2.0       2      4.0   \n",
       "4     1  AL        1.0         13      1100       1.0       2      2.0   \n",
       "\n",
       "   PHYSHLTH  MENTHLTH  ...  AVEDRNK3  DRNK3GE5  SEATBELT  HADMAM  PSATEST1  \\\n",
       "0      88.0      88.0  ...      88.0       4.0       1.0     1.0       NaN   \n",
       "1      10.0      88.0  ...       NaN       NaN       1.0     NaN       2.0   \n",
       "2       5.0      88.0  ...       NaN       NaN       1.0     1.0       NaN   \n",
       "3       3.0       3.0  ...       NaN       NaN       1.0     1.0       NaN   \n",
       "4      88.0      88.0  ...       NaN       NaN       1.0     1.0       NaN   \n",
       "\n",
       "   COLNSCPY  HIVTST7  HIVRISK5     X_LLCPWT   X_AAWEIGHT  \n",
       "0       1.0      1.0       2.0   351.425067   203.906248  \n",
       "1       1.0      2.0       2.0   717.647873   383.539091  \n",
       "2       1.0      2.0       NaN  2207.021300  1538.325330  \n",
       "3       1.0      2.0       2.0   785.062265   462.564229  \n",
       "4       1.0      2.0       2.0   327.589761   228.334737  \n",
       "\n",
       "[5 rows x 51 columns]"
      ]
     },
     "execution_count": 372,
     "metadata": {},
     "output_type": "execute_result"
    }
   ],
   "source": [
    "# Check data structure\n",
    "data.head()"
   ]
  },
  {
   "cell_type": "code",
   "execution_count": 373,
   "id": "4affd6f2",
   "metadata": {},
   "outputs": [
    {
     "name": "stdout",
     "output_type": "stream",
     "text": [
      "<class 'pandas.core.frame.DataFrame'>\n",
      "RangeIndex: 401958 entries, 0 to 401957\n",
      "Data columns (total 51 columns):\n",
      " #   Column      Non-Null Count   Dtype  \n",
      "---  ------      --------------   -----  \n",
      " 0   FIPS        401958 non-null  int64  \n",
      " 1   ST          394831 non-null  object \n",
      " 2   X_URBSTAT   394831 non-null  float64\n",
      " 3   X_AGEG5YR   401958 non-null  int64  \n",
      " 4   DISPCODE    401958 non-null  int64  \n",
      " 5   NUMADULT    124742 non-null  float64\n",
      " 6   SEXVAR      401958 non-null  int64  \n",
      " 7   GENHLTH     401950 non-null  float64\n",
      " 8   PHYSHLTH    401953 non-null  float64\n",
      " 9   MENTHLTH    401953 non-null  float64\n",
      " 10  HLTHPLN1    401955 non-null  float64\n",
      " 11  EXERANY2    401955 non-null  float64\n",
      " 12  SLEPTIM1    401955 non-null  float64\n",
      " 13  CVDINFR4    401952 non-null  float64\n",
      " 14  CVDCRHD4    401955 non-null  float64\n",
      " 15  CVDSTRK3    401955 non-null  float64\n",
      " 16  ASTHMA3     401955 non-null  float64\n",
      " 17  CHCSCNCR    401955 non-null  float64\n",
      " 18  CHCOCNCR    401955 non-null  float64\n",
      " 19  CHCCOPD2    401953 non-null  float64\n",
      " 20  HAVARTH4    401953 non-null  float64\n",
      " 21  ADDEPEV3    401952 non-null  float64\n",
      " 22  CHCKDNY2    401952 non-null  float64\n",
      " 23  DIABETE4    401952 non-null  float64\n",
      " 24  DIABAGE3    52094 non-null   float64\n",
      " 25  LASTDEN4    401951 non-null  float64\n",
      " 26  RMVTETH4    401951 non-null  float64\n",
      " 27  MARITAL     401946 non-null  float64\n",
      " 28  EDUCA       401946 non-null  float64\n",
      " 29  RENTHOM1    401943 non-null  float64\n",
      " 30  VETERAN3    400651 non-null  float64\n",
      " 31  EMPLOY1     399033 non-null  float64\n",
      " 32  CHILDREN    397191 non-null  float64\n",
      " 33  INCOME2     394600 non-null  float64\n",
      " 34  PREGNANT    75590 non-null   float64\n",
      " 35  WEIGHT2     392106 non-null  float64\n",
      " 36  HTIN4       378150 non-null  float64\n",
      " 37  DEAF        389543 non-null  float64\n",
      " 38  BLIND       388634 non-null  float64\n",
      " 39  SMOKDAY2    156634 non-null  float64\n",
      " 40  STOPSMK2    52423 non-null   float64\n",
      " 41  AVEDRNK3    190859 non-null  float64\n",
      " 42  DRNK3GE5    190332 non-null  float64\n",
      " 43  SEATBELT    376447 non-null  float64\n",
      " 44  HADMAM      203520 non-null  float64\n",
      " 45  PSATEST1    125915 non-null  float64\n",
      " 46  COLNSCPY    258555 non-null  float64\n",
      " 47  HIVTST7     367921 non-null  float64\n",
      " 48  HIVRISK5    366026 non-null  float64\n",
      " 49  X_LLCPWT    401958 non-null  float64\n",
      " 50  X_AAWEIGHT  394831 non-null  float64\n",
      "dtypes: float64(46), int64(4), object(1)\n",
      "memory usage: 156.4+ MB\n"
     ]
    }
   ],
   "source": [
    "# More information on data\n",
    "data.info()"
   ]
  },
  {
   "cell_type": "code",
   "execution_count": 374,
   "id": "24ded429",
   "metadata": {},
   "outputs": [
    {
     "data": {
      "text/html": [
       "<div>\n",
       "<style scoped>\n",
       "    .dataframe tbody tr th:only-of-type {\n",
       "        vertical-align: middle;\n",
       "    }\n",
       "\n",
       "    .dataframe tbody tr th {\n",
       "        vertical-align: top;\n",
       "    }\n",
       "\n",
       "    .dataframe thead th {\n",
       "        text-align: right;\n",
       "    }\n",
       "</style>\n",
       "<table border=\"1\" class=\"dataframe\">\n",
       "  <thead>\n",
       "    <tr style=\"text-align: right;\">\n",
       "      <th></th>\n",
       "      <th>FIPS</th>\n",
       "      <th>X_URBSTAT</th>\n",
       "      <th>X_AGEG5YR</th>\n",
       "      <th>DISPCODE</th>\n",
       "      <th>NUMADULT</th>\n",
       "      <th>SEXVAR</th>\n",
       "      <th>GENHLTH</th>\n",
       "      <th>PHYSHLTH</th>\n",
       "      <th>MENTHLTH</th>\n",
       "      <th>HLTHPLN1</th>\n",
       "      <th>...</th>\n",
       "      <th>AVEDRNK3</th>\n",
       "      <th>DRNK3GE5</th>\n",
       "      <th>SEATBELT</th>\n",
       "      <th>HADMAM</th>\n",
       "      <th>PSATEST1</th>\n",
       "      <th>COLNSCPY</th>\n",
       "      <th>HIVTST7</th>\n",
       "      <th>HIVRISK5</th>\n",
       "      <th>X_LLCPWT</th>\n",
       "      <th>X_AAWEIGHT</th>\n",
       "    </tr>\n",
       "  </thead>\n",
       "  <tbody>\n",
       "    <tr>\n",
       "      <th>count</th>\n",
       "      <td>401958.000000</td>\n",
       "      <td>394831.000000</td>\n",
       "      <td>401958.000000</td>\n",
       "      <td>401958.000000</td>\n",
       "      <td>124742.000000</td>\n",
       "      <td>401958.000000</td>\n",
       "      <td>401950.000000</td>\n",
       "      <td>401953.000000</td>\n",
       "      <td>401953.000000</td>\n",
       "      <td>401955.000000</td>\n",
       "      <td>...</td>\n",
       "      <td>190859.000000</td>\n",
       "      <td>190332.000000</td>\n",
       "      <td>376447.000000</td>\n",
       "      <td>203520.000000</td>\n",
       "      <td>125915.000000</td>\n",
       "      <td>258555.000000</td>\n",
       "      <td>367921.000000</td>\n",
       "      <td>366026.000000</td>\n",
       "      <td>401958.000000</td>\n",
       "      <td>394831.000000</td>\n",
       "    </tr>\n",
       "    <tr>\n",
       "      <th>mean</th>\n",
       "      <td>30.010359</td>\n",
       "      <td>1.149692</td>\n",
       "      <td>7.667363</td>\n",
       "      <td>1117.747874</td>\n",
       "      <td>1.752120</td>\n",
       "      <td>1.542385</td>\n",
       "      <td>2.452947</td>\n",
       "      <td>66.143629</td>\n",
       "      <td>61.453740</td>\n",
       "      <td>1.119809</td>\n",
       "      <td>...</td>\n",
       "      <td>4.077251</td>\n",
       "      <td>66.371015</td>\n",
       "      <td>1.258557</td>\n",
       "      <td>1.255921</td>\n",
       "      <td>1.824382</td>\n",
       "      <td>1.339429</td>\n",
       "      <td>1.941884</td>\n",
       "      <td>1.996350</td>\n",
       "      <td>647.849949</td>\n",
       "      <td>737.624631</td>\n",
       "    </tr>\n",
       "    <tr>\n",
       "      <th>std</th>\n",
       "      <td>15.773473</td>\n",
       "      <td>0.356770</td>\n",
       "      <td>3.660209</td>\n",
       "      <td>38.207382</td>\n",
       "      <td>0.816289</td>\n",
       "      <td>0.498201</td>\n",
       "      <td>1.085778</td>\n",
       "      <td>34.827121</td>\n",
       "      <td>36.951143</td>\n",
       "      <td>0.562472</td>\n",
       "      <td>...</td>\n",
       "      <td>12.342536</td>\n",
       "      <td>36.537959</td>\n",
       "      <td>0.844678</td>\n",
       "      <td>0.617191</td>\n",
       "      <td>1.390534</td>\n",
       "      <td>0.715403</td>\n",
       "      <td>1.281266</td>\n",
       "      <td>0.531705</td>\n",
       "      <td>1418.402069</td>\n",
       "      <td>1767.824851</td>\n",
       "    </tr>\n",
       "    <tr>\n",
       "      <th>min</th>\n",
       "      <td>1.000000</td>\n",
       "      <td>1.000000</td>\n",
       "      <td>1.000000</td>\n",
       "      <td>1100.000000</td>\n",
       "      <td>1.000000</td>\n",
       "      <td>1.000000</td>\n",
       "      <td>1.000000</td>\n",
       "      <td>1.000000</td>\n",
       "      <td>1.000000</td>\n",
       "      <td>1.000000</td>\n",
       "      <td>...</td>\n",
       "      <td>1.000000</td>\n",
       "      <td>1.000000</td>\n",
       "      <td>1.000000</td>\n",
       "      <td>1.000000</td>\n",
       "      <td>1.000000</td>\n",
       "      <td>1.000000</td>\n",
       "      <td>1.000000</td>\n",
       "      <td>1.000000</td>\n",
       "      <td>0.958278</td>\n",
       "      <td>0.000000</td>\n",
       "    </tr>\n",
       "    <tr>\n",
       "      <th>25%</th>\n",
       "      <td>18.000000</td>\n",
       "      <td>1.000000</td>\n",
       "      <td>5.000000</td>\n",
       "      <td>1100.000000</td>\n",
       "      <td>1.000000</td>\n",
       "      <td>1.000000</td>\n",
       "      <td>2.000000</td>\n",
       "      <td>30.000000</td>\n",
       "      <td>15.000000</td>\n",
       "      <td>1.000000</td>\n",
       "      <td>...</td>\n",
       "      <td>1.000000</td>\n",
       "      <td>30.000000</td>\n",
       "      <td>1.000000</td>\n",
       "      <td>1.000000</td>\n",
       "      <td>1.000000</td>\n",
       "      <td>1.000000</td>\n",
       "      <td>1.000000</td>\n",
       "      <td>2.000000</td>\n",
       "      <td>113.404274</td>\n",
       "      <td>84.209716</td>\n",
       "    </tr>\n",
       "    <tr>\n",
       "      <th>50%</th>\n",
       "      <td>29.000000</td>\n",
       "      <td>1.000000</td>\n",
       "      <td>8.000000</td>\n",
       "      <td>1100.000000</td>\n",
       "      <td>2.000000</td>\n",
       "      <td>2.000000</td>\n",
       "      <td>2.000000</td>\n",
       "      <td>88.000000</td>\n",
       "      <td>88.000000</td>\n",
       "      <td>1.000000</td>\n",
       "      <td>...</td>\n",
       "      <td>2.000000</td>\n",
       "      <td>88.000000</td>\n",
       "      <td>1.000000</td>\n",
       "      <td>1.000000</td>\n",
       "      <td>2.000000</td>\n",
       "      <td>1.000000</td>\n",
       "      <td>2.000000</td>\n",
       "      <td>2.000000</td>\n",
       "      <td>282.287914</td>\n",
       "      <td>254.071714</td>\n",
       "    </tr>\n",
       "    <tr>\n",
       "      <th>75%</th>\n",
       "      <td>41.000000</td>\n",
       "      <td>1.000000</td>\n",
       "      <td>11.000000</td>\n",
       "      <td>1100.000000</td>\n",
       "      <td>2.000000</td>\n",
       "      <td>2.000000</td>\n",
       "      <td>3.000000</td>\n",
       "      <td>88.000000</td>\n",
       "      <td>88.000000</td>\n",
       "      <td>1.000000</td>\n",
       "      <td>...</td>\n",
       "      <td>3.000000</td>\n",
       "      <td>88.000000</td>\n",
       "      <td>1.000000</td>\n",
       "      <td>1.000000</td>\n",
       "      <td>2.000000</td>\n",
       "      <td>2.000000</td>\n",
       "      <td>2.000000</td>\n",
       "      <td>2.000000</td>\n",
       "      <td>663.936641</td>\n",
       "      <td>709.870264</td>\n",
       "    </tr>\n",
       "    <tr>\n",
       "      <th>max</th>\n",
       "      <td>72.000000</td>\n",
       "      <td>2.000000</td>\n",
       "      <td>14.000000</td>\n",
       "      <td>1200.000000</td>\n",
       "      <td>18.000000</td>\n",
       "      <td>2.000000</td>\n",
       "      <td>9.000000</td>\n",
       "      <td>99.000000</td>\n",
       "      <td>99.000000</td>\n",
       "      <td>9.000000</td>\n",
       "      <td>...</td>\n",
       "      <td>99.000000</td>\n",
       "      <td>99.000000</td>\n",
       "      <td>9.000000</td>\n",
       "      <td>9.000000</td>\n",
       "      <td>9.000000</td>\n",
       "      <td>9.000000</td>\n",
       "      <td>9.000000</td>\n",
       "      <td>9.000000</td>\n",
       "      <td>83193.322100</td>\n",
       "      <td>101760.155381</td>\n",
       "    </tr>\n",
       "  </tbody>\n",
       "</table>\n",
       "<p>8 rows × 50 columns</p>\n",
       "</div>"
      ],
      "text/plain": [
       "                FIPS      X_URBSTAT      X_AGEG5YR       DISPCODE  \\\n",
       "count  401958.000000  394831.000000  401958.000000  401958.000000   \n",
       "mean       30.010359       1.149692       7.667363    1117.747874   \n",
       "std        15.773473       0.356770       3.660209      38.207382   \n",
       "min         1.000000       1.000000       1.000000    1100.000000   \n",
       "25%        18.000000       1.000000       5.000000    1100.000000   \n",
       "50%        29.000000       1.000000       8.000000    1100.000000   \n",
       "75%        41.000000       1.000000      11.000000    1100.000000   \n",
       "max        72.000000       2.000000      14.000000    1200.000000   \n",
       "\n",
       "            NUMADULT         SEXVAR        GENHLTH       PHYSHLTH  \\\n",
       "count  124742.000000  401958.000000  401950.000000  401953.000000   \n",
       "mean        1.752120       1.542385       2.452947      66.143629   \n",
       "std         0.816289       0.498201       1.085778      34.827121   \n",
       "min         1.000000       1.000000       1.000000       1.000000   \n",
       "25%         1.000000       1.000000       2.000000      30.000000   \n",
       "50%         2.000000       2.000000       2.000000      88.000000   \n",
       "75%         2.000000       2.000000       3.000000      88.000000   \n",
       "max        18.000000       2.000000       9.000000      99.000000   \n",
       "\n",
       "            MENTHLTH       HLTHPLN1  ...       AVEDRNK3       DRNK3GE5  \\\n",
       "count  401953.000000  401955.000000  ...  190859.000000  190332.000000   \n",
       "mean       61.453740       1.119809  ...       4.077251      66.371015   \n",
       "std        36.951143       0.562472  ...      12.342536      36.537959   \n",
       "min         1.000000       1.000000  ...       1.000000       1.000000   \n",
       "25%        15.000000       1.000000  ...       1.000000      30.000000   \n",
       "50%        88.000000       1.000000  ...       2.000000      88.000000   \n",
       "75%        88.000000       1.000000  ...       3.000000      88.000000   \n",
       "max        99.000000       9.000000  ...      99.000000      99.000000   \n",
       "\n",
       "            SEATBELT         HADMAM       PSATEST1       COLNSCPY  \\\n",
       "count  376447.000000  203520.000000  125915.000000  258555.000000   \n",
       "mean        1.258557       1.255921       1.824382       1.339429   \n",
       "std         0.844678       0.617191       1.390534       0.715403   \n",
       "min         1.000000       1.000000       1.000000       1.000000   \n",
       "25%         1.000000       1.000000       1.000000       1.000000   \n",
       "50%         1.000000       1.000000       2.000000       1.000000   \n",
       "75%         1.000000       1.000000       2.000000       2.000000   \n",
       "max         9.000000       9.000000       9.000000       9.000000   \n",
       "\n",
       "             HIVTST7       HIVRISK5       X_LLCPWT     X_AAWEIGHT  \n",
       "count  367921.000000  366026.000000  401958.000000  394831.000000  \n",
       "mean        1.941884       1.996350     647.849949     737.624631  \n",
       "std         1.281266       0.531705    1418.402069    1767.824851  \n",
       "min         1.000000       1.000000       0.958278       0.000000  \n",
       "25%         1.000000       2.000000     113.404274      84.209716  \n",
       "50%         2.000000       2.000000     282.287914     254.071714  \n",
       "75%         2.000000       2.000000     663.936641     709.870264  \n",
       "max         9.000000       9.000000   83193.322100  101760.155381  \n",
       "\n",
       "[8 rows x 50 columns]"
      ]
     },
     "execution_count": 374,
     "metadata": {},
     "output_type": "execute_result"
    }
   ],
   "source": [
    "# Data description\n",
    "data.describe()"
   ]
  },
  {
   "cell_type": "markdown",
   "id": "326911a9",
   "metadata": {},
   "source": [
    "# Pre-processing "
   ]
  },
  {
   "cell_type": "code",
   "execution_count": 375,
   "id": "25c2826c",
   "metadata": {},
   "outputs": [
    {
     "data": {
      "text/html": [
       "<div>\n",
       "<style scoped>\n",
       "    .dataframe tbody tr th:only-of-type {\n",
       "        vertical-align: middle;\n",
       "    }\n",
       "\n",
       "    .dataframe tbody tr th {\n",
       "        vertical-align: top;\n",
       "    }\n",
       "\n",
       "    .dataframe thead th {\n",
       "        text-align: right;\n",
       "    }\n",
       "</style>\n",
       "<table border=\"1\" class=\"dataframe\">\n",
       "  <thead>\n",
       "    <tr style=\"text-align: right;\">\n",
       "      <th></th>\n",
       "      <th>%_missing</th>\n",
       "    </tr>\n",
       "  </thead>\n",
       "  <tbody>\n",
       "    <tr>\n",
       "      <th>DIABAGE3</th>\n",
       "      <td>87.039939</td>\n",
       "    </tr>\n",
       "    <tr>\n",
       "      <th>STOPSMK2</th>\n",
       "      <td>86.958090</td>\n",
       "    </tr>\n",
       "    <tr>\n",
       "      <th>PREGNANT</th>\n",
       "      <td>81.194553</td>\n",
       "    </tr>\n",
       "    <tr>\n",
       "      <th>NUMADULT</th>\n",
       "      <td>68.966409</td>\n",
       "    </tr>\n",
       "    <tr>\n",
       "      <th>PSATEST1</th>\n",
       "      <td>68.674588</td>\n",
       "    </tr>\n",
       "    <tr>\n",
       "      <th>SMOKDAY2</th>\n",
       "      <td>61.032247</td>\n",
       "    </tr>\n",
       "    <tr>\n",
       "      <th>DRNK3GE5</th>\n",
       "      <td>52.648784</td>\n",
       "    </tr>\n",
       "    <tr>\n",
       "      <th>AVEDRNK3</th>\n",
       "      <td>52.517676</td>\n",
       "    </tr>\n",
       "    <tr>\n",
       "      <th>HADMAM</th>\n",
       "      <td>49.367844</td>\n",
       "    </tr>\n",
       "    <tr>\n",
       "      <th>COLNSCPY</th>\n",
       "      <td>35.676115</td>\n",
       "    </tr>\n",
       "    <tr>\n",
       "      <th>HIVRISK5</th>\n",
       "      <td>8.939242</td>\n",
       "    </tr>\n",
       "    <tr>\n",
       "      <th>HIVTST7</th>\n",
       "      <td>8.467800</td>\n",
       "    </tr>\n",
       "    <tr>\n",
       "      <th>SEATBELT</th>\n",
       "      <td>6.346683</td>\n",
       "    </tr>\n",
       "    <tr>\n",
       "      <th>HTIN4</th>\n",
       "      <td>5.923007</td>\n",
       "    </tr>\n",
       "    <tr>\n",
       "      <th>BLIND</th>\n",
       "      <td>3.314774</td>\n",
       "    </tr>\n",
       "    <tr>\n",
       "      <th>DEAF</th>\n",
       "      <td>3.088631</td>\n",
       "    </tr>\n",
       "    <tr>\n",
       "      <th>WEIGHT2</th>\n",
       "      <td>2.451002</td>\n",
       "    </tr>\n",
       "    <tr>\n",
       "      <th>INCOME2</th>\n",
       "      <td>1.830540</td>\n",
       "    </tr>\n",
       "    <tr>\n",
       "      <th>ST</th>\n",
       "      <td>1.773071</td>\n",
       "    </tr>\n",
       "    <tr>\n",
       "      <th>X_AAWEIGHT</th>\n",
       "      <td>1.773071</td>\n",
       "    </tr>\n",
       "    <tr>\n",
       "      <th>X_URBSTAT</th>\n",
       "      <td>1.773071</td>\n",
       "    </tr>\n",
       "    <tr>\n",
       "      <th>CHILDREN</th>\n",
       "      <td>1.185945</td>\n",
       "    </tr>\n",
       "    <tr>\n",
       "      <th>EMPLOY1</th>\n",
       "      <td>0.727688</td>\n",
       "    </tr>\n",
       "    <tr>\n",
       "      <th>VETERAN3</th>\n",
       "      <td>0.325158</td>\n",
       "    </tr>\n",
       "    <tr>\n",
       "      <th>RENTHOM1</th>\n",
       "      <td>0.003732</td>\n",
       "    </tr>\n",
       "    <tr>\n",
       "      <th>EDUCA</th>\n",
       "      <td>0.002985</td>\n",
       "    </tr>\n",
       "    <tr>\n",
       "      <th>MARITAL</th>\n",
       "      <td>0.002985</td>\n",
       "    </tr>\n",
       "    <tr>\n",
       "      <th>GENHLTH</th>\n",
       "      <td>0.001990</td>\n",
       "    </tr>\n",
       "    <tr>\n",
       "      <th>LASTDEN4</th>\n",
       "      <td>0.001741</td>\n",
       "    </tr>\n",
       "    <tr>\n",
       "      <th>RMVTETH4</th>\n",
       "      <td>0.001741</td>\n",
       "    </tr>\n",
       "    <tr>\n",
       "      <th>ADDEPEV3</th>\n",
       "      <td>0.001493</td>\n",
       "    </tr>\n",
       "    <tr>\n",
       "      <th>DIABETE4</th>\n",
       "      <td>0.001493</td>\n",
       "    </tr>\n",
       "    <tr>\n",
       "      <th>CVDINFR4</th>\n",
       "      <td>0.001493</td>\n",
       "    </tr>\n",
       "    <tr>\n",
       "      <th>CHCKDNY2</th>\n",
       "      <td>0.001493</td>\n",
       "    </tr>\n",
       "    <tr>\n",
       "      <th>HAVARTH4</th>\n",
       "      <td>0.001244</td>\n",
       "    </tr>\n",
       "    <tr>\n",
       "      <th>PHYSHLTH</th>\n",
       "      <td>0.001244</td>\n",
       "    </tr>\n",
       "    <tr>\n",
       "      <th>MENTHLTH</th>\n",
       "      <td>0.001244</td>\n",
       "    </tr>\n",
       "    <tr>\n",
       "      <th>CHCCOPD2</th>\n",
       "      <td>0.001244</td>\n",
       "    </tr>\n",
       "    <tr>\n",
       "      <th>HLTHPLN1</th>\n",
       "      <td>0.000746</td>\n",
       "    </tr>\n",
       "    <tr>\n",
       "      <th>SLEPTIM1</th>\n",
       "      <td>0.000746</td>\n",
       "    </tr>\n",
       "    <tr>\n",
       "      <th>EXERANY2</th>\n",
       "      <td>0.000746</td>\n",
       "    </tr>\n",
       "    <tr>\n",
       "      <th>CVDCRHD4</th>\n",
       "      <td>0.000746</td>\n",
       "    </tr>\n",
       "    <tr>\n",
       "      <th>CVDSTRK3</th>\n",
       "      <td>0.000746</td>\n",
       "    </tr>\n",
       "    <tr>\n",
       "      <th>ASTHMA3</th>\n",
       "      <td>0.000746</td>\n",
       "    </tr>\n",
       "    <tr>\n",
       "      <th>CHCSCNCR</th>\n",
       "      <td>0.000746</td>\n",
       "    </tr>\n",
       "    <tr>\n",
       "      <th>CHCOCNCR</th>\n",
       "      <td>0.000746</td>\n",
       "    </tr>\n",
       "    <tr>\n",
       "      <th>SEXVAR</th>\n",
       "      <td>0.000000</td>\n",
       "    </tr>\n",
       "    <tr>\n",
       "      <th>DISPCODE</th>\n",
       "      <td>0.000000</td>\n",
       "    </tr>\n",
       "    <tr>\n",
       "      <th>X_AGEG5YR</th>\n",
       "      <td>0.000000</td>\n",
       "    </tr>\n",
       "    <tr>\n",
       "      <th>X_LLCPWT</th>\n",
       "      <td>0.000000</td>\n",
       "    </tr>\n",
       "    <tr>\n",
       "      <th>FIPS</th>\n",
       "      <td>0.000000</td>\n",
       "    </tr>\n",
       "  </tbody>\n",
       "</table>\n",
       "</div>"
      ],
      "text/plain": [
       "            %_missing\n",
       "DIABAGE3    87.039939\n",
       "STOPSMK2    86.958090\n",
       "PREGNANT    81.194553\n",
       "NUMADULT    68.966409\n",
       "PSATEST1    68.674588\n",
       "SMOKDAY2    61.032247\n",
       "DRNK3GE5    52.648784\n",
       "AVEDRNK3    52.517676\n",
       "HADMAM      49.367844\n",
       "COLNSCPY    35.676115\n",
       "HIVRISK5     8.939242\n",
       "HIVTST7      8.467800\n",
       "SEATBELT     6.346683\n",
       "HTIN4        5.923007\n",
       "BLIND        3.314774\n",
       "DEAF         3.088631\n",
       "WEIGHT2      2.451002\n",
       "INCOME2      1.830540\n",
       "ST           1.773071\n",
       "X_AAWEIGHT   1.773071\n",
       "X_URBSTAT    1.773071\n",
       "CHILDREN     1.185945\n",
       "EMPLOY1      0.727688\n",
       "VETERAN3     0.325158\n",
       "RENTHOM1     0.003732\n",
       "EDUCA        0.002985\n",
       "MARITAL      0.002985\n",
       "GENHLTH      0.001990\n",
       "LASTDEN4     0.001741\n",
       "RMVTETH4     0.001741\n",
       "ADDEPEV3     0.001493\n",
       "DIABETE4     0.001493\n",
       "CVDINFR4     0.001493\n",
       "CHCKDNY2     0.001493\n",
       "HAVARTH4     0.001244\n",
       "PHYSHLTH     0.001244\n",
       "MENTHLTH     0.001244\n",
       "CHCCOPD2     0.001244\n",
       "HLTHPLN1     0.000746\n",
       "SLEPTIM1     0.000746\n",
       "EXERANY2     0.000746\n",
       "CVDCRHD4     0.000746\n",
       "CVDSTRK3     0.000746\n",
       "ASTHMA3      0.000746\n",
       "CHCSCNCR     0.000746\n",
       "CHCOCNCR     0.000746\n",
       "SEXVAR       0.000000\n",
       "DISPCODE     0.000000\n",
       "X_AGEG5YR    0.000000\n",
       "X_LLCPWT     0.000000\n",
       "FIPS         0.000000"
      ]
     },
     "execution_count": 375,
     "metadata": {},
     "output_type": "execute_result"
    }
   ],
   "source": [
    "#Check percentage of missing values in each columns\n",
    "missing_percentage = {col:(data[col].isna().sum()/len(data[col]))*100 for col in data.columns}\n",
    "# Create DataFrame from the first dictionary\n",
    "df = pd.DataFrame([missing_percentage]).T\n",
    "df.columns = ['%_missing']\n",
    "\n",
    "df = df.sort_values(by= '%_missing', ascending= False)\n",
    "df"
   ]
  },
  {
   "cell_type": "code",
   "execution_count": 376,
   "id": "e5f13564",
   "metadata": {},
   "outputs": [
    {
     "data": {
      "image/png": "[encoded data removed]",
      "text/plain": [
       "<Figure size 640x480 with 1 Axes>"
      ]
     },
     "metadata": {},
     "output_type": "display_data"
    }
   ],
   "source": [
    "# Quick plot for columns with more than 1% missing data\n",
    "df[df['%_missing'] > 1].plot(kind='bar');"
   ]
  },
  {
   "cell_type": "markdown",
   "id": "d8bf1dfb",
   "metadata": {},
   "source": [
    "##### Feature engineering to save on insights from high-missing-data columns"
   ]
  },
  {
   "cell_type": "code",
   "execution_count": 377,
   "id": "116e7da9",
   "metadata": {},
   "outputs": [],
   "source": [
    "# Feature engineering using columns with high missing data\n",
    "# Combine\n",
    "data.loc[:, 'HADEXAM'] = np.nan  # Default uncertain value [missing]\n",
    "data.loc[(data['PSATEST1'] == 1) | (data['HADMAM'] == 1) | (data['COLNSCPY'] == 1), 'HADEXAM'] = 1 # Has taken an medical exam\n",
    "data.loc[(data['PSATEST1'] == 2) & (data['HADMAM'] == 2) & (data['COLNSCPY'] == 2), 'HADEXAM'] = 2 # Has not taken a medical exam\n",
    "data.loc[data['PSATEST1'].isin([7, 9]) | data['HADMAM'].isin([7, 9]) | data['COLNSCPY'].isin([7, 9]), 'HADEXAM'] = 7  # Don't know/Not Sure or Refused"
   ]
  },
  {
   "cell_type": "code",
   "execution_count": 378,
   "id": "5d0492f2",
   "metadata": {},
   "outputs": [],
   "source": [
    "# Feature engineering using columns with high missing data\n",
    "data.loc[:, 'SMOKDRINK'] = np.nan  # Default uncertain value [missing]\n",
    "# Smokes or drinks\n",
    "data.loc[(data['SMOKDAY2'].isin([1, 2])) | \n",
    "         (data['STOPSMK2'] == 1) | \n",
    "         (data['AVEDRNK3'].between(1, 76)) | \n",
    "         (data['DRNK3GE5'].between(1, 76)), 'SMOKDRINK'] = 1\n",
    "\n",
    "# Don't smoke or drink\n",
    "data.loc[(data['SMOKDAY2'] == 3) & \n",
    "         (data['AVEDRNK3'] == 88) & \n",
    "         (data['DRNK3GE5'] == 88), 'SMOKDRINK'] = 2\n",
    "\n",
    "# Not sure or refused to answer\n",
    "data.loc[(data['SMOKDAY2'].isin([7, 9])) | \n",
    "         (data['STOPSMK2'].isin([7, 9])) | \n",
    "         (data['AVEDRNK3'].isin([77, 99])) | \n",
    "         (data['DRNK3GE5'].isin([77, 99])), 'SMOKDRINK'] = 7"
   ]
  },
  {
   "cell_type": "code",
   "execution_count": 379,
   "id": "5d663039",
   "metadata": {},
   "outputs": [
    {
     "data": {
      "text/html": [
       "<div>\n",
       "<style scoped>\n",
       "    .dataframe tbody tr th:only-of-type {\n",
       "        vertical-align: middle;\n",
       "    }\n",
       "\n",
       "    .dataframe tbody tr th {\n",
       "        vertical-align: top;\n",
       "    }\n",
       "\n",
       "    .dataframe thead th {\n",
       "        text-align: right;\n",
       "    }\n",
       "</style>\n",
       "<table border=\"1\" class=\"dataframe\">\n",
       "  <thead>\n",
       "    <tr style=\"text-align: right;\">\n",
       "      <th></th>\n",
       "      <th>%_missing</th>\n",
       "    </tr>\n",
       "  </thead>\n",
       "  <tbody>\n",
       "    <tr>\n",
       "      <th>DIABAGE3</th>\n",
       "      <td>87.039939</td>\n",
       "    </tr>\n",
       "    <tr>\n",
       "      <th>STOPSMK2</th>\n",
       "      <td>86.958090</td>\n",
       "    </tr>\n",
       "    <tr>\n",
       "      <th>PREGNANT</th>\n",
       "      <td>81.194553</td>\n",
       "    </tr>\n",
       "    <tr>\n",
       "      <th>NUMADULT</th>\n",
       "      <td>68.966409</td>\n",
       "    </tr>\n",
       "    <tr>\n",
       "      <th>PSATEST1</th>\n",
       "      <td>68.674588</td>\n",
       "    </tr>\n",
       "    <tr>\n",
       "      <th>SMOKDAY2</th>\n",
       "      <td>61.032247</td>\n",
       "    </tr>\n",
       "    <tr>\n",
       "      <th>DRNK3GE5</th>\n",
       "      <td>52.648784</td>\n",
       "    </tr>\n",
       "    <tr>\n",
       "      <th>AVEDRNK3</th>\n",
       "      <td>52.517676</td>\n",
       "    </tr>\n",
       "    <tr>\n",
       "      <th>HADMAM</th>\n",
       "      <td>49.367844</td>\n",
       "    </tr>\n",
       "    <tr>\n",
       "      <th>SMOKDRINK</th>\n",
       "      <td>46.275979</td>\n",
       "    </tr>\n",
       "    <tr>\n",
       "      <th>HADEXAM</th>\n",
       "      <td>37.835296</td>\n",
       "    </tr>\n",
       "    <tr>\n",
       "      <th>COLNSCPY</th>\n",
       "      <td>35.676115</td>\n",
       "    </tr>\n",
       "    <tr>\n",
       "      <th>HIVRISK5</th>\n",
       "      <td>8.939242</td>\n",
       "    </tr>\n",
       "    <tr>\n",
       "      <th>HIVTST7</th>\n",
       "      <td>8.467800</td>\n",
       "    </tr>\n",
       "    <tr>\n",
       "      <th>SEATBELT</th>\n",
       "      <td>6.346683</td>\n",
       "    </tr>\n",
       "    <tr>\n",
       "      <th>HTIN4</th>\n",
       "      <td>5.923007</td>\n",
       "    </tr>\n",
       "    <tr>\n",
       "      <th>BLIND</th>\n",
       "      <td>3.314774</td>\n",
       "    </tr>\n",
       "    <tr>\n",
       "      <th>DEAF</th>\n",
       "      <td>3.088631</td>\n",
       "    </tr>\n",
       "    <tr>\n",
       "      <th>WEIGHT2</th>\n",
       "      <td>2.451002</td>\n",
       "    </tr>\n",
       "    <tr>\n",
       "      <th>INCOME2</th>\n",
       "      <td>1.830540</td>\n",
       "    </tr>\n",
       "    <tr>\n",
       "      <th>X_AAWEIGHT</th>\n",
       "      <td>1.773071</td>\n",
       "    </tr>\n",
       "    <tr>\n",
       "      <th>X_URBSTAT</th>\n",
       "      <td>1.773071</td>\n",
       "    </tr>\n",
       "    <tr>\n",
       "      <th>ST</th>\n",
       "      <td>1.773071</td>\n",
       "    </tr>\n",
       "    <tr>\n",
       "      <th>CHILDREN</th>\n",
       "      <td>1.185945</td>\n",
       "    </tr>\n",
       "    <tr>\n",
       "      <th>EMPLOY1</th>\n",
       "      <td>0.727688</td>\n",
       "    </tr>\n",
       "    <tr>\n",
       "      <th>VETERAN3</th>\n",
       "      <td>0.325158</td>\n",
       "    </tr>\n",
       "    <tr>\n",
       "      <th>RENTHOM1</th>\n",
       "      <td>0.003732</td>\n",
       "    </tr>\n",
       "    <tr>\n",
       "      <th>MARITAL</th>\n",
       "      <td>0.002985</td>\n",
       "    </tr>\n",
       "    <tr>\n",
       "      <th>EDUCA</th>\n",
       "      <td>0.002985</td>\n",
       "    </tr>\n",
       "    <tr>\n",
       "      <th>GENHLTH</th>\n",
       "      <td>0.001990</td>\n",
       "    </tr>\n",
       "    <tr>\n",
       "      <th>RMVTETH4</th>\n",
       "      <td>0.001741</td>\n",
       "    </tr>\n",
       "    <tr>\n",
       "      <th>LASTDEN4</th>\n",
       "      <td>0.001741</td>\n",
       "    </tr>\n",
       "    <tr>\n",
       "      <th>ADDEPEV3</th>\n",
       "      <td>0.001493</td>\n",
       "    </tr>\n",
       "    <tr>\n",
       "      <th>DIABETE4</th>\n",
       "      <td>0.001493</td>\n",
       "    </tr>\n",
       "    <tr>\n",
       "      <th>CVDINFR4</th>\n",
       "      <td>0.001493</td>\n",
       "    </tr>\n",
       "    <tr>\n",
       "      <th>CHCKDNY2</th>\n",
       "      <td>0.001493</td>\n",
       "    </tr>\n",
       "    <tr>\n",
       "      <th>HAVARTH4</th>\n",
       "      <td>0.001244</td>\n",
       "    </tr>\n",
       "    <tr>\n",
       "      <th>PHYSHLTH</th>\n",
       "      <td>0.001244</td>\n",
       "    </tr>\n",
       "    <tr>\n",
       "      <th>MENTHLTH</th>\n",
       "      <td>0.001244</td>\n",
       "    </tr>\n",
       "    <tr>\n",
       "      <th>CHCCOPD2</th>\n",
       "      <td>0.001244</td>\n",
       "    </tr>\n",
       "    <tr>\n",
       "      <th>HLTHPLN1</th>\n",
       "      <td>0.000746</td>\n",
       "    </tr>\n",
       "    <tr>\n",
       "      <th>SLEPTIM1</th>\n",
       "      <td>0.000746</td>\n",
       "    </tr>\n",
       "    <tr>\n",
       "      <th>EXERANY2</th>\n",
       "      <td>0.000746</td>\n",
       "    </tr>\n",
       "    <tr>\n",
       "      <th>CVDCRHD4</th>\n",
       "      <td>0.000746</td>\n",
       "    </tr>\n",
       "    <tr>\n",
       "      <th>CVDSTRK3</th>\n",
       "      <td>0.000746</td>\n",
       "    </tr>\n",
       "    <tr>\n",
       "      <th>ASTHMA3</th>\n",
       "      <td>0.000746</td>\n",
       "    </tr>\n",
       "    <tr>\n",
       "      <th>CHCSCNCR</th>\n",
       "      <td>0.000746</td>\n",
       "    </tr>\n",
       "    <tr>\n",
       "      <th>CHCOCNCR</th>\n",
       "      <td>0.000746</td>\n",
       "    </tr>\n",
       "    <tr>\n",
       "      <th>SEXVAR</th>\n",
       "      <td>0.000000</td>\n",
       "    </tr>\n",
       "    <tr>\n",
       "      <th>X_LLCPWT</th>\n",
       "      <td>0.000000</td>\n",
       "    </tr>\n",
       "    <tr>\n",
       "      <th>DISPCODE</th>\n",
       "      <td>0.000000</td>\n",
       "    </tr>\n",
       "    <tr>\n",
       "      <th>X_AGEG5YR</th>\n",
       "      <td>0.000000</td>\n",
       "    </tr>\n",
       "    <tr>\n",
       "      <th>FIPS</th>\n",
       "      <td>0.000000</td>\n",
       "    </tr>\n",
       "  </tbody>\n",
       "</table>\n",
       "</div>"
      ],
      "text/plain": [
       "            %_missing\n",
       "DIABAGE3    87.039939\n",
       "STOPSMK2    86.958090\n",
       "PREGNANT    81.194553\n",
       "NUMADULT    68.966409\n",
       "PSATEST1    68.674588\n",
       "SMOKDAY2    61.032247\n",
       "DRNK3GE5    52.648784\n",
       "AVEDRNK3    52.517676\n",
       "HADMAM      49.367844\n",
       "SMOKDRINK   46.275979\n",
       "HADEXAM     37.835296\n",
       "COLNSCPY    35.676115\n",
       "HIVRISK5     8.939242\n",
       "HIVTST7      8.467800\n",
       "SEATBELT     6.346683\n",
       "HTIN4        5.923007\n",
       "BLIND        3.314774\n",
       "DEAF         3.088631\n",
       "WEIGHT2      2.451002\n",
       "INCOME2      1.830540\n",
       "X_AAWEIGHT   1.773071\n",
       "X_URBSTAT    1.773071\n",
       "ST           1.773071\n",
       "CHILDREN     1.185945\n",
       "EMPLOY1      0.727688\n",
       "VETERAN3     0.325158\n",
       "RENTHOM1     0.003732\n",
       "MARITAL      0.002985\n",
       "EDUCA        0.002985\n",
       "GENHLTH      0.001990\n",
       "RMVTETH4     0.001741\n",
       "LASTDEN4     0.001741\n",
       "ADDEPEV3     0.001493\n",
       "DIABETE4     0.001493\n",
       "CVDINFR4     0.001493\n",
       "CHCKDNY2     0.001493\n",
       "HAVARTH4     0.001244\n",
       "PHYSHLTH     0.001244\n",
       "MENTHLTH     0.001244\n",
       "CHCCOPD2     0.001244\n",
       "HLTHPLN1     0.000746\n",
       "SLEPTIM1     0.000746\n",
       "EXERANY2     0.000746\n",
       "CVDCRHD4     0.000746\n",
       "CVDSTRK3     0.000746\n",
       "ASTHMA3      0.000746\n",
       "CHCSCNCR     0.000746\n",
       "CHCOCNCR     0.000746\n",
       "SEXVAR       0.000000\n",
       "X_LLCPWT     0.000000\n",
       "DISPCODE     0.000000\n",
       "X_AGEG5YR    0.000000\n",
       "FIPS         0.000000"
      ]
     },
     "execution_count": 379,
     "metadata": {},
     "output_type": "execute_result"
    }
   ],
   "source": [
    "#Check percentage of missing values in each columns\n",
    "missing_percentage = {col:(data[col].isna().sum()/len(data[col]))*100 for col in data.columns}\n",
    "# Create DataFrame from the first dictionary\n",
    "df = pd.DataFrame([missing_percentage]).T\n",
    "df.columns = ['%_missing']\n",
    "\n",
    "df = df.sort_values(by= '%_missing', ascending= False)\n",
    "df"
   ]
  },
  {
   "cell_type": "code",
   "execution_count": 380,
   "id": "e58ae1e9",
   "metadata": {},
   "outputs": [
    {
     "data": {
      "text/plain": [
       "(401958, 43)"
      ]
     },
     "execution_count": 380,
     "metadata": {},
     "output_type": "execute_result"
    }
   ],
   "source": [
    "# Drop columns with high missing values\n",
    "drop_columns = ['DIABAGE3', 'STOPSMK2', 'PREGNANT', 'NUMADULT', 'PSATEST1', 'SMOKDAY2', \n",
    "                 'DRNK3GE5', 'AVEDRNK3', 'HADMAM', 'COLNSCPY']\n",
    "\n",
    "# Drop the columns\n",
    "data.drop(columns= drop_columns, inplace= True)\n",
    "data.shape"
   ]
  },
  {
   "cell_type": "code",
   "execution_count": 381,
   "id": "b66e331d",
   "metadata": {},
   "outputs": [
    {
     "name": "stdout",
     "output_type": "stream",
     "text": [
      "<class 'pandas.core.frame.DataFrame'>\n",
      "RangeIndex: 401958 entries, 0 to 401957\n",
      "Data columns (total 43 columns):\n",
      " #   Column      Non-Null Count   Dtype  \n",
      "---  ------      --------------   -----  \n",
      " 0   FIPS        401958 non-null  int64  \n",
      " 1   ST          394831 non-null  object \n",
      " 2   X_URBSTAT   394831 non-null  float64\n",
      " 3   X_AGEG5YR   401958 non-null  int64  \n",
      " 4   DISPCODE    401958 non-null  int64  \n",
      " 5   SEXVAR      401958 non-null  int64  \n",
      " 6   GENHLTH     401950 non-null  float64\n",
      " 7   PHYSHLTH    401953 non-null  float64\n",
      " 8   MENTHLTH    401953 non-null  float64\n",
      " 9   HLTHPLN1    401955 non-null  float64\n",
      " 10  EXERANY2    401955 non-null  float64\n",
      " 11  SLEPTIM1    401955 non-null  float64\n",
      " 12  CVDINFR4    401952 non-null  float64\n",
      " 13  CVDCRHD4    401955 non-null  float64\n",
      " 14  CVDSTRK3    401955 non-null  float64\n",
      " 15  ASTHMA3     401955 non-null  float64\n",
      " 16  CHCSCNCR    401955 non-null  float64\n",
      " 17  CHCOCNCR    401955 non-null  float64\n",
      " 18  CHCCOPD2    401953 non-null  float64\n",
      " 19  HAVARTH4    401953 non-null  float64\n",
      " 20  ADDEPEV3    401952 non-null  float64\n",
      " 21  CHCKDNY2    401952 non-null  float64\n",
      " 22  DIABETE4    401952 non-null  float64\n",
      " 23  LASTDEN4    401951 non-null  float64\n",
      " 24  RMVTETH4    401951 non-null  float64\n",
      " 25  MARITAL     401946 non-null  float64\n",
      " 26  EDUCA       401946 non-null  float64\n",
      " 27  RENTHOM1    401943 non-null  float64\n",
      " 28  VETERAN3    400651 non-null  float64\n",
      " 29  EMPLOY1     399033 non-null  float64\n",
      " 30  CHILDREN    397191 non-null  float64\n",
      " 31  INCOME2     394600 non-null  float64\n",
      " 32  WEIGHT2     392106 non-null  float64\n",
      " 33  HTIN4       378150 non-null  float64\n",
      " 34  DEAF        389543 non-null  float64\n",
      " 35  BLIND       388634 non-null  float64\n",
      " 36  SEATBELT    376447 non-null  float64\n",
      " 37  HIVTST7     367921 non-null  float64\n",
      " 38  HIVRISK5    366026 non-null  float64\n",
      " 39  X_LLCPWT    401958 non-null  float64\n",
      " 40  X_AAWEIGHT  394831 non-null  float64\n",
      " 41  HADEXAM     249876 non-null  float64\n",
      " 42  SMOKDRINK   215948 non-null  float64\n",
      "dtypes: float64(38), int64(4), object(1)\n",
      "memory usage: 131.9+ MB\n"
     ]
    }
   ],
   "source": [
    "data.info()"
   ]
  },
  {
   "cell_type": "code",
   "execution_count": 382,
   "id": "3d3a61d5",
   "metadata": {},
   "outputs": [
    {
     "data": {
      "image/png": "[encoded data removed]",
      "text/plain": [
       "<Figure size 1600x2600 with 44 Axes>"
      ]
     },
     "metadata": {},
     "output_type": "display_data"
    }
   ],
   "source": [
    "# View columns plots\n",
    "\n",
    "fig, axes = plt.subplots(11, 4, figsize=(16, 26))  # Adjust the figsize as needed\n",
    "\n",
    "for i in range(11):  # Iterate over the rows\n",
    "    for j in range(4):  # Iterate over the columns\n",
    "        col_index = i * 4 + j\n",
    "        if col_index < len(data.columns):# Check if column index is within the range of columns\n",
    "            column_name = data.columns[col_index]\n",
    "            if column_name == 'ST':\n",
    "                continue\n",
    "            axes[i, j].hist(data[column_name])\n",
    "            axes[i, j].set_title(column_name)  # Set subplot title as column name\n",
    "\n",
    "plt.tight_layout()  # Adjust subplot parameters to give specified padding\n",
    "plt.show()"
   ]
  },
  {
   "cell_type": "code",
   "execution_count": 383,
   "id": "edc59ba6",
   "metadata": {},
   "outputs": [],
   "source": [
    "# drop ST column since it's a redundancy of FIPS\n",
    "data.drop(columns= 'ST', inplace= True)"
   ]
  },
  {
   "cell_type": "code",
   "execution_count": 384,
   "id": "6e68609e",
   "metadata": {},
   "outputs": [],
   "source": [
    "# Check indices with missing values for target variables\n",
    "nan_indices = data[data[['CHCSCNCR', 'CHCOCNCR']].isna().any(axis=1)].index"
   ]
  },
  {
   "cell_type": "code",
   "execution_count": 385,
   "id": "bc727c59",
   "metadata": {},
   "outputs": [],
   "source": [
    "# Drop the rows with misssing values in out target variable above\n",
    "data.drop(nan_indices, inplace=True)\n",
    "data.reset_index(drop=True, inplace=True)"
   ]
  },
  {
   "cell_type": "code",
   "execution_count": 386,
   "id": "06206320",
   "metadata": {},
   "outputs": [],
   "source": [
    "# Split data into predictor variables (X) and target variables (y)\n",
    "X = data.drop(columns= ['CHCSCNCR', 'CHCOCNCR'])\n",
    "y = data[['CHCSCNCR', 'CHCOCNCR']].copy()"
   ]
  },
  {
   "cell_type": "code",
   "execution_count": 387,
   "id": "b71c502d",
   "metadata": {},
   "outputs": [
    {
     "data": {
      "text/html": [
       "<div>\n",
       "<style scoped>\n",
       "    .dataframe tbody tr th:only-of-type {\n",
       "        vertical-align: middle;\n",
       "    }\n",
       "\n",
       "    .dataframe tbody tr th {\n",
       "        vertical-align: top;\n",
       "    }\n",
       "\n",
       "    .dataframe thead th {\n",
       "        text-align: right;\n",
       "    }\n",
       "</style>\n",
       "<table border=\"1\" class=\"dataframe\">\n",
       "  <thead>\n",
       "    <tr style=\"text-align: right;\">\n",
       "      <th></th>\n",
       "      <th>CHCSCNCR</th>\n",
       "      <th>CHCOCNCR</th>\n",
       "      <th>CHC_CNCR</th>\n",
       "    </tr>\n",
       "  </thead>\n",
       "  <tbody>\n",
       "    <tr>\n",
       "      <th>0</th>\n",
       "      <td>2.0</td>\n",
       "      <td>2.0</td>\n",
       "      <td>2</td>\n",
       "    </tr>\n",
       "    <tr>\n",
       "      <th>1</th>\n",
       "      <td>1.0</td>\n",
       "      <td>2.0</td>\n",
       "      <td>1</td>\n",
       "    </tr>\n",
       "    <tr>\n",
       "      <th>2</th>\n",
       "      <td>2.0</td>\n",
       "      <td>2.0</td>\n",
       "      <td>2</td>\n",
       "    </tr>\n",
       "    <tr>\n",
       "      <th>3</th>\n",
       "      <td>1.0</td>\n",
       "      <td>2.0</td>\n",
       "      <td>1</td>\n",
       "    </tr>\n",
       "    <tr>\n",
       "      <th>4</th>\n",
       "      <td>2.0</td>\n",
       "      <td>2.0</td>\n",
       "      <td>2</td>\n",
       "    </tr>\n",
       "  </tbody>\n",
       "</table>\n",
       "</div>"
      ],
      "text/plain": [
       "   CHCSCNCR  CHCOCNCR  CHC_CNCR\n",
       "0       2.0       2.0         2\n",
       "1       1.0       2.0         1\n",
       "2       2.0       2.0         2\n",
       "3       1.0       2.0         1\n",
       "4       2.0       2.0         2"
      ]
     },
     "execution_count": 387,
     "metadata": {},
     "output_type": "execute_result"
    }
   ],
   "source": [
    "# Feature Engineering\n",
    "## Combine y into a target with one column\n",
    "\n",
    "y.loc[:, 'CHC_CNCR'] = 99  # Default uncertain value\n",
    "y.loc[(data['CHCSCNCR'] == 1) | (data['CHCOCNCR'] == 1), 'CHC_CNCR'] = 1  # Indicates potential cancer\n",
    "y.loc[(data['CHCSCNCR'] == 2) & (data['CHCOCNCR'] == 2), 'CHC_CNCR'] = 2  # Indicates no cancer\n",
    "y.head()"
   ]
  },
  {
   "cell_type": "code",
   "execution_count": 388,
   "id": "c92eb98d",
   "metadata": {},
   "outputs": [
    {
     "data": {
      "text/html": [
       "<div>\n",
       "<style scoped>\n",
       "    .dataframe tbody tr th:only-of-type {\n",
       "        vertical-align: middle;\n",
       "    }\n",
       "\n",
       "    .dataframe tbody tr th {\n",
       "        vertical-align: top;\n",
       "    }\n",
       "\n",
       "    .dataframe thead th {\n",
       "        text-align: right;\n",
       "    }\n",
       "</style>\n",
       "<table border=\"1\" class=\"dataframe\">\n",
       "  <thead>\n",
       "    <tr style=\"text-align: right;\">\n",
       "      <th></th>\n",
       "      <th>CHC_CNCR</th>\n",
       "    </tr>\n",
       "  </thead>\n",
       "  <tbody>\n",
       "    <tr>\n",
       "      <th>0</th>\n",
       "      <td>2</td>\n",
       "    </tr>\n",
       "    <tr>\n",
       "      <th>1</th>\n",
       "      <td>1</td>\n",
       "    </tr>\n",
       "    <tr>\n",
       "      <th>2</th>\n",
       "      <td>2</td>\n",
       "    </tr>\n",
       "    <tr>\n",
       "      <th>3</th>\n",
       "      <td>1</td>\n",
       "    </tr>\n",
       "    <tr>\n",
       "      <th>4</th>\n",
       "      <td>2</td>\n",
       "    </tr>\n",
       "  </tbody>\n",
       "</table>\n",
       "</div>"
      ],
      "text/plain": [
       "   CHC_CNCR\n",
       "0         2\n",
       "1         1\n",
       "2         2\n",
       "3         1\n",
       "4         2"
      ]
     },
     "execution_count": 388,
     "metadata": {},
     "output_type": "execute_result"
    }
   ],
   "source": [
    "y = y.drop(columns= ['CHCSCNCR', 'CHCOCNCR'])\n",
    "y.head()"
   ]
  },
  {
   "cell_type": "code",
   "execution_count": 389,
   "id": "6d46a346",
   "metadata": {},
   "outputs": [],
   "source": [
    "# Convert weights given in kgs back to pounds\n",
    "\n",
    "def convert_kg_to_lb(weight_kg):\n",
    "    # Conversion factor from kilograms to pounds\n",
    "    conversion_factor = 2.20462\n",
    "    # Convert kilograms to pounds\n",
    "    weight_lb = weight_kg * conversion_factor\n",
    "    return weight_lb\n",
    "\n",
    "def convert_back_to_pounds(weight_code):\n",
    "    # Extract the numerical part after '9'\n",
    "    weight_kg = int(str(weight_code)[1:].split('.')[0])\n",
    "    # Convert kilograms to pounds\n",
    "    weight_lb = convert_kg_to_lb(weight_kg)\n",
    "    return weight_lb\n",
    "\n",
    "# Define a function to apply to each value in the 'WEIGHT2' column\n",
    "def apply_conversion(weight_code):\n",
    "    if 9023 <= weight_code <= 9352:\n",
    "        return convert_back_to_pounds(weight_code)\n",
    "    else:\n",
    "        return weight_code  # Keep the original value if not in the specified range"
   ]
  },
  {
   "cell_type": "code",
   "execution_count": 390,
   "id": "76d1ecae",
   "metadata": {},
   "outputs": [],
   "source": [
    "# Apply the function to the 'WEIGHT2' column using map\n",
    "X['WEIGHT2'] = X['WEIGHT2'].map(apply_conversion)"
   ]
  },
  {
   "cell_type": "markdown",
   "id": "740e1d3f",
   "metadata": {},
   "source": [
    "# Train-test Split"
   ]
  },
  {
   "cell_type": "code",
   "execution_count": 408,
   "id": "5f91188d",
   "metadata": {},
   "outputs": [],
   "source": [
    "from sklearn.model_selection import train_test_split\n",
    "\n",
    "#Perform a train test split\n",
    "X_train, X_test, y_train, y_test = train_test_split(X, y, random_state= 42)"
   ]
  },
  {
   "cell_type": "markdown",
   "id": "2f128621",
   "metadata": {},
   "source": [
    "### Handling missing Values"
   ]
  },
  {
   "cell_type": "code",
   "execution_count": 23,
   "id": "850080cd",
   "metadata": {},
   "outputs": [],
   "source": [
    "from sklearn.experimental import enable_iterative_imputer\n",
    "from sklearn.impute import IterativeImputer, KNNImputer\n",
    "from sklearn.ensemble import RandomForestClassifier, RandomForestRegressor"
   ]
  },
  {
   "cell_type": "code",
   "execution_count": 24,
   "id": "8bf333ba",
   "metadata": {},
   "outputs": [],
   "source": [
    "# Separate categorical and numerical features\n",
    "#X_train_cat = X_train.drop(columns=non_cat_columns)\n",
    "#X_train_num = X_train[non_cat_columns]\n",
    "\n",
    "# Imputation for categorical columns\n",
    "#imputer_classifier = IterativeImputer(estimator=RandomForestClassifier(), max_iter=1)\n",
    "#X_train_cat_imputed = pd.DataFrame(imputer_classifier.fit_transform(X_train_cat), columns=X_train_cat.columns)\n",
    "\n",
    "# Imputation for numerical columns\n",
    "#imputer_regressor = IterativeImputer(estimator=RandomForestRegressor(), max_iter=1)\n",
    "#X_train_num_imputed = pd.DataFrame(imputer_regressor.fit_transform(X_train_num), columns=X_train_num.columns)\n",
    "\n",
    "# Concatenate imputed categorical and numerical columns\n",
    "#X_train_imputed = pd.concat([X_train_cat_imputed, X_train_num_imputed], axis=1)"
   ]
  },
  {
   "cell_type": "code",
   "execution_count": 25,
   "id": "a0621137",
   "metadata": {},
   "outputs": [],
   "source": [
    "#Instantiate KNN imputer\n",
    "knn_imputer = KNNImputer(n_neighbors= 100, weights= 'distance')\n",
    "\n",
    "# Fit to X_train data\n",
    "knn_imputer.fit(X_train)\n",
    "\n",
    "# Impute missing values on X_train dataset\n",
    "X_train_imputed = pd.DataFrame(knn_imputer.transform(X_train), columns= X_train.columns)"
   ]
  },
  {
   "cell_type": "code",
   "execution_count": 26,
   "id": "181034ce",
   "metadata": {},
   "outputs": [],
   "source": [
    "# Impute missing values on X_test dataset\n",
    "X_test_imputed = pd.DataFrame(knn_imputer.transform(X_test), columns= X_test.columns)"
   ]
  },
  {
   "cell_type": "code",
   "execution_count": 27,
   "id": "e039d6f0",
   "metadata": {},
   "outputs": [],
   "source": [
    "# List of non-categorical columns\n",
    "non_cat_columns = ['PHYSHLTH', 'SLEPTIM1', 'MENTHLTH', 'CHILDREN', 'WEIGHT2', 'HTIN4']"
   ]
  },
  {
   "cell_type": "code",
   "execution_count": 28,
   "id": "cdd9a8eb",
   "metadata": {},
   "outputs": [
    {
     "data": {
      "text/plain": [
       "{'PHYSHLTH': 35,\n",
       " 'SLEPTIM1': 26,\n",
       " 'MENTHLTH': 35,\n",
       " 'CHILDREN': 3584,\n",
       " 'WEIGHT2': 7948,\n",
       " 'HTIN4': 17897}"
      ]
     },
     "execution_count": 28,
     "metadata": {},
     "output_type": "execute_result"
    }
   ],
   "source": [
    "# Check number of unique values in the non-categorical columns to provide insights on whether to one-hot-encode\n",
    "{col:len(X_train_imputed[col].value_counts()) for col in X_train_imputed[non_cat_columns].columns}"
   ]
  },
  {
   "cell_type": "code",
   "execution_count": 29,
   "id": "b233d038",
   "metadata": {},
   "outputs": [
    {
     "data": {
      "text/plain": [
       "PHYSHLTH\n",
       "88.000000    209148\n",
       "30.000000     18795\n",
       "2.000000      13329\n",
       "1.000000       9375\n",
       "3.000000       7789\n",
       "5.000000       6868\n",
       "77.000000      5239\n",
       "10.000000      5019\n",
       "15.000000      4679\n",
       "7.000000       4278\n",
       "4.000000       4062\n",
       "20.000000      3011\n",
       "14.000000      2638\n",
       "99.000000      1189\n",
       "6.000000       1156\n",
       "25.000000      1103\n",
       "8.000000        891\n",
       "21.000000       587\n",
       "12.000000       542\n",
       "28.000000       410\n",
       "29.000000       205\n",
       "9.000000        181\n",
       "18.000000       165\n",
       "16.000000       131\n",
       "27.000000       123\n",
       "17.000000        95\n",
       "13.000000        89\n",
       "22.000000        79\n",
       "11.000000        77\n",
       "24.000000        68\n",
       "26.000000        59\n",
       "23.000000        46\n",
       "19.000000        38\n",
       "68.294370         1\n",
       "67.590519         1\n",
       "Name: count, dtype: int64"
      ]
     },
     "execution_count": 29,
     "metadata": {},
     "output_type": "execute_result"
    }
   ],
   "source": [
    "X_train_imputed['PHYSHLTH'].value_counts()"
   ]
  },
  {
   "cell_type": "code",
   "execution_count": 30,
   "id": "5d6523b1",
   "metadata": {},
   "outputs": [],
   "source": [
    "# Address invalid values after imputation \n",
    "\n",
    "# Define the list of valid values\n",
    "valid_values = list(range(1, 31)) + [88, 77, 99]\n",
    "\n",
    "# Assign invalid values to value 77\n",
    "X_train_imputed.loc[~X_train_imputed['PHYSHLTH'].isin(valid_values), 'PHYSHLTH'] = 77\n",
    "X_test_imputed.loc[~X_test_imputed['PHYSHLTH'].isin(valid_values), 'PHYSHLTH'] = 77"
   ]
  },
  {
   "cell_type": "code",
   "execution_count": 31,
   "id": "e254aa76",
   "metadata": {},
   "outputs": [
    {
     "data": {
      "text/plain": [
       "PHYSHLTH\n",
       "88.0    209148\n",
       "30.0     18795\n",
       "2.0      13329\n",
       "1.0       9375\n",
       "3.0       7789\n",
       "5.0       6868\n",
       "77.0      5241\n",
       "10.0      5019\n",
       "15.0      4679\n",
       "7.0       4278\n",
       "4.0       4062\n",
       "20.0      3011\n",
       "14.0      2638\n",
       "99.0      1189\n",
       "6.0       1156\n",
       "25.0      1103\n",
       "8.0        891\n",
       "21.0       587\n",
       "12.0       542\n",
       "28.0       410\n",
       "29.0       205\n",
       "9.0        181\n",
       "18.0       165\n",
       "16.0       131\n",
       "27.0       123\n",
       "17.0        95\n",
       "13.0        89\n",
       "22.0        79\n",
       "11.0        77\n",
       "24.0        68\n",
       "26.0        59\n",
       "23.0        46\n",
       "19.0        38\n",
       "Name: count, dtype: int64"
      ]
     },
     "execution_count": 31,
     "metadata": {},
     "output_type": "execute_result"
    }
   ],
   "source": [
    "X_train_imputed['PHYSHLTH'].value_counts()"
   ]
  },
  {
   "cell_type": "code",
   "execution_count": 32,
   "id": "cde87c58",
   "metadata": {},
   "outputs": [
    {
     "data": {
      "text/plain": [
       "MENTHLTH\n",
       "88.000000    191648\n",
       "30.000000     16797\n",
       "2.000000      14606\n",
       "5.000000      12553\n",
       "10.000000      9448\n",
       "3.000000       9342\n",
       "15.000000      9097\n",
       "1.000000       8369\n",
       "7.000000       4900\n",
       "20.000000      4871\n",
       "4.000000       4780\n",
       "77.000000      4376\n",
       "14.000000      1864\n",
       "25.000000      1778\n",
       "99.000000      1617\n",
       "6.000000       1346\n",
       "8.000000       1004\n",
       "12.000000       699\n",
       "28.000000       474\n",
       "21.000000       342\n",
       "29.000000       302\n",
       "18.000000       195\n",
       "9.000000        189\n",
       "16.000000       144\n",
       "27.000000       130\n",
       "17.000000       122\n",
       "13.000000       106\n",
       "22.000000        86\n",
       "11.000000        82\n",
       "24.000000        62\n",
       "23.000000        62\n",
       "26.000000        53\n",
       "19.000000        20\n",
       "78.222802         1\n",
       "56.344052         1\n",
       "Name: count, dtype: int64"
      ]
     },
     "execution_count": 32,
     "metadata": {},
     "output_type": "execute_result"
    }
   ],
   "source": [
    "X_train_imputed['MENTHLTH'].value_counts()"
   ]
  },
  {
   "cell_type": "code",
   "execution_count": 33,
   "id": "cc6c359b",
   "metadata": {},
   "outputs": [],
   "source": [
    "# Address invalid values after imputation \n",
    "\n",
    "# Define the list of valid values\n",
    "valid_values = list(range(1, 31)) + [88, 77, 99]\n",
    "\n",
    "# Assign invalid values to value 77\n",
    "X_train_imputed.loc[~X_train_imputed['MENTHLTH'].isin(valid_values), 'MENTHLTH'] = 77\n",
    "X_test_imputed.loc[~X_test_imputed['MENTHLTH'].isin(valid_values), 'MENTHLTH'] = 77"
   ]
  },
  {
   "cell_type": "code",
   "execution_count": 34,
   "id": "05f3efc0",
   "metadata": {},
   "outputs": [
    {
     "data": {
      "text/plain": [
       "MENTHLTH\n",
       "88.0    191648\n",
       "30.0     16797\n",
       "2.0      14606\n",
       "5.0      12553\n",
       "10.0      9448\n",
       "3.0       9342\n",
       "15.0      9097\n",
       "1.0       8369\n",
       "7.0       4900\n",
       "20.0      4871\n",
       "4.0       4780\n",
       "77.0      4378\n",
       "14.0      1864\n",
       "25.0      1778\n",
       "99.0      1617\n",
       "6.0       1346\n",
       "8.0       1004\n",
       "12.0       699\n",
       "28.0       474\n",
       "21.0       342\n",
       "29.0       302\n",
       "18.0       195\n",
       "9.0        189\n",
       "16.0       144\n",
       "27.0       130\n",
       "17.0       122\n",
       "13.0       106\n",
       "22.0        86\n",
       "11.0        82\n",
       "24.0        62\n",
       "23.0        62\n",
       "26.0        53\n",
       "19.0        20\n",
       "Name: count, dtype: int64"
      ]
     },
     "execution_count": 34,
     "metadata": {},
     "output_type": "execute_result"
    }
   ],
   "source": [
    "X_train_imputed['MENTHLTH'].value_counts()"
   ]
  },
  {
   "cell_type": "code",
   "execution_count": 35,
   "id": "f8f3f5b3",
   "metadata": {},
   "outputs": [
    {
     "data": {
      "text/plain": [
       "SLEPTIM1\n",
       "8.0     92046\n",
       "7.0     88920\n",
       "6.0     62007\n",
       "5.0     18228\n",
       "9.0     14832\n",
       "4.0      7517\n",
       "10.0     7421\n",
       "77.0     3071\n",
       "12.0     2163\n",
       "3.0      1992\n",
       "2.0       821\n",
       "1.0       571\n",
       "99.0      452\n",
       "11.0      435\n",
       "14.0      234\n",
       "16.0      227\n",
       "15.0      184\n",
       "18.0      104\n",
       "13.0      101\n",
       "20.0       65\n",
       "24.0       34\n",
       "17.0       21\n",
       "22.0        7\n",
       "19.0        6\n",
       "23.0        5\n",
       "21.0        2\n",
       "Name: count, dtype: int64"
      ]
     },
     "execution_count": 35,
     "metadata": {},
     "output_type": "execute_result"
    }
   ],
   "source": [
    "X_train_imputed['SLEPTIM1'].value_counts()"
   ]
  },
  {
   "cell_type": "code",
   "execution_count": 36,
   "id": "0a8c8ebb",
   "metadata": {},
   "outputs": [],
   "source": [
    "# Define the list of valid values\n",
    "valid_values = list(range(1, 25)) + [77, 99]\n",
    "\n",
    "# Assign invalid values to value 77\n",
    "X_train_imputed.loc[~X_train_imputed['SLEPTIM1'].isin(valid_values), 'SLEPTIM1'] = 77\n",
    "X_test_imputed.loc[~X_test_imputed['SLEPTIM1'].isin(valid_values), 'SLEPTIM1'] = 77"
   ]
  },
  {
   "cell_type": "code",
   "execution_count": 37,
   "id": "5ba035ac",
   "metadata": {},
   "outputs": [
    {
     "data": {
      "text/plain": [
       "SLEPTIM1\n",
       "8.0     92046\n",
       "7.0     88920\n",
       "6.0     62007\n",
       "5.0     18228\n",
       "9.0     14832\n",
       "4.0      7517\n",
       "10.0     7421\n",
       "77.0     3071\n",
       "12.0     2163\n",
       "3.0      1992\n",
       "2.0       821\n",
       "1.0       571\n",
       "99.0      452\n",
       "11.0      435\n",
       "14.0      234\n",
       "16.0      227\n",
       "15.0      184\n",
       "18.0      104\n",
       "13.0      101\n",
       "20.0       65\n",
       "24.0       34\n",
       "17.0       21\n",
       "22.0        7\n",
       "19.0        6\n",
       "23.0        5\n",
       "21.0        2\n",
       "Name: count, dtype: int64"
      ]
     },
     "execution_count": 37,
     "metadata": {},
     "output_type": "execute_result"
    }
   ],
   "source": [
    "X_train_imputed['SLEPTIM1'].value_counts()"
   ]
  },
  {
   "cell_type": "code",
   "execution_count": 38,
   "id": "561790ba",
   "metadata": {},
   "outputs": [
    {
     "data": {
      "text/plain": [
       "CHILDREN\n",
       "88.000000    216804\n",
       "1.000000      32550\n",
       "2.000000      27120\n",
       "3.000000      11859\n",
       "4.000000       4471\n",
       "              ...  \n",
       "83.027207         1\n",
       "64.722769         1\n",
       "69.224947         1\n",
       "62.491620         1\n",
       "51.772587         1\n",
       "Name: count, Length: 3584, dtype: int64"
      ]
     },
     "execution_count": 38,
     "metadata": {},
     "output_type": "execute_result"
    }
   ],
   "source": [
    "X_train_imputed['CHILDREN'].value_counts()"
   ]
  },
  {
   "cell_type": "code",
   "execution_count": 39,
   "id": "3b73c926",
   "metadata": {},
   "outputs": [],
   "source": [
    "# Define the list of valid values\n",
    "valid_values = list(range(1, 88)) + [88, 99]\n",
    "\n",
    "# Assign invalid values to value 88\n",
    "X_train_imputed.loc[~X_train_imputed['CHILDREN'].isin(valid_values), 'CHILDREN'] = 88\n",
    "X_test_imputed.loc[~X_test_imputed['CHILDREN'].isin(valid_values), 'CHILDREN'] = 88"
   ]
  },
  {
   "cell_type": "code",
   "execution_count": 40,
   "id": "93fb61bc",
   "metadata": {},
   "outputs": [
    {
     "data": {
      "text/plain": [
       "CHILDREN\n",
       "88.0    220363\n",
       "1.0      32550\n",
       "2.0      27120\n",
       "3.0      11859\n",
       "4.0       4471\n",
       "99.0      2745\n",
       "5.0       1419\n",
       "6.0        538\n",
       "7.0        203\n",
       "8.0         94\n",
       "9.0         42\n",
       "10.0        22\n",
       "15.0         8\n",
       "11.0         7\n",
       "81.0         5\n",
       "12.0         5\n",
       "16.0         3\n",
       "13.0         3\n",
       "19.0         2\n",
       "24.0         2\n",
       "22.0         1\n",
       "82.0         1\n",
       "77.0         1\n",
       "23.0         1\n",
       "14.0         1\n",
       "Name: count, dtype: int64"
      ]
     },
     "execution_count": 40,
     "metadata": {},
     "output_type": "execute_result"
    }
   ],
   "source": [
    "X_train_imputed['CHILDREN'].value_counts()"
   ]
  },
  {
   "cell_type": "code",
   "execution_count": 41,
   "id": "ff714eea",
   "metadata": {},
   "outputs": [
    {
     "data": {
      "text/plain": [
       "WEIGHT2\n",
       "200.000000     14844\n",
       "180.000000     13861\n",
       "9999.000000    13484\n",
       "150.000000     12473\n",
       "160.000000     12450\n",
       "               ...  \n",
       "1409.753294        1\n",
       "1139.054085        1\n",
       "712.944174         1\n",
       "1130.812382        1\n",
       "1254.418170        1\n",
       "Name: count, Length: 7948, dtype: int64"
      ]
     },
     "execution_count": 41,
     "metadata": {},
     "output_type": "execute_result"
    }
   ],
   "source": [
    "X_train_imputed['WEIGHT2'].value_counts()"
   ]
  },
  {
   "cell_type": "code",
   "execution_count": 42,
   "id": "8af8d4c0",
   "metadata": {},
   "outputs": [],
   "source": [
    "# Assign invalid values (greater than 776 lbs) to value 7777\n",
    "X_train_imputed.loc[X_train_imputed['WEIGHT2'] > 776, 'WEIGHT2'] = 7777\n",
    "X_test_imputed.loc[X_test_imputed['WEIGHT2'] > 776, 'WEIGHT2'] = 7777"
   ]
  },
  {
   "cell_type": "code",
   "execution_count": 43,
   "id": "270b9a73",
   "metadata": {},
   "outputs": [
    {
     "data": {
      "text/plain": [
       "WEIGHT2\n",
       "7777.000000    23800\n",
       "200.000000     14844\n",
       "180.000000     13861\n",
       "150.000000     12473\n",
       "160.000000     12450\n",
       "               ...  \n",
       "555.301979         1\n",
       "718.294930         1\n",
       "666.589594         1\n",
       "754.859360         1\n",
       "511.564283         1\n",
       "Name: count, Length: 2930, dtype: int64"
      ]
     },
     "execution_count": 43,
     "metadata": {},
     "output_type": "execute_result"
    }
   ],
   "source": [
    "X_train_imputed['WEIGHT2'].value_counts()"
   ]
  },
  {
   "cell_type": "code",
   "execution_count": 44,
   "id": "efe198d9",
   "metadata": {},
   "outputs": [
    {
     "data": {
      "text/plain": [
       "HTIN4\n",
       "66.000000    25280\n",
       "64.000000    24776\n",
       "67.000000    22859\n",
       "65.000000    22413\n",
       "70.000000    21420\n",
       "             ...  \n",
       "67.726484        1\n",
       "68.171153        1\n",
       "65.173926        1\n",
       "66.823473        1\n",
       "67.711487        1\n",
       "Name: count, Length: 17897, dtype: int64"
      ]
     },
     "execution_count": 44,
     "metadata": {},
     "output_type": "execute_result"
    }
   ],
   "source": [
    "X_train_imputed['HTIN4'].value_counts()"
   ]
  },
  {
   "cell_type": "code",
   "execution_count": 45,
   "id": "26984058",
   "metadata": {},
   "outputs": [],
   "source": [
    "# Assign invalid values (greater than 95 inches) to value 99\n",
    "X_train_imputed.loc[X_train_imputed['HTIN4'] > 95, 'HTIN4'] = 99\n",
    "X_test_imputed.loc[X_test_imputed['HTIN4'] > 95, 'HTIN4'] = 99"
   ]
  },
  {
   "cell_type": "markdown",
   "id": "0c111441",
   "metadata": {},
   "source": [
    "# >>>>>>>"
   ]
  },
  {
   "cell_type": "code",
   "execution_count": 46,
   "id": "e500bd9b",
   "metadata": {},
   "outputs": [],
   "source": [
    "# Save DataFrame to CSV file in a specific directory\n",
    "X_train_imputed.to_csv('/Users/dave/Documents/Flatiron/Capstone Project/Cancer-Screening-Project/Data/X_train_preprocessed.csv', index=True)  #Save processed X_train data\n",
    "y_train.to_csv('/Users/dave/Documents/Flatiron/Capstone Project/Cancer-Screening-Project/Data/y_train_preprocessed.csv', index=True)          #Save processed y_train data\n",
    "X_test_imputed.to_csv('/Users/dave/Documents/Flatiron/Capstone Project/Cancer-Screening-Project/Data/X_test_preprocessed.csv', index=True)  #Save processed X_test data\n",
    "y_test.to_csv('/Users/dave/Documents/Flatiron/Capstone Project/Cancer-Screening-Project/Data/y_test_preprocessed.csv', index=True)          #Save processed y_test data"
   ]
  },
  {
   "cell_type": "code",
   "execution_count": 47,
   "id": "0e43bd3d",
   "metadata": {},
   "outputs": [],
   "source": [
    "# Load preprocessed X_train and X_test \n",
    "\n",
    "X_train_imputed = pd.read_csv('/Users/dave/Documents/Flatiron/Capstone Project/Cancer-Screening-Project/Data/X_train_preprocessed.csv')\n",
    "y_train = pd.read_csv('/Users/dave/Documents/Flatiron/Capstone Project/Cancer-Screening-Project/Data/y_train_preprocessed.csv')\n",
    "X_test_imputed = pd.read_csv('/Users/dave/Documents/Flatiron/Capstone Project/Cancer-Screening-Project/Data/X_test_preprocessed.csv')\n",
    "y_test = pd.read_csv('/Users/dave/Documents/Flatiron/Capstone Project/Cancer-Screening-Project/Data/y_test_preprocessed.csv')\n"
   ]
  },
  {
   "cell_type": "code",
   "execution_count": 48,
   "id": "02e4f618",
   "metadata": {},
   "outputs": [
    {
     "data": {
      "text/html": [
       "<div>\n",
       "<style scoped>\n",
       "    .dataframe tbody tr th:only-of-type {\n",
       "        vertical-align: middle;\n",
       "    }\n",
       "\n",
       "    .dataframe tbody tr th {\n",
       "        vertical-align: top;\n",
       "    }\n",
       "\n",
       "    .dataframe thead th {\n",
       "        text-align: right;\n",
       "    }\n",
       "</style>\n",
       "<table border=\"1\" class=\"dataframe\">\n",
       "  <thead>\n",
       "    <tr style=\"text-align: right;\">\n",
       "      <th></th>\n",
       "      <th>Unnamed: 0</th>\n",
       "      <th>FIPS</th>\n",
       "      <th>X_URBSTAT</th>\n",
       "      <th>X_AGEG5YR</th>\n",
       "      <th>DISPCODE</th>\n",
       "      <th>SEXVAR</th>\n",
       "      <th>GENHLTH</th>\n",
       "      <th>PHYSHLTH</th>\n",
       "      <th>MENTHLTH</th>\n",
       "      <th>HLTHPLN1</th>\n",
       "      <th>...</th>\n",
       "      <th>HTIN4</th>\n",
       "      <th>DEAF</th>\n",
       "      <th>BLIND</th>\n",
       "      <th>SEATBELT</th>\n",
       "      <th>HIVTST7</th>\n",
       "      <th>HIVRISK5</th>\n",
       "      <th>X_LLCPWT</th>\n",
       "      <th>X_AAWEIGHT</th>\n",
       "      <th>HADEXAM</th>\n",
       "      <th>SMOKDRINK</th>\n",
       "    </tr>\n",
       "  </thead>\n",
       "  <tbody>\n",
       "    <tr>\n",
       "      <th>0</th>\n",
       "      <td>0</td>\n",
       "      <td>39.0</td>\n",
       "      <td>1.0</td>\n",
       "      <td>6.0</td>\n",
       "      <td>1100.0</td>\n",
       "      <td>1.0</td>\n",
       "      <td>3.0</td>\n",
       "      <td>88.0</td>\n",
       "      <td>88.0</td>\n",
       "      <td>1.0</td>\n",
       "      <td>...</td>\n",
       "      <td>69.0</td>\n",
       "      <td>2.0</td>\n",
       "      <td>2.0</td>\n",
       "      <td>1.0</td>\n",
       "      <td>2.000000</td>\n",
       "      <td>2.000000</td>\n",
       "      <td>750.791643</td>\n",
       "      <td>865.974544</td>\n",
       "      <td>1.106918</td>\n",
       "      <td>1.259299</td>\n",
       "    </tr>\n",
       "    <tr>\n",
       "      <th>1</th>\n",
       "      <td>1</td>\n",
       "      <td>25.0</td>\n",
       "      <td>1.0</td>\n",
       "      <td>9.0</td>\n",
       "      <td>1100.0</td>\n",
       "      <td>2.0</td>\n",
       "      <td>2.0</td>\n",
       "      <td>88.0</td>\n",
       "      <td>5.0</td>\n",
       "      <td>1.0</td>\n",
       "      <td>...</td>\n",
       "      <td>63.0</td>\n",
       "      <td>2.0</td>\n",
       "      <td>2.0</td>\n",
       "      <td>1.0</td>\n",
       "      <td>1.000000</td>\n",
       "      <td>2.000000</td>\n",
       "      <td>196.090804</td>\n",
       "      <td>151.543908</td>\n",
       "      <td>1.000000</td>\n",
       "      <td>1.000000</td>\n",
       "    </tr>\n",
       "    <tr>\n",
       "      <th>2</th>\n",
       "      <td>2</td>\n",
       "      <td>19.0</td>\n",
       "      <td>1.0</td>\n",
       "      <td>9.0</td>\n",
       "      <td>1100.0</td>\n",
       "      <td>2.0</td>\n",
       "      <td>3.0</td>\n",
       "      <td>88.0</td>\n",
       "      <td>88.0</td>\n",
       "      <td>1.0</td>\n",
       "      <td>...</td>\n",
       "      <td>64.0</td>\n",
       "      <td>2.0</td>\n",
       "      <td>2.0</td>\n",
       "      <td>1.0</td>\n",
       "      <td>2.000000</td>\n",
       "      <td>2.000000</td>\n",
       "      <td>216.153724</td>\n",
       "      <td>177.600633</td>\n",
       "      <td>1.000000</td>\n",
       "      <td>1.000000</td>\n",
       "    </tr>\n",
       "    <tr>\n",
       "      <th>3</th>\n",
       "      <td>3</td>\n",
       "      <td>4.0</td>\n",
       "      <td>1.0</td>\n",
       "      <td>3.0</td>\n",
       "      <td>1100.0</td>\n",
       "      <td>2.0</td>\n",
       "      <td>3.0</td>\n",
       "      <td>12.0</td>\n",
       "      <td>2.0</td>\n",
       "      <td>1.0</td>\n",
       "      <td>...</td>\n",
       "      <td>63.0</td>\n",
       "      <td>2.0</td>\n",
       "      <td>1.0</td>\n",
       "      <td>1.0</td>\n",
       "      <td>1.000000</td>\n",
       "      <td>2.000000</td>\n",
       "      <td>422.439604</td>\n",
       "      <td>672.741039</td>\n",
       "      <td>1.098275</td>\n",
       "      <td>1.000000</td>\n",
       "    </tr>\n",
       "    <tr>\n",
       "      <th>4</th>\n",
       "      <td>4</td>\n",
       "      <td>49.0</td>\n",
       "      <td>1.0</td>\n",
       "      <td>6.0</td>\n",
       "      <td>1200.0</td>\n",
       "      <td>1.0</td>\n",
       "      <td>3.0</td>\n",
       "      <td>88.0</td>\n",
       "      <td>88.0</td>\n",
       "      <td>1.0</td>\n",
       "      <td>...</td>\n",
       "      <td>68.0</td>\n",
       "      <td>2.0</td>\n",
       "      <td>2.0</td>\n",
       "      <td>1.0</td>\n",
       "      <td>1.764556</td>\n",
       "      <td>2.076261</td>\n",
       "      <td>317.087789</td>\n",
       "      <td>349.916472</td>\n",
       "      <td>1.286063</td>\n",
       "      <td>1.000000</td>\n",
       "    </tr>\n",
       "  </tbody>\n",
       "</table>\n",
       "<p>5 rows × 41 columns</p>\n",
       "</div>"
      ],
      "text/plain": [
       "   Unnamed: 0  FIPS  X_URBSTAT  X_AGEG5YR  DISPCODE  SEXVAR  GENHLTH  \\\n",
       "0           0  39.0        1.0        6.0    1100.0     1.0      3.0   \n",
       "1           1  25.0        1.0        9.0    1100.0     2.0      2.0   \n",
       "2           2  19.0        1.0        9.0    1100.0     2.0      3.0   \n",
       "3           3   4.0        1.0        3.0    1100.0     2.0      3.0   \n",
       "4           4  49.0        1.0        6.0    1200.0     1.0      3.0   \n",
       "\n",
       "   PHYSHLTH  MENTHLTH  HLTHPLN1  ...  HTIN4  DEAF  BLIND  SEATBELT   HIVTST7  \\\n",
       "0      88.0      88.0       1.0  ...   69.0   2.0    2.0       1.0  2.000000   \n",
       "1      88.0       5.0       1.0  ...   63.0   2.0    2.0       1.0  1.000000   \n",
       "2      88.0      88.0       1.0  ...   64.0   2.0    2.0       1.0  2.000000   \n",
       "3      12.0       2.0       1.0  ...   63.0   2.0    1.0       1.0  1.000000   \n",
       "4      88.0      88.0       1.0  ...   68.0   2.0    2.0       1.0  1.764556   \n",
       "\n",
       "   HIVRISK5    X_LLCPWT  X_AAWEIGHT   HADEXAM  SMOKDRINK  \n",
       "0  2.000000  750.791643  865.974544  1.106918   1.259299  \n",
       "1  2.000000  196.090804  151.543908  1.000000   1.000000  \n",
       "2  2.000000  216.153724  177.600633  1.000000   1.000000  \n",
       "3  2.000000  422.439604  672.741039  1.098275   1.000000  \n",
       "4  2.076261  317.087789  349.916472  1.286063   1.000000  \n",
       "\n",
       "[5 rows x 41 columns]"
      ]
     },
     "execution_count": 48,
     "metadata": {},
     "output_type": "execute_result"
    }
   ],
   "source": [
    "X_train_imputed.head()"
   ]
  },
  {
   "cell_type": "code",
   "execution_count": 49,
   "id": "4bc5bc6a",
   "metadata": {},
   "outputs": [
    {
     "data": {
      "text/html": [
       "<div>\n",
       "<style scoped>\n",
       "    .dataframe tbody tr th:only-of-type {\n",
       "        vertical-align: middle;\n",
       "    }\n",
       "\n",
       "    .dataframe tbody tr th {\n",
       "        vertical-align: top;\n",
       "    }\n",
       "\n",
       "    .dataframe thead th {\n",
       "        text-align: right;\n",
       "    }\n",
       "</style>\n",
       "<table border=\"1\" class=\"dataframe\">\n",
       "  <thead>\n",
       "    <tr style=\"text-align: right;\">\n",
       "      <th></th>\n",
       "      <th>FIPS</th>\n",
       "      <th>X_URBSTAT</th>\n",
       "      <th>X_AGEG5YR</th>\n",
       "      <th>DISPCODE</th>\n",
       "      <th>SEXVAR</th>\n",
       "      <th>GENHLTH</th>\n",
       "      <th>PHYSHLTH</th>\n",
       "      <th>MENTHLTH</th>\n",
       "      <th>HLTHPLN1</th>\n",
       "      <th>EXERANY2</th>\n",
       "      <th>...</th>\n",
       "      <th>HTIN4</th>\n",
       "      <th>DEAF</th>\n",
       "      <th>BLIND</th>\n",
       "      <th>SEATBELT</th>\n",
       "      <th>HIVTST7</th>\n",
       "      <th>HIVRISK5</th>\n",
       "      <th>X_LLCPWT</th>\n",
       "      <th>X_AAWEIGHT</th>\n",
       "      <th>HADEXAM</th>\n",
       "      <th>SMOKDRINK</th>\n",
       "    </tr>\n",
       "  </thead>\n",
       "  <tbody>\n",
       "    <tr>\n",
       "      <th>285161</th>\n",
       "      <td>39</td>\n",
       "      <td>1.0</td>\n",
       "      <td>6</td>\n",
       "      <td>1100</td>\n",
       "      <td>1</td>\n",
       "      <td>3.0</td>\n",
       "      <td>88.0</td>\n",
       "      <td>88.0</td>\n",
       "      <td>1.0</td>\n",
       "      <td>1.0</td>\n",
       "      <td>...</td>\n",
       "      <td>69.0</td>\n",
       "      <td>2.0</td>\n",
       "      <td>2.0</td>\n",
       "      <td>1.0</td>\n",
       "      <td>2.0</td>\n",
       "      <td>2.0</td>\n",
       "      <td>750.791643</td>\n",
       "      <td>865.974544</td>\n",
       "      <td>NaN</td>\n",
       "      <td>NaN</td>\n",
       "    </tr>\n",
       "    <tr>\n",
       "      <th>163053</th>\n",
       "      <td>25</td>\n",
       "      <td>1.0</td>\n",
       "      <td>9</td>\n",
       "      <td>1100</td>\n",
       "      <td>2</td>\n",
       "      <td>2.0</td>\n",
       "      <td>88.0</td>\n",
       "      <td>5.0</td>\n",
       "      <td>1.0</td>\n",
       "      <td>1.0</td>\n",
       "      <td>...</td>\n",
       "      <td>63.0</td>\n",
       "      <td>2.0</td>\n",
       "      <td>2.0</td>\n",
       "      <td>1.0</td>\n",
       "      <td>1.0</td>\n",
       "      <td>2.0</td>\n",
       "      <td>196.090804</td>\n",
       "      <td>151.543908</td>\n",
       "      <td>1.0</td>\n",
       "      <td>1.0</td>\n",
       "    </tr>\n",
       "    <tr>\n",
       "      <th>104402</th>\n",
       "      <td>19</td>\n",
       "      <td>1.0</td>\n",
       "      <td>9</td>\n",
       "      <td>1100</td>\n",
       "      <td>2</td>\n",
       "      <td>3.0</td>\n",
       "      <td>88.0</td>\n",
       "      <td>88.0</td>\n",
       "      <td>1.0</td>\n",
       "      <td>1.0</td>\n",
       "      <td>...</td>\n",
       "      <td>64.0</td>\n",
       "      <td>2.0</td>\n",
       "      <td>2.0</td>\n",
       "      <td>1.0</td>\n",
       "      <td>2.0</td>\n",
       "      <td>2.0</td>\n",
       "      <td>216.153724</td>\n",
       "      <td>177.600633</td>\n",
       "      <td>1.0</td>\n",
       "      <td>1.0</td>\n",
       "    </tr>\n",
       "    <tr>\n",
       "      <th>19106</th>\n",
       "      <td>4</td>\n",
       "      <td>1.0</td>\n",
       "      <td>3</td>\n",
       "      <td>1100</td>\n",
       "      <td>2</td>\n",
       "      <td>3.0</td>\n",
       "      <td>12.0</td>\n",
       "      <td>2.0</td>\n",
       "      <td>1.0</td>\n",
       "      <td>1.0</td>\n",
       "      <td>...</td>\n",
       "      <td>63.0</td>\n",
       "      <td>2.0</td>\n",
       "      <td>1.0</td>\n",
       "      <td>1.0</td>\n",
       "      <td>1.0</td>\n",
       "      <td>2.0</td>\n",
       "      <td>422.439604</td>\n",
       "      <td>672.741039</td>\n",
       "      <td>NaN</td>\n",
       "      <td>1.0</td>\n",
       "    </tr>\n",
       "    <tr>\n",
       "      <th>341849</th>\n",
       "      <td>49</td>\n",
       "      <td>1.0</td>\n",
       "      <td>6</td>\n",
       "      <td>1200</td>\n",
       "      <td>1</td>\n",
       "      <td>3.0</td>\n",
       "      <td>88.0</td>\n",
       "      <td>88.0</td>\n",
       "      <td>1.0</td>\n",
       "      <td>1.0</td>\n",
       "      <td>...</td>\n",
       "      <td>68.0</td>\n",
       "      <td>2.0</td>\n",
       "      <td>2.0</td>\n",
       "      <td>1.0</td>\n",
       "      <td>NaN</td>\n",
       "      <td>NaN</td>\n",
       "      <td>317.087789</td>\n",
       "      <td>349.916472</td>\n",
       "      <td>NaN</td>\n",
       "      <td>1.0</td>\n",
       "    </tr>\n",
       "  </tbody>\n",
       "</table>\n",
       "<p>5 rows × 40 columns</p>\n",
       "</div>"
      ],
      "text/plain": [
       "        FIPS  X_URBSTAT  X_AGEG5YR  DISPCODE  SEXVAR  GENHLTH  PHYSHLTH  \\\n",
       "285161    39        1.0          6      1100       1      3.0      88.0   \n",
       "163053    25        1.0          9      1100       2      2.0      88.0   \n",
       "104402    19        1.0          9      1100       2      3.0      88.0   \n",
       "19106      4        1.0          3      1100       2      3.0      12.0   \n",
       "341849    49        1.0          6      1200       1      3.0      88.0   \n",
       "\n",
       "        MENTHLTH  HLTHPLN1  EXERANY2  ...  HTIN4  DEAF  BLIND  SEATBELT  \\\n",
       "285161      88.0       1.0       1.0  ...   69.0   2.0    2.0       1.0   \n",
       "163053       5.0       1.0       1.0  ...   63.0   2.0    2.0       1.0   \n",
       "104402      88.0       1.0       1.0  ...   64.0   2.0    2.0       1.0   \n",
       "19106        2.0       1.0       1.0  ...   63.0   2.0    1.0       1.0   \n",
       "341849      88.0       1.0       1.0  ...   68.0   2.0    2.0       1.0   \n",
       "\n",
       "        HIVTST7  HIVRISK5    X_LLCPWT  X_AAWEIGHT  HADEXAM  SMOKDRINK  \n",
       "285161      2.0       2.0  750.791643  865.974544      NaN        NaN  \n",
       "163053      1.0       2.0  196.090804  151.543908      1.0        1.0  \n",
       "104402      2.0       2.0  216.153724  177.600633      1.0        1.0  \n",
       "19106       1.0       2.0  422.439604  672.741039      NaN        1.0  \n",
       "341849      NaN       NaN  317.087789  349.916472      NaN        1.0  \n",
       "\n",
       "[5 rows x 40 columns]"
      ]
     },
     "execution_count": 49,
     "metadata": {},
     "output_type": "execute_result"
    }
   ],
   "source": [
    "X_train.head()"
   ]
  },
  {
   "cell_type": "code",
   "execution_count": 50,
   "id": "2d164b03",
   "metadata": {},
   "outputs": [
    {
     "data": {
      "text/html": [
       "<div>\n",
       "<style scoped>\n",
       "    .dataframe tbody tr th:only-of-type {\n",
       "        vertical-align: middle;\n",
       "    }\n",
       "\n",
       "    .dataframe tbody tr th {\n",
       "        vertical-align: top;\n",
       "    }\n",
       "\n",
       "    .dataframe thead th {\n",
       "        text-align: right;\n",
       "    }\n",
       "</style>\n",
       "<table border=\"1\" class=\"dataframe\">\n",
       "  <thead>\n",
       "    <tr style=\"text-align: right;\">\n",
       "      <th></th>\n",
       "      <th>CHC_CNCR</th>\n",
       "    </tr>\n",
       "  </thead>\n",
       "  <tbody>\n",
       "    <tr>\n",
       "      <th>285161</th>\n",
       "      <td>2</td>\n",
       "    </tr>\n",
       "    <tr>\n",
       "      <th>163053</th>\n",
       "      <td>1</td>\n",
       "    </tr>\n",
       "    <tr>\n",
       "      <th>104402</th>\n",
       "      <td>2</td>\n",
       "    </tr>\n",
       "    <tr>\n",
       "      <th>19106</th>\n",
       "      <td>1</td>\n",
       "    </tr>\n",
       "    <tr>\n",
       "      <th>341849</th>\n",
       "      <td>2</td>\n",
       "    </tr>\n",
       "  </tbody>\n",
       "</table>\n",
       "</div>"
      ],
      "text/plain": [
       "        CHC_CNCR\n",
       "285161         2\n",
       "163053         1\n",
       "104402         2\n",
       "19106          1\n",
       "341849         2"
      ]
     },
     "execution_count": 50,
     "metadata": {},
     "output_type": "execute_result"
    }
   ],
   "source": [
    "y_train.head()"
   ]
  },
  {
   "cell_type": "code",
   "execution_count": 51,
   "id": "0b9054f3",
   "metadata": {},
   "outputs": [],
   "source": [
    "# Reassign indices for X_train_imputed and X_test_imputed since they seem to have been lost\n",
    "X_train_imputed.index = X_train.index\n",
    "X_test_imputed.index = X_test.index"
   ]
  },
  {
   "cell_type": "code",
   "execution_count": 52,
   "id": "148d0202",
   "metadata": {},
   "outputs": [
    {
     "data": {
      "text/html": [
       "<div>\n",
       "<style scoped>\n",
       "    .dataframe tbody tr th:only-of-type {\n",
       "        vertical-align: middle;\n",
       "    }\n",
       "\n",
       "    .dataframe tbody tr th {\n",
       "        vertical-align: top;\n",
       "    }\n",
       "\n",
       "    .dataframe thead th {\n",
       "        text-align: right;\n",
       "    }\n",
       "</style>\n",
       "<table border=\"1\" class=\"dataframe\">\n",
       "  <thead>\n",
       "    <tr style=\"text-align: right;\">\n",
       "      <th></th>\n",
       "      <th>Unnamed: 0</th>\n",
       "      <th>FIPS</th>\n",
       "      <th>X_URBSTAT</th>\n",
       "      <th>X_AGEG5YR</th>\n",
       "      <th>DISPCODE</th>\n",
       "      <th>SEXVAR</th>\n",
       "      <th>GENHLTH</th>\n",
       "      <th>PHYSHLTH</th>\n",
       "      <th>MENTHLTH</th>\n",
       "      <th>HLTHPLN1</th>\n",
       "      <th>...</th>\n",
       "      <th>HTIN4</th>\n",
       "      <th>DEAF</th>\n",
       "      <th>BLIND</th>\n",
       "      <th>SEATBELT</th>\n",
       "      <th>HIVTST7</th>\n",
       "      <th>HIVRISK5</th>\n",
       "      <th>X_LLCPWT</th>\n",
       "      <th>X_AAWEIGHT</th>\n",
       "      <th>HADEXAM</th>\n",
       "      <th>SMOKDRINK</th>\n",
       "    </tr>\n",
       "  </thead>\n",
       "  <tbody>\n",
       "    <tr>\n",
       "      <th>285161</th>\n",
       "      <td>0</td>\n",
       "      <td>39.0</td>\n",
       "      <td>1.0</td>\n",
       "      <td>6.0</td>\n",
       "      <td>1100.0</td>\n",
       "      <td>1.0</td>\n",
       "      <td>3.0</td>\n",
       "      <td>88.0</td>\n",
       "      <td>88.0</td>\n",
       "      <td>1.0</td>\n",
       "      <td>...</td>\n",
       "      <td>69.0</td>\n",
       "      <td>2.0</td>\n",
       "      <td>2.0</td>\n",
       "      <td>1.0</td>\n",
       "      <td>2.000000</td>\n",
       "      <td>2.000000</td>\n",
       "      <td>750.791643</td>\n",
       "      <td>865.974544</td>\n",
       "      <td>1.106918</td>\n",
       "      <td>1.259299</td>\n",
       "    </tr>\n",
       "    <tr>\n",
       "      <th>163053</th>\n",
       "      <td>1</td>\n",
       "      <td>25.0</td>\n",
       "      <td>1.0</td>\n",
       "      <td>9.0</td>\n",
       "      <td>1100.0</td>\n",
       "      <td>2.0</td>\n",
       "      <td>2.0</td>\n",
       "      <td>88.0</td>\n",
       "      <td>5.0</td>\n",
       "      <td>1.0</td>\n",
       "      <td>...</td>\n",
       "      <td>63.0</td>\n",
       "      <td>2.0</td>\n",
       "      <td>2.0</td>\n",
       "      <td>1.0</td>\n",
       "      <td>1.000000</td>\n",
       "      <td>2.000000</td>\n",
       "      <td>196.090804</td>\n",
       "      <td>151.543908</td>\n",
       "      <td>1.000000</td>\n",
       "      <td>1.000000</td>\n",
       "    </tr>\n",
       "    <tr>\n",
       "      <th>104402</th>\n",
       "      <td>2</td>\n",
       "      <td>19.0</td>\n",
       "      <td>1.0</td>\n",
       "      <td>9.0</td>\n",
       "      <td>1100.0</td>\n",
       "      <td>2.0</td>\n",
       "      <td>3.0</td>\n",
       "      <td>88.0</td>\n",
       "      <td>88.0</td>\n",
       "      <td>1.0</td>\n",
       "      <td>...</td>\n",
       "      <td>64.0</td>\n",
       "      <td>2.0</td>\n",
       "      <td>2.0</td>\n",
       "      <td>1.0</td>\n",
       "      <td>2.000000</td>\n",
       "      <td>2.000000</td>\n",
       "      <td>216.153724</td>\n",
       "      <td>177.600633</td>\n",
       "      <td>1.000000</td>\n",
       "      <td>1.000000</td>\n",
       "    </tr>\n",
       "    <tr>\n",
       "      <th>19106</th>\n",
       "      <td>3</td>\n",
       "      <td>4.0</td>\n",
       "      <td>1.0</td>\n",
       "      <td>3.0</td>\n",
       "      <td>1100.0</td>\n",
       "      <td>2.0</td>\n",
       "      <td>3.0</td>\n",
       "      <td>12.0</td>\n",
       "      <td>2.0</td>\n",
       "      <td>1.0</td>\n",
       "      <td>...</td>\n",
       "      <td>63.0</td>\n",
       "      <td>2.0</td>\n",
       "      <td>1.0</td>\n",
       "      <td>1.0</td>\n",
       "      <td>1.000000</td>\n",
       "      <td>2.000000</td>\n",
       "      <td>422.439604</td>\n",
       "      <td>672.741039</td>\n",
       "      <td>1.098275</td>\n",
       "      <td>1.000000</td>\n",
       "    </tr>\n",
       "    <tr>\n",
       "      <th>341849</th>\n",
       "      <td>4</td>\n",
       "      <td>49.0</td>\n",
       "      <td>1.0</td>\n",
       "      <td>6.0</td>\n",
       "      <td>1200.0</td>\n",
       "      <td>1.0</td>\n",
       "      <td>3.0</td>\n",
       "      <td>88.0</td>\n",
       "      <td>88.0</td>\n",
       "      <td>1.0</td>\n",
       "      <td>...</td>\n",
       "      <td>68.0</td>\n",
       "      <td>2.0</td>\n",
       "      <td>2.0</td>\n",
       "      <td>1.0</td>\n",
       "      <td>1.764556</td>\n",
       "      <td>2.076261</td>\n",
       "      <td>317.087789</td>\n",
       "      <td>349.916472</td>\n",
       "      <td>1.286063</td>\n",
       "      <td>1.000000</td>\n",
       "    </tr>\n",
       "  </tbody>\n",
       "</table>\n",
       "<p>5 rows × 41 columns</p>\n",
       "</div>"
      ],
      "text/plain": [
       "        Unnamed: 0  FIPS  X_URBSTAT  X_AGEG5YR  DISPCODE  SEXVAR  GENHLTH  \\\n",
       "285161           0  39.0        1.0        6.0    1100.0     1.0      3.0   \n",
       "163053           1  25.0        1.0        9.0    1100.0     2.0      2.0   \n",
       "104402           2  19.0        1.0        9.0    1100.0     2.0      3.0   \n",
       "19106            3   4.0        1.0        3.0    1100.0     2.0      3.0   \n",
       "341849           4  49.0        1.0        6.0    1200.0     1.0      3.0   \n",
       "\n",
       "        PHYSHLTH  MENTHLTH  HLTHPLN1  ...  HTIN4  DEAF  BLIND  SEATBELT  \\\n",
       "285161      88.0      88.0       1.0  ...   69.0   2.0    2.0       1.0   \n",
       "163053      88.0       5.0       1.0  ...   63.0   2.0    2.0       1.0   \n",
       "104402      88.0      88.0       1.0  ...   64.0   2.0    2.0       1.0   \n",
       "19106       12.0       2.0       1.0  ...   63.0   2.0    1.0       1.0   \n",
       "341849      88.0      88.0       1.0  ...   68.0   2.0    2.0       1.0   \n",
       "\n",
       "         HIVTST7  HIVRISK5    X_LLCPWT  X_AAWEIGHT   HADEXAM  SMOKDRINK  \n",
       "285161  2.000000  2.000000  750.791643  865.974544  1.106918   1.259299  \n",
       "163053  1.000000  2.000000  196.090804  151.543908  1.000000   1.000000  \n",
       "104402  2.000000  2.000000  216.153724  177.600633  1.000000   1.000000  \n",
       "19106   1.000000  2.000000  422.439604  672.741039  1.098275   1.000000  \n",
       "341849  1.764556  2.076261  317.087789  349.916472  1.286063   1.000000  \n",
       "\n",
       "[5 rows x 41 columns]"
      ]
     },
     "execution_count": 52,
     "metadata": {},
     "output_type": "execute_result"
    }
   ],
   "source": [
    "X_train_imputed.head()"
   ]
  },
  {
   "cell_type": "code",
   "execution_count": 53,
   "id": "eaa1c79c",
   "metadata": {},
   "outputs": [
    {
     "data": {
      "text/plain": [
       "Index(['Unnamed: 0', 'FIPS', 'X_URBSTAT', 'X_AGEG5YR', 'DISPCODE', 'SEXVAR',\n",
       "       'GENHLTH', 'PHYSHLTH', 'MENTHLTH', 'HLTHPLN1', 'EXERANY2', 'SLEPTIM1',\n",
       "       'CVDINFR4', 'CVDCRHD4', 'CVDSTRK3', 'ASTHMA3', 'CHCCOPD2', 'HAVARTH4',\n",
       "       'ADDEPEV3', 'CHCKDNY2', 'DIABETE4', 'LASTDEN4', 'RMVTETH4', 'MARITAL',\n",
       "       'EDUCA', 'RENTHOM1', 'VETERAN3', 'EMPLOY1', 'CHILDREN', 'INCOME2',\n",
       "       'WEIGHT2', 'HTIN4', 'DEAF', 'BLIND', 'SEATBELT', 'HIVTST7', 'HIVRISK5',\n",
       "       'X_LLCPWT', 'X_AAWEIGHT', 'HADEXAM', 'SMOKDRINK'],\n",
       "      dtype='object')"
      ]
     },
     "execution_count": 53,
     "metadata": {},
     "output_type": "execute_result"
    }
   ],
   "source": [
    "X_train_imputed.columns"
   ]
  },
  {
   "cell_type": "code",
   "execution_count": 54,
   "id": "180322c0",
   "metadata": {},
   "outputs": [
    {
     "data": {
      "text/plain": [
       "Index(['Unnamed: 0', 'FIPS', 'X_URBSTAT', 'X_AGEG5YR', 'DISPCODE', 'SEXVAR',\n",
       "       'GENHLTH', 'PHYSHLTH', 'MENTHLTH', 'HLTHPLN1', 'EXERANY2', 'SLEPTIM1',\n",
       "       'CVDINFR4', 'CVDCRHD4', 'CVDSTRK3', 'ASTHMA3', 'CHCCOPD2', 'HAVARTH4',\n",
       "       'ADDEPEV3', 'CHCKDNY2', 'DIABETE4', 'LASTDEN4', 'RMVTETH4', 'MARITAL',\n",
       "       'EDUCA', 'RENTHOM1', 'VETERAN3', 'EMPLOY1', 'CHILDREN', 'INCOME2',\n",
       "       'WEIGHT2', 'HTIN4', 'DEAF', 'BLIND', 'SEATBELT', 'HIVTST7', 'HIVRISK5',\n",
       "       'X_LLCPWT', 'X_AAWEIGHT', 'HADEXAM', 'SMOKDRINK'],\n",
       "      dtype='object')"
      ]
     },
     "execution_count": 54,
     "metadata": {},
     "output_type": "execute_result"
    }
   ],
   "source": [
    "X_test_imputed.columns"
   ]
  },
  {
   "cell_type": "code",
   "execution_count": 55,
   "id": "13ec88d7",
   "metadata": {},
   "outputs": [],
   "source": [
    "# Drop first column \n",
    "X_train_imputed.drop(X_train_imputed.columns[0], axis= 1, inplace= True)\n",
    "X_test_imputed.drop(X_test_imputed.columns[0], axis= 1, inplace= True)"
   ]
  },
  {
   "cell_type": "code",
   "execution_count": 56,
   "id": "b1aaa9ba",
   "metadata": {},
   "outputs": [
    {
     "data": {
      "text/html": [
       "<div>\n",
       "<style scoped>\n",
       "    .dataframe tbody tr th:only-of-type {\n",
       "        vertical-align: middle;\n",
       "    }\n",
       "\n",
       "    .dataframe tbody tr th {\n",
       "        vertical-align: top;\n",
       "    }\n",
       "\n",
       "    .dataframe thead th {\n",
       "        text-align: right;\n",
       "    }\n",
       "</style>\n",
       "<table border=\"1\" class=\"dataframe\">\n",
       "  <thead>\n",
       "    <tr style=\"text-align: right;\">\n",
       "      <th></th>\n",
       "      <th>FIPS</th>\n",
       "      <th>X_URBSTAT</th>\n",
       "      <th>X_AGEG5YR</th>\n",
       "      <th>DISPCODE</th>\n",
       "      <th>SEXVAR</th>\n",
       "      <th>GENHLTH</th>\n",
       "      <th>PHYSHLTH</th>\n",
       "      <th>MENTHLTH</th>\n",
       "      <th>HLTHPLN1</th>\n",
       "      <th>EXERANY2</th>\n",
       "      <th>...</th>\n",
       "      <th>HTIN4</th>\n",
       "      <th>DEAF</th>\n",
       "      <th>BLIND</th>\n",
       "      <th>SEATBELT</th>\n",
       "      <th>HIVTST7</th>\n",
       "      <th>HIVRISK5</th>\n",
       "      <th>X_LLCPWT</th>\n",
       "      <th>X_AAWEIGHT</th>\n",
       "      <th>HADEXAM</th>\n",
       "      <th>SMOKDRINK</th>\n",
       "    </tr>\n",
       "  </thead>\n",
       "  <tbody>\n",
       "    <tr>\n",
       "      <th>285161</th>\n",
       "      <td>39.0</td>\n",
       "      <td>1.0</td>\n",
       "      <td>6.0</td>\n",
       "      <td>1100.0</td>\n",
       "      <td>1.0</td>\n",
       "      <td>3.0</td>\n",
       "      <td>88.0</td>\n",
       "      <td>88.0</td>\n",
       "      <td>1.0</td>\n",
       "      <td>1.0</td>\n",
       "      <td>...</td>\n",
       "      <td>69.0</td>\n",
       "      <td>2.0</td>\n",
       "      <td>2.0</td>\n",
       "      <td>1.0</td>\n",
       "      <td>2.000000</td>\n",
       "      <td>2.000000</td>\n",
       "      <td>750.791643</td>\n",
       "      <td>865.974544</td>\n",
       "      <td>1.106918</td>\n",
       "      <td>1.259299</td>\n",
       "    </tr>\n",
       "    <tr>\n",
       "      <th>163053</th>\n",
       "      <td>25.0</td>\n",
       "      <td>1.0</td>\n",
       "      <td>9.0</td>\n",
       "      <td>1100.0</td>\n",
       "      <td>2.0</td>\n",
       "      <td>2.0</td>\n",
       "      <td>88.0</td>\n",
       "      <td>5.0</td>\n",
       "      <td>1.0</td>\n",
       "      <td>1.0</td>\n",
       "      <td>...</td>\n",
       "      <td>63.0</td>\n",
       "      <td>2.0</td>\n",
       "      <td>2.0</td>\n",
       "      <td>1.0</td>\n",
       "      <td>1.000000</td>\n",
       "      <td>2.000000</td>\n",
       "      <td>196.090804</td>\n",
       "      <td>151.543908</td>\n",
       "      <td>1.000000</td>\n",
       "      <td>1.000000</td>\n",
       "    </tr>\n",
       "    <tr>\n",
       "      <th>104402</th>\n",
       "      <td>19.0</td>\n",
       "      <td>1.0</td>\n",
       "      <td>9.0</td>\n",
       "      <td>1100.0</td>\n",
       "      <td>2.0</td>\n",
       "      <td>3.0</td>\n",
       "      <td>88.0</td>\n",
       "      <td>88.0</td>\n",
       "      <td>1.0</td>\n",
       "      <td>1.0</td>\n",
       "      <td>...</td>\n",
       "      <td>64.0</td>\n",
       "      <td>2.0</td>\n",
       "      <td>2.0</td>\n",
       "      <td>1.0</td>\n",
       "      <td>2.000000</td>\n",
       "      <td>2.000000</td>\n",
       "      <td>216.153724</td>\n",
       "      <td>177.600633</td>\n",
       "      <td>1.000000</td>\n",
       "      <td>1.000000</td>\n",
       "    </tr>\n",
       "    <tr>\n",
       "      <th>19106</th>\n",
       "      <td>4.0</td>\n",
       "      <td>1.0</td>\n",
       "      <td>3.0</td>\n",
       "      <td>1100.0</td>\n",
       "      <td>2.0</td>\n",
       "      <td>3.0</td>\n",
       "      <td>12.0</td>\n",
       "      <td>2.0</td>\n",
       "      <td>1.0</td>\n",
       "      <td>1.0</td>\n",
       "      <td>...</td>\n",
       "      <td>63.0</td>\n",
       "      <td>2.0</td>\n",
       "      <td>1.0</td>\n",
       "      <td>1.0</td>\n",
       "      <td>1.000000</td>\n",
       "      <td>2.000000</td>\n",
       "      <td>422.439604</td>\n",
       "      <td>672.741039</td>\n",
       "      <td>1.098275</td>\n",
       "      <td>1.000000</td>\n",
       "    </tr>\n",
       "    <tr>\n",
       "      <th>341849</th>\n",
       "      <td>49.0</td>\n",
       "      <td>1.0</td>\n",
       "      <td>6.0</td>\n",
       "      <td>1200.0</td>\n",
       "      <td>1.0</td>\n",
       "      <td>3.0</td>\n",
       "      <td>88.0</td>\n",
       "      <td>88.0</td>\n",
       "      <td>1.0</td>\n",
       "      <td>1.0</td>\n",
       "      <td>...</td>\n",
       "      <td>68.0</td>\n",
       "      <td>2.0</td>\n",
       "      <td>2.0</td>\n",
       "      <td>1.0</td>\n",
       "      <td>1.764556</td>\n",
       "      <td>2.076261</td>\n",
       "      <td>317.087789</td>\n",
       "      <td>349.916472</td>\n",
       "      <td>1.286063</td>\n",
       "      <td>1.000000</td>\n",
       "    </tr>\n",
       "    <tr>\n",
       "      <th>...</th>\n",
       "      <td>...</td>\n",
       "      <td>...</td>\n",
       "      <td>...</td>\n",
       "      <td>...</td>\n",
       "      <td>...</td>\n",
       "      <td>...</td>\n",
       "      <td>...</td>\n",
       "      <td>...</td>\n",
       "      <td>...</td>\n",
       "      <td>...</td>\n",
       "      <td>...</td>\n",
       "      <td>...</td>\n",
       "      <td>...</td>\n",
       "      <td>...</td>\n",
       "      <td>...</td>\n",
       "      <td>...</td>\n",
       "      <td>...</td>\n",
       "      <td>...</td>\n",
       "      <td>...</td>\n",
       "      <td>...</td>\n",
       "      <td>...</td>\n",
       "    </tr>\n",
       "    <tr>\n",
       "      <th>259178</th>\n",
       "      <td>36.0</td>\n",
       "      <td>1.0</td>\n",
       "      <td>2.0</td>\n",
       "      <td>1200.0</td>\n",
       "      <td>2.0</td>\n",
       "      <td>3.0</td>\n",
       "      <td>88.0</td>\n",
       "      <td>88.0</td>\n",
       "      <td>2.0</td>\n",
       "      <td>1.0</td>\n",
       "      <td>...</td>\n",
       "      <td>65.0</td>\n",
       "      <td>2.0</td>\n",
       "      <td>2.0</td>\n",
       "      <td>1.0</td>\n",
       "      <td>1.000000</td>\n",
       "      <td>2.000000</td>\n",
       "      <td>2971.773990</td>\n",
       "      <td>4973.135032</td>\n",
       "      <td>1.291899</td>\n",
       "      <td>1.000000</td>\n",
       "    </tr>\n",
       "    <tr>\n",
       "      <th>365838</th>\n",
       "      <td>51.0</td>\n",
       "      <td>2.0</td>\n",
       "      <td>1.0</td>\n",
       "      <td>1100.0</td>\n",
       "      <td>2.0</td>\n",
       "      <td>2.0</td>\n",
       "      <td>3.0</td>\n",
       "      <td>88.0</td>\n",
       "      <td>2.0</td>\n",
       "      <td>1.0</td>\n",
       "      <td>...</td>\n",
       "      <td>60.0</td>\n",
       "      <td>2.0</td>\n",
       "      <td>2.0</td>\n",
       "      <td>1.0</td>\n",
       "      <td>2.000000</td>\n",
       "      <td>2.000000</td>\n",
       "      <td>1863.069950</td>\n",
       "      <td>3559.629685</td>\n",
       "      <td>1.262676</td>\n",
       "      <td>1.212460</td>\n",
       "    </tr>\n",
       "    <tr>\n",
       "      <th>131932</th>\n",
       "      <td>23.0</td>\n",
       "      <td>2.0</td>\n",
       "      <td>1.0</td>\n",
       "      <td>1100.0</td>\n",
       "      <td>2.0</td>\n",
       "      <td>2.0</td>\n",
       "      <td>88.0</td>\n",
       "      <td>88.0</td>\n",
       "      <td>1.0</td>\n",
       "      <td>1.0</td>\n",
       "      <td>...</td>\n",
       "      <td>63.0</td>\n",
       "      <td>2.0</td>\n",
       "      <td>2.0</td>\n",
       "      <td>3.0</td>\n",
       "      <td>2.000000</td>\n",
       "      <td>2.000000</td>\n",
       "      <td>241.030370</td>\n",
       "      <td>766.788276</td>\n",
       "      <td>1.110018</td>\n",
       "      <td>1.262288</td>\n",
       "    </tr>\n",
       "    <tr>\n",
       "      <th>146867</th>\n",
       "      <td>24.0</td>\n",
       "      <td>1.0</td>\n",
       "      <td>5.0</td>\n",
       "      <td>1100.0</td>\n",
       "      <td>1.0</td>\n",
       "      <td>4.0</td>\n",
       "      <td>20.0</td>\n",
       "      <td>20.0</td>\n",
       "      <td>1.0</td>\n",
       "      <td>2.0</td>\n",
       "      <td>...</td>\n",
       "      <td>71.0</td>\n",
       "      <td>2.0</td>\n",
       "      <td>2.0</td>\n",
       "      <td>1.0</td>\n",
       "      <td>2.000000</td>\n",
       "      <td>2.000000</td>\n",
       "      <td>217.652621</td>\n",
       "      <td>275.943059</td>\n",
       "      <td>1.047645</td>\n",
       "      <td>1.000000</td>\n",
       "    </tr>\n",
       "    <tr>\n",
       "      <th>121958</th>\n",
       "      <td>20.0</td>\n",
       "      <td>1.0</td>\n",
       "      <td>5.0</td>\n",
       "      <td>1200.0</td>\n",
       "      <td>1.0</td>\n",
       "      <td>1.0</td>\n",
       "      <td>88.0</td>\n",
       "      <td>88.0</td>\n",
       "      <td>1.0</td>\n",
       "      <td>1.0</td>\n",
       "      <td>...</td>\n",
       "      <td>74.0</td>\n",
       "      <td>2.0</td>\n",
       "      <td>2.0</td>\n",
       "      <td>1.0</td>\n",
       "      <td>1.000000</td>\n",
       "      <td>2.000000</td>\n",
       "      <td>231.180492</td>\n",
       "      <td>273.348213</td>\n",
       "      <td>1.516199</td>\n",
       "      <td>1.000000</td>\n",
       "    </tr>\n",
       "  </tbody>\n",
       "</table>\n",
       "<p>301466 rows × 40 columns</p>\n",
       "</div>"
      ],
      "text/plain": [
       "        FIPS  X_URBSTAT  X_AGEG5YR  DISPCODE  SEXVAR  GENHLTH  PHYSHLTH  \\\n",
       "285161  39.0        1.0        6.0    1100.0     1.0      3.0      88.0   \n",
       "163053  25.0        1.0        9.0    1100.0     2.0      2.0      88.0   \n",
       "104402  19.0        1.0        9.0    1100.0     2.0      3.0      88.0   \n",
       "19106    4.0        1.0        3.0    1100.0     2.0      3.0      12.0   \n",
       "341849  49.0        1.0        6.0    1200.0     1.0      3.0      88.0   \n",
       "...      ...        ...        ...       ...     ...      ...       ...   \n",
       "259178  36.0        1.0        2.0    1200.0     2.0      3.0      88.0   \n",
       "365838  51.0        2.0        1.0    1100.0     2.0      2.0       3.0   \n",
       "131932  23.0        2.0        1.0    1100.0     2.0      2.0      88.0   \n",
       "146867  24.0        1.0        5.0    1100.0     1.0      4.0      20.0   \n",
       "121958  20.0        1.0        5.0    1200.0     1.0      1.0      88.0   \n",
       "\n",
       "        MENTHLTH  HLTHPLN1  EXERANY2  ...  HTIN4  DEAF  BLIND  SEATBELT  \\\n",
       "285161      88.0       1.0       1.0  ...   69.0   2.0    2.0       1.0   \n",
       "163053       5.0       1.0       1.0  ...   63.0   2.0    2.0       1.0   \n",
       "104402      88.0       1.0       1.0  ...   64.0   2.0    2.0       1.0   \n",
       "19106        2.0       1.0       1.0  ...   63.0   2.0    1.0       1.0   \n",
       "341849      88.0       1.0       1.0  ...   68.0   2.0    2.0       1.0   \n",
       "...          ...       ...       ...  ...    ...   ...    ...       ...   \n",
       "259178      88.0       2.0       1.0  ...   65.0   2.0    2.0       1.0   \n",
       "365838      88.0       2.0       1.0  ...   60.0   2.0    2.0       1.0   \n",
       "131932      88.0       1.0       1.0  ...   63.0   2.0    2.0       3.0   \n",
       "146867      20.0       1.0       2.0  ...   71.0   2.0    2.0       1.0   \n",
       "121958      88.0       1.0       1.0  ...   74.0   2.0    2.0       1.0   \n",
       "\n",
       "         HIVTST7  HIVRISK5     X_LLCPWT   X_AAWEIGHT   HADEXAM  SMOKDRINK  \n",
       "285161  2.000000  2.000000   750.791643   865.974544  1.106918   1.259299  \n",
       "163053  1.000000  2.000000   196.090804   151.543908  1.000000   1.000000  \n",
       "104402  2.000000  2.000000   216.153724   177.600633  1.000000   1.000000  \n",
       "19106   1.000000  2.000000   422.439604   672.741039  1.098275   1.000000  \n",
       "341849  1.764556  2.076261   317.087789   349.916472  1.286063   1.000000  \n",
       "...          ...       ...          ...          ...       ...        ...  \n",
       "259178  1.000000  2.000000  2971.773990  4973.135032  1.291899   1.000000  \n",
       "365838  2.000000  2.000000  1863.069950  3559.629685  1.262676   1.212460  \n",
       "131932  2.000000  2.000000   241.030370   766.788276  1.110018   1.262288  \n",
       "146867  2.000000  2.000000   217.652621   275.943059  1.047645   1.000000  \n",
       "121958  1.000000  2.000000   231.180492   273.348213  1.516199   1.000000  \n",
       "\n",
       "[301466 rows x 40 columns]"
      ]
     },
     "execution_count": 56,
     "metadata": {},
     "output_type": "execute_result"
    }
   ],
   "source": [
    "X_train_imputed"
   ]
  },
  {
   "cell_type": "code",
   "execution_count": 57,
   "id": "4aab49db",
   "metadata": {},
   "outputs": [
    {
     "data": {
      "text/plain": [
       "HADEXAM\n",
       "1.000000    185285\n",
       "7.000000      7005\n",
       "1.113838         2\n",
       "1.109459         2\n",
       "1.180098         2\n",
       "             ...  \n",
       "1.131244         1\n",
       "1.138783         1\n",
       "1.101360         1\n",
       "1.173341         1\n",
       "1.516199         1\n",
       "Name: count, Length: 109175, dtype: int64"
      ]
     },
     "execution_count": 57,
     "metadata": {},
     "output_type": "execute_result"
    }
   ],
   "source": [
    "X_train_imputed['HADEXAM'].value_counts()"
   ]
  },
  {
   "cell_type": "code",
   "execution_count": 58,
   "id": "f6ed3b82",
   "metadata": {},
   "outputs": [],
   "source": [
    "# Ensure feature-engineered columns are categorical after imputation\n",
    "# HADEXAM column\n",
    "X_train_imputed.loc[(X_train_imputed['HADEXAM'] > 1) & (X_train_imputed['HADEXAM'] < 1.5), 'HADEXAM'] = 1\n",
    "X_test_imputed.loc[(X_test_imputed['HADEXAM'] > 1) & (X_test_imputed['HADEXAM'] < 1.5), 'HADEXAM'] = 1\n",
    "\n",
    "X_train_imputed.loc[(X_train_imputed['HADEXAM'] > 1.499999) & (X_train_imputed['HADEXAM'] < 4.5), 'HADEXAM'] = 2\n",
    "X_test_imputed.loc[(X_test_imputed['HADEXAM'] > 1.499999) & (X_test_imputed['HADEXAM'] < 4.5), 'HADEXAM'] = 2"
   ]
  },
  {
   "cell_type": "code",
   "execution_count": 59,
   "id": "c4d5f179",
   "metadata": {},
   "outputs": [
    {
     "data": {
      "text/plain": [
       "HADEXAM\n",
       "1.0    285550\n",
       "2.0      8911\n",
       "7.0      7005\n",
       "Name: count, dtype: int64"
      ]
     },
     "execution_count": 59,
     "metadata": {},
     "output_type": "execute_result"
    }
   ],
   "source": [
    "X_train_imputed['HADEXAM'].value_counts()"
   ]
  },
  {
   "cell_type": "code",
   "execution_count": 60,
   "id": "f21e5b37",
   "metadata": {},
   "outputs": [
    {
     "data": {
      "text/plain": [
       "SMOKDRINK\n",
       "1.000000    168893\n",
       "7.000000      4537\n",
       "2.000000       209\n",
       "1.276394         2\n",
       "1.235639         1\n",
       "             ...  \n",
       "1.341708         1\n",
       "1.291427         1\n",
       "1.249111         1\n",
       "1.458640         1\n",
       "1.262288         1\n",
       "Name: count, Length: 127829, dtype: int64"
      ]
     },
     "execution_count": 60,
     "metadata": {},
     "output_type": "execute_result"
    }
   ],
   "source": [
    "X_train_imputed['SMOKDRINK'].value_counts()"
   ]
  },
  {
   "cell_type": "code",
   "execution_count": 61,
   "id": "543d9059",
   "metadata": {},
   "outputs": [],
   "source": [
    "# Ensure feature-engineered columns are categorical after imputation\n",
    "# SMOKDRINK column\n",
    "X_train_imputed.loc[(X_train_imputed['SMOKDRINK'] > 1) & (X_train_imputed['SMOKDRINK'] < 1.5), 'SMOKDRINK'] = 1\n",
    "X_test_imputed.loc[(X_test_imputed['SMOKDRINK'] > 1) & (X_test_imputed['SMOKDRINK'] < 1.5), 'SMOKDRINK'] = 1\n",
    "\n",
    "X_train_imputed.loc[(X_train_imputed['SMOKDRINK'] > 1.499999) & (X_train_imputed['SMOKDRINK'] < 4.5), 'SMOKDRINK'] = 2\n",
    "X_test_imputed.loc[(X_test_imputed['SMOKDRINK'] > 1.499999) & (X_test_imputed['SMOKDRINK'] < 4.5), 'SMOKDRINK'] = 2"
   ]
  },
  {
   "cell_type": "code",
   "execution_count": 62,
   "id": "e93d5b41",
   "metadata": {},
   "outputs": [
    {
     "data": {
      "text/plain": [
       "SMOKDRINK\n",
       "1.0    290833\n",
       "2.0      6096\n",
       "7.0      4537\n",
       "Name: count, dtype: int64"
      ]
     },
     "execution_count": 62,
     "metadata": {},
     "output_type": "execute_result"
    }
   ],
   "source": [
    "X_train_imputed['SMOKDRINK'].value_counts()"
   ]
  },
  {
   "cell_type": "code",
   "execution_count": 63,
   "id": "995b7209",
   "metadata": {},
   "outputs": [
    {
     "data": {
      "text/plain": [
       "CHC_CNCR\n",
       "2           251549\n",
       "1            48535\n",
       "99            1382\n",
       "Name: count, dtype: int64"
      ]
     },
     "execution_count": 63,
     "metadata": {},
     "output_type": "execute_result"
    }
   ],
   "source": [
    "y_train.value_counts()"
   ]
  },
  {
   "cell_type": "code",
   "execution_count": 64,
   "id": "60ea5e00",
   "metadata": {},
   "outputs": [
    {
     "data": {
      "text/plain": [
       "40"
      ]
     },
     "execution_count": 64,
     "metadata": {},
     "output_type": "execute_result"
    }
   ],
   "source": [
    "len(X_train_imputed.columns)"
   ]
  },
  {
   "cell_type": "code",
   "execution_count": 65,
   "id": "66dfb4e6",
   "metadata": {},
   "outputs": [],
   "source": [
    "# Combine Refused (9) and Don’t know/Not Sure (7) columns\n",
    "columns_1 = ['GENHLTH', 'HLTHPLN1', 'EXERANY2', 'CVDINFR4', 'CVDCRHD4', 'CVDSTRK3', 'ASTHMA3', 'CHCCOPD2', 'HAVARTH4',\n",
    "          'ADDEPEV3', 'CHCKDNY2', 'DIABETE4', 'LASTDEN4', 'RMVTETH4', 'RENTHOM1', 'VETERAN3', 'DEAF', 'BLIND', 'SEATBELT',\n",
    "          'HIVTST7', 'HIVRISK5']\n",
    "\n",
    "for col in columns_1:\n",
    "    X_train_imputed.loc[X_train_imputed[col].isin([7, 9]), col] = 9\n",
    "    X_test_imputed.loc[X_test_imputed[col].isin([7, 9]), col] = 9"
   ]
  },
  {
   "cell_type": "code",
   "execution_count": 66,
   "id": "ace27d2e",
   "metadata": {},
   "outputs": [],
   "source": [
    "# Combine Refused (99) and Don’t know/Not Sure (77) columns\n",
    "columns_2 = ['PHYSHLTH', 'MENTHLTH', 'SLEPTIM1', 'INCOME2']\n",
    "\n",
    "for col in columns_2:\n",
    "    X_train_imputed.loc[X_train_imputed[col].isin([77, 99]), col] = 99\n",
    "    X_test_imputed.loc[X_test_imputed[col].isin([77, 99]), col] = 99"
   ]
  },
  {
   "cell_type": "code",
   "execution_count": 67,
   "id": "c85ef7c7",
   "metadata": {},
   "outputs": [],
   "source": [
    "# Combine Refused (9999) and Don’t know/Not Sure (7777) columns\n",
    "columns_3 = ['WEIGHT2']\n",
    "\n",
    "for col in columns_3:\n",
    "    X_train_imputed.loc[X_train_imputed[col].isin([7777, 9999]), col] = 9999\n",
    "    X_test_imputed.loc[X_test_imputed[col].isin([7777, 9999]), col] = 9999"
   ]
  },
  {
   "cell_type": "code",
   "execution_count": 68,
   "id": "aef1b435",
   "metadata": {},
   "outputs": [],
   "source": [
    "# Drop X_AAWEIGHT column not seen in codebook\n",
    "X_train_imputed.drop(columns = 'X_AAWEIGHT', inplace= True)\n",
    "X_test_imputed.drop(columns = 'X_AAWEIGHT', inplace= True)"
   ]
  },
  {
   "cell_type": "code",
   "execution_count": 69,
   "id": "b59e9ca2",
   "metadata": {},
   "outputs": [],
   "source": [
    "# Drop DISPCODE since it's not relevant\n",
    "X_train_imputed.drop(columns = 'DISPCODE', inplace= True)\n",
    "X_test_imputed.drop(columns = 'DISPCODE', inplace= True)"
   ]
  },
  {
   "cell_type": "code",
   "execution_count": 70,
   "id": "7d6558fe",
   "metadata": {},
   "outputs": [
    {
     "data": {
      "text/plain": [
       "['PHYSHLTH', 'SLEPTIM1', 'MENTHLTH', 'CHILDREN', 'WEIGHT2', 'HTIN4']"
      ]
     },
     "execution_count": 70,
     "metadata": {},
     "output_type": "execute_result"
    }
   ],
   "source": [
    "non_cat_columns"
   ]
  },
  {
   "cell_type": "code",
   "execution_count": 71,
   "id": "de473901",
   "metadata": {},
   "outputs": [],
   "source": [
    "# Binning 'PHYSHLTH', 'MENTHLTH',  'SLEPTIM1', 'CHILDREN' columns\n",
    "\n",
    "# Define bin ranges and labels\n",
    "bins = [0, 3, 6, 9, 12, 15, 18, 21, 24, 27, 30]\n",
    "bin_labels = ['1-3', '4-6', '7-9', '10-12', '13-15', '16-18', '19-21', '22-24', '25-27', '28-30']\n",
    "\n",
    "# Create a new column and assign default value\n",
    "X_train_imputed['PHYSHLTH_BINNED'] = 'unknown'\n",
    "X_train_imputed['MENTHLTH_BINNED'] = 'unknown'\n",
    "\n",
    "X_test_imputed['PHYSHLTH_BINNED'] = 'unknown'\n",
    "X_test_imputed['MENTHLTH_BINNED'] = 'unknown'\n",
    "\n",
    "# Iterate over bin ranges and assign bin labels\n",
    "for i in range(len(bins) - 1):\n",
    "    X_train_imputed.loc[(X_train_imputed['PHYSHLTH'] > bins[i]) & (X_train_imputed['PHYSHLTH'] <= bins[i+1]), 'PHYSHLTH_BINNED'] = bin_labels[i]\n",
    "    X_train_imputed.loc[(X_train_imputed['MENTHLTH'] > bins[i]) & (X_train_imputed['MENTHLTH'] <= bins[i+1]), 'MENTHLTH_BINNED'] = bin_labels[i]\n",
    "    \n",
    "    X_test_imputed.loc[(X_test_imputed['PHYSHLTH'] > bins[i]) & (X_test_imputed['PHYSHLTH'] <= bins[i+1]), 'PHYSHLTH_BINNED'] = bin_labels[i]\n",
    "    X_test_imputed.loc[(X_test_imputed['MENTHLTH'] > bins[i]) & (X_test_imputed['MENTHLTH'] <= bins[i+1]), 'MENTHLTH_BINNED'] = bin_labels[i]\n",
    "    \n",
    "# Handle special cases (88, 77, 99)\n",
    "special_cases = [88, 77, 99]\n",
    "for case in special_cases:\n",
    "    X_train_imputed.loc[X_train_imputed['PHYSHLTH'] == case, 'PHYSHLTH_BINNED'] = str(case)\n",
    "    X_train_imputed.loc[X_train_imputed['MENTHLTH'] == case, 'MENTHLTH_BINNED'] = str(case)\n",
    "    \n",
    "    X_test_imputed.loc[X_test_imputed['PHYSHLTH'] == case, 'PHYSHLTH_BINNED'] = str(case)\n",
    "    X_test_imputed.loc[X_test_imputed['MENTHLTH'] == case, 'MENTHLTH_BINNED'] = str(case)"
   ]
  },
  {
   "cell_type": "code",
   "execution_count": 72,
   "id": "6cbaac7d",
   "metadata": {},
   "outputs": [
    {
     "data": {
      "text/plain": [
       "MENTHLTH\n",
       "88.0    191648\n",
       "30.0     16797\n",
       "2.0      14606\n",
       "5.0      12553\n",
       "10.0      9448\n",
       "3.0       9342\n",
       "15.0      9097\n",
       "1.0       8369\n",
       "99.0      5995\n",
       "7.0       4900\n",
       "20.0      4871\n",
       "4.0       4780\n",
       "14.0      1864\n",
       "25.0      1778\n",
       "6.0       1346\n",
       "8.0       1004\n",
       "12.0       699\n",
       "28.0       474\n",
       "21.0       342\n",
       "29.0       302\n",
       "18.0       195\n",
       "9.0        189\n",
       "16.0       144\n",
       "27.0       130\n",
       "17.0       122\n",
       "13.0       106\n",
       "22.0        86\n",
       "11.0        82\n",
       "24.0        62\n",
       "23.0        62\n",
       "26.0        53\n",
       "19.0        20\n",
       "Name: count, dtype: int64"
      ]
     },
     "execution_count": 72,
     "metadata": {},
     "output_type": "execute_result"
    }
   ],
   "source": [
    "X_train_imputed['MENTHLTH'].value_counts()"
   ]
  },
  {
   "cell_type": "code",
   "execution_count": 73,
   "id": "a0069a03",
   "metadata": {},
   "outputs": [
    {
     "data": {
      "text/plain": [
       "MENTHLTH_BINNED\n",
       "88       191648\n",
       "1-3       32317\n",
       "4-6       18679\n",
       "28-30     17573\n",
       "13-15     11067\n",
       "10-12     10229\n",
       "7-9        6093\n",
       "99         5995\n",
       "19-21      5233\n",
       "25-27      1961\n",
       "16-18       461\n",
       "22-24       210\n",
       "Name: count, dtype: int64"
      ]
     },
     "execution_count": 73,
     "metadata": {},
     "output_type": "execute_result"
    }
   ],
   "source": [
    "X_train_imputed['MENTHLTH_BINNED'].value_counts()"
   ]
  },
  {
   "cell_type": "code",
   "execution_count": 74,
   "id": "7a6c745a",
   "metadata": {},
   "outputs": [],
   "source": [
    "# Define bin ranges and labels\n",
    "bins = [0, 3, 6, 9, 12, 15, 18, 21, 24]\n",
    "bin_labels = ['1-3', '4-6', '7-9', '10-12', '13-15', '16-18', '19-21', '22-24']\n",
    "\n",
    "\n",
    "# Create a new column and assign default value\n",
    "X_train_imputed['SLEPTIM1_BINNED'] = 'unknown'\n",
    "X_test_imputed['SLEPTIM1_BINNED'] = 'unknown'\n",
    "\n",
    "# Iterate over bin ranges and assign bin labels\n",
    "for i in range(len(bins) - 1):\n",
    "    X_train_imputed.loc[(X_train_imputed['SLEPTIM1'] > bins[i]) & (X_train_imputed['SLEPTIM1'] <= bins[i+1]), 'SLEPTIM1_BINNED'] = bin_labels[i]\n",
    "    X_test_imputed.loc[(X_test_imputed['SLEPTIM1'] > bins[i]) & (X_test_imputed['SLEPTIM1'] <= bins[i+1]), 'SLEPTIM1_BINNED'] = bin_labels[i]\n",
    "\n",
    "# Handle special cases (77, 99)\n",
    "special_cases = [77, 99]\n",
    "for case in special_cases:\n",
    "    X_train_imputed.loc[X_train_imputed['SLEPTIM1'] == case, 'SLEPTIM1_BINNED'] = str(case)\n",
    "    X_test_imputed.loc[X_test_imputed['SLEPTIM1'] == case, 'SLEPTIM1_BINNED'] = str(case)"
   ]
  },
  {
   "cell_type": "code",
   "execution_count": 75,
   "id": "8afa9595",
   "metadata": {},
   "outputs": [
    {
     "data": {
      "text/plain": [
       "SLEPTIM1_BINNED\n",
       "7-9      195798\n",
       "4-6       87752\n",
       "10-12     10019\n",
       "99         3523\n",
       "1-3        3384\n",
       "13-15       519\n",
       "16-18       352\n",
       "19-21        73\n",
       "22-24        46\n",
       "Name: count, dtype: int64"
      ]
     },
     "execution_count": 75,
     "metadata": {},
     "output_type": "execute_result"
    }
   ],
   "source": [
    "X_train_imputed['SLEPTIM1_BINNED'].value_counts()"
   ]
  },
  {
   "cell_type": "code",
   "execution_count": 76,
   "id": "1da5f26a",
   "metadata": {},
   "outputs": [
    {
     "data": {
      "text/plain": [
       "CHILDREN\n",
       "88.0    220363\n",
       "1.0      32550\n",
       "2.0      27120\n",
       "3.0      11859\n",
       "4.0       4471\n",
       "99.0      2745\n",
       "5.0       1419\n",
       "6.0        538\n",
       "7.0        203\n",
       "8.0         94\n",
       "9.0         42\n",
       "10.0        22\n",
       "15.0         8\n",
       "11.0         7\n",
       "81.0         5\n",
       "12.0         5\n",
       "16.0         3\n",
       "13.0         3\n",
       "19.0         2\n",
       "24.0         2\n",
       "22.0         1\n",
       "82.0         1\n",
       "77.0         1\n",
       "23.0         1\n",
       "14.0         1\n",
       "Name: count, dtype: int64"
      ]
     },
     "execution_count": 76,
     "metadata": {},
     "output_type": "execute_result"
    }
   ],
   "source": [
    "X_train_imputed['CHILDREN'].value_counts()"
   ]
  },
  {
   "cell_type": "code",
   "execution_count": 77,
   "id": "4a84a1af",
   "metadata": {},
   "outputs": [
    {
     "data": {
      "text/plain": [
       "CHILDREN\n",
       "88.0    220363\n",
       "1.0      32550\n",
       "2.0      27120\n",
       "3.0      11859\n",
       "4.0       4471\n",
       "99.0      2745\n",
       "5.0       1419\n",
       "6.0        538\n",
       "7.0        203\n",
       "8.0         94\n",
       "9.0         42\n",
       "10.0        22\n",
       "15.0         8\n",
       "11.0         7\n",
       "81.0         5\n",
       "12.0         5\n",
       "16.0         3\n",
       "13.0         3\n",
       "19.0         2\n",
       "24.0         2\n",
       "22.0         1\n",
       "82.0         1\n",
       "77.0         1\n",
       "23.0         1\n",
       "14.0         1\n",
       "Name: count, dtype: int64"
      ]
     },
     "execution_count": 77,
     "metadata": {},
     "output_type": "execute_result"
    }
   ],
   "source": [
    "X_train_imputed['CHILDREN'].value_counts()"
   ]
  },
  {
   "cell_type": "code",
   "execution_count": 78,
   "id": "50588c6b",
   "metadata": {},
   "outputs": [],
   "source": [
    "# Define bins and labels\n",
    "bins = [1, 2, 3, 4, 5, 6, 7, 8, 9, 10, 87]\n",
    "bin_labels = ['1', '2', '3', '4', '5', '6', '7', '8', '9', '10', '11+']\n",
    "\n",
    "# Create a new column and assign default value\n",
    "X_train_imputed['CHILDREN_BINNED'] = 'unknown'\n",
    "X_test_imputed['CHILDREN_BINNED'] = 'unknown'\n",
    "\n",
    "# Iterate over bin ranges and assign bin labels\n",
    "for i in range(len(bins)):\n",
    "    if bins[i] == 87:\n",
    "        X_train_imputed.loc[(X_train_imputed['CHILDREN'] > bins[i-1]) & (X_train_imputed['CHILDREN'] <= bins[i]), 'CHILDREN_BINNED'] = bin_labels[i]\n",
    "        X_test_imputed.loc[(X_test_imputed['CHILDREN'] > bins[i-1]) & (X_test_imputed['CHILDREN'] <= bins[i]), 'CHILDREN_BINNED'] = bin_labels[i]\n",
    "\n",
    "    else:\n",
    "        X_train_imputed.loc[(X_train_imputed['CHILDREN'] == bins[i]), 'CHILDREN_BINNED'] = bin_labels[i]\n",
    "        X_test_imputed.loc[(X_test_imputed['CHILDREN'] == bins[i]), 'CHILDREN_BINNED'] = bin_labels[i]\n",
    "\n",
    "\n",
    "# Handle special cases (88, 99)\n",
    "special_cases = [88, 99]\n",
    "for case in special_cases:\n",
    "    X_train_imputed.loc[X_train_imputed['CHILDREN'] == case, 'CHILDREN_BINNED'] = str(case)\n",
    "    X_test_imputed.loc[X_test_imputed['CHILDREN'] == case, 'CHILDREN_BINNED'] = str(case)"
   ]
  },
  {
   "cell_type": "code",
   "execution_count": 79,
   "id": "cfc86657",
   "metadata": {},
   "outputs": [
    {
     "data": {
      "text/plain": [
       "CHILDREN_BINNED\n",
       "88     220363\n",
       "1       32550\n",
       "2       27120\n",
       "3       11859\n",
       "4        4471\n",
       "99       2745\n",
       "5        1419\n",
       "6         538\n",
       "7         203\n",
       "8          94\n",
       "9          42\n",
       "11+        40\n",
       "10         22\n",
       "Name: count, dtype: int64"
      ]
     },
     "execution_count": 79,
     "metadata": {},
     "output_type": "execute_result"
    }
   ],
   "source": [
    "X_train_imputed['CHILDREN_BINNED'].value_counts()"
   ]
  },
  {
   "cell_type": "code",
   "execution_count": 80,
   "id": "282290ec",
   "metadata": {},
   "outputs": [],
   "source": [
    "# Drop initial columns now that they're binned: 'PHYSHLTH', 'MENTHLTH',  'SLEPTIM1', 'CHILDREN'\n",
    "\n",
    "X_train_imputed.drop(columns= ['PHYSHLTH', 'MENTHLTH',  'SLEPTIM1', 'CHILDREN'], inplace= True)\n",
    "X_test_imputed.drop(columns= ['PHYSHLTH', 'MENTHLTH',  'SLEPTIM1', 'CHILDREN'], inplace= True)"
   ]
  },
  {
   "cell_type": "code",
   "execution_count": 81,
   "id": "02908eaf",
   "metadata": {},
   "outputs": [
    {
     "data": {
      "text/plain": [
       "WEIGHT2\n",
       "9999.000000    23800\n",
       "200.000000     14844\n",
       "180.000000     13861\n",
       "150.000000     12473\n",
       "160.000000     12450\n",
       "               ...  \n",
       "555.301979         1\n",
       "718.294930         1\n",
       "666.589594         1\n",
       "754.859360         1\n",
       "511.564283         1\n",
       "Name: count, Length: 2930, dtype: int64"
      ]
     },
     "execution_count": 81,
     "metadata": {},
     "output_type": "execute_result"
    }
   ],
   "source": [
    "X_train_imputed['WEIGHT2'].value_counts()"
   ]
  },
  {
   "cell_type": "code",
   "execution_count": 82,
   "id": "18d7020e",
   "metadata": {},
   "outputs": [],
   "source": [
    "X_train_imputed.loc[X_train_imputed['WEIGHT2'] > 776, 'WEIGHT2'] = np.nan\n",
    "X_test_imputed.loc[X_test_imputed['WEIGHT2'] > 776, 'WEIGHT2'] = np.nan"
   ]
  },
  {
   "cell_type": "code",
   "execution_count": 83,
   "id": "e16d0064",
   "metadata": {},
   "outputs": [
    {
     "data": {
      "text/plain": [
       "FIPS                   0\n",
       "X_URBSTAT              0\n",
       "X_AGEG5YR              0\n",
       "SEXVAR                 0\n",
       "GENHLTH                0\n",
       "HLTHPLN1               0\n",
       "EXERANY2               0\n",
       "CVDINFR4               0\n",
       "CVDCRHD4               0\n",
       "CVDSTRK3               0\n",
       "ASTHMA3                0\n",
       "CHCCOPD2               0\n",
       "HAVARTH4               0\n",
       "ADDEPEV3               0\n",
       "CHCKDNY2               0\n",
       "DIABETE4               0\n",
       "LASTDEN4               0\n",
       "RMVTETH4               0\n",
       "MARITAL                0\n",
       "EDUCA                  0\n",
       "RENTHOM1               0\n",
       "VETERAN3               0\n",
       "EMPLOY1                0\n",
       "INCOME2                0\n",
       "WEIGHT2            23800\n",
       "HTIN4                  0\n",
       "DEAF                   0\n",
       "BLIND                  0\n",
       "SEATBELT               0\n",
       "HIVTST7                0\n",
       "HIVRISK5               0\n",
       "X_LLCPWT               0\n",
       "HADEXAM                0\n",
       "SMOKDRINK              0\n",
       "PHYSHLTH_BINNED        0\n",
       "MENTHLTH_BINNED        0\n",
       "SLEPTIM1_BINNED        0\n",
       "CHILDREN_BINNED        0\n",
       "dtype: int64"
      ]
     },
     "execution_count": 83,
     "metadata": {},
     "output_type": "execute_result"
    }
   ],
   "source": [
    "X_train_imputed.isna().sum()"
   ]
  },
  {
   "cell_type": "code",
   "execution_count": 84,
   "id": "4c697ab8",
   "metadata": {},
   "outputs": [],
   "source": [
    "# Create an instance of IterativeImputer\n",
    "imputer = IterativeImputer()\n",
    "\n",
    "# Define numerical columns for imputation\n",
    "num_cols = ['WEIGHT2', 'HTIN4']\n",
    "\n",
    "# Extract numerical columns from train and test sets\n",
    "num_cols_X_train = X_train_imputed[num_cols]\n",
    "num_cols_X_test = X_test_imputed[num_cols]\n",
    "\n",
    "# Fit the imputer to the numerical columns in the train set\n",
    "imputer.fit(num_cols_X_train)\n",
    "\n",
    "# Impute missing values in the numerical columns for both train and test sets\n",
    "num_cols_X_train_imputed = pd.DataFrame(imputer.transform(num_cols_X_train), columns=num_cols)\n",
    "num_cols_X_test_imputed = pd.DataFrame(imputer.transform(num_cols_X_test), columns=num_cols)"
   ]
  },
  {
   "cell_type": "code",
   "execution_count": 85,
   "id": "57397f47",
   "metadata": {},
   "outputs": [],
   "source": [
    "# Indexing\n",
    "num_cols_X_train_imputed.index = X_train_imputed.index\n",
    "num_cols_X_test_imputed.index = X_test_imputed.index"
   ]
  },
  {
   "cell_type": "code",
   "execution_count": 86,
   "id": "7cdfecdf",
   "metadata": {},
   "outputs": [],
   "source": [
    "# Replace WEIGHT2 column in [X_train and X_test] with the respective imputed columns\n",
    "X_train_imputed['WEIGHT2'] = num_cols_X_train_imputed['WEIGHT2']\n",
    "X_test_imputed['WEIGHT2'] = num_cols_X_test_imputed['WEIGHT2']"
   ]
  },
  {
   "cell_type": "code",
   "execution_count": null,
   "id": "1112f14a",
   "metadata": {},
   "outputs": [],
   "source": [
    "# Save DataFrame to CSV file in a specific directory\n",
    "X_train_imputed.to_csv('/Users/dave/Documents/Flatiron/Capstone Project/Cancer-Screening-Project/Data/X_train_processed.csv', index=True)  #Save processed X_train data\n",
    "y_train.to_csv('/Users/dave/Documents/Flatiron/Capstone Project/Cancer-Screening-Project/Data/y_train_processed.csv', index=True)          #Save processed y_train data\n",
    "X_test_imputed.to_csv('/Users/dave/Documents/Flatiron/Capstone Project/Cancer-Screening-Project/Data/X_test_processed.csv', index=True)  #Save processed X_test data\n",
    "y_test.to_csv('/Users/dave/Documents/Flatiron/Capstone Project/Cancer-Screening-Project/Data/y_test_processed.csv', index=True)          #Save processed y_test data"
   ]
  },
  {
   "cell_type": "code",
   "execution_count": null,
   "id": "11b4b1b1",
   "metadata": {},
   "outputs": [],
   "source": [
    "# Load preprocessed X_train and X_test \n",
    "\n",
    "X_train_imputed = pd.read_csv('/Users/dave/Documents/Flatiron/Capstone Project/Cancer-Screening-Project/Data/X_train_processed.csv')\n",
    "y_train = pd.read_csv('/Users/dave/Documents/Flatiron/Capstone Project/Cancer-Screening-Project/Data/y_train_processed.csv')\n",
    "X_test_imputed = pd.read_csv('/Users/dave/Documents/Flatiron/Capstone Project/Cancer-Screening-Project/Data/X_test_processed.csv')\n",
    "y_test = pd.read_csv('/Users/dave/Documents/Flatiron/Capstone Project/Cancer-Screening-Project/Data/y_test_processed.csv')\n"
   ]
  },
  {
   "cell_type": "code",
   "execution_count": 286,
   "id": "8fa32645",
   "metadata": {},
   "outputs": [
    {
     "name": "stdout",
     "output_type": "stream",
     "text": [
      "<class 'pandas.core.frame.DataFrame'>\n",
      "RangeIndex: 301466 entries, 0 to 301465\n",
      "Data columns (total 39 columns):\n",
      " #   Column           Non-Null Count   Dtype  \n",
      "---  ------           --------------   -----  \n",
      " 0   Unnamed: 0       301466 non-null  int64  \n",
      " 1   FIPS             301466 non-null  float64\n",
      " 2   X_URBSTAT        301466 non-null  float64\n",
      " 3   X_AGEG5YR        301466 non-null  float64\n",
      " 4   SEXVAR           301466 non-null  float64\n",
      " 5   GENHLTH          301466 non-null  float64\n",
      " 6   HLTHPLN1         301466 non-null  float64\n",
      " 7   EXERANY2         301466 non-null  float64\n",
      " 8   CVDINFR4         301466 non-null  float64\n",
      " 9   CVDCRHD4         301466 non-null  float64\n",
      " 10  CVDSTRK3         301466 non-null  float64\n",
      " 11  ASTHMA3          301466 non-null  float64\n",
      " 12  CHCCOPD2         301466 non-null  float64\n",
      " 13  HAVARTH4         301466 non-null  float64\n",
      " 14  ADDEPEV3         301466 non-null  float64\n",
      " 15  CHCKDNY2         301466 non-null  float64\n",
      " 16  DIABETE4         301466 non-null  float64\n",
      " 17  LASTDEN4         301466 non-null  float64\n",
      " 18  RMVTETH4         301466 non-null  float64\n",
      " 19  MARITAL          301466 non-null  float64\n",
      " 20  EDUCA            301466 non-null  float64\n",
      " 21  RENTHOM1         301466 non-null  float64\n",
      " 22  VETERAN3         301466 non-null  float64\n",
      " 23  EMPLOY1          301466 non-null  float64\n",
      " 24  INCOME2          301466 non-null  float64\n",
      " 25  WEIGHT2          301466 non-null  float64\n",
      " 26  HTIN4            301466 non-null  float64\n",
      " 27  DEAF             301466 non-null  float64\n",
      " 28  BLIND            301466 non-null  float64\n",
      " 29  SEATBELT         301466 non-null  float64\n",
      " 30  HIVTST7          301466 non-null  float64\n",
      " 31  HIVRISK5         301466 non-null  float64\n",
      " 32  X_LLCPWT         301466 non-null  float64\n",
      " 33  HADEXAM          301466 non-null  float64\n",
      " 34  SMOKDRINK        301466 non-null  float64\n",
      " 35  PHYSHLTH_BINNED  301466 non-null  object \n",
      " 36  MENTHLTH_BINNED  301466 non-null  object \n",
      " 37  SLEPTIM1_BINNED  301466 non-null  object \n",
      " 38  CHILDREN_BINNED  301466 non-null  object \n",
      "dtypes: float64(34), int64(1), object(4)\n",
      "memory usage: 89.7+ MB\n"
     ]
    }
   ],
   "source": [
    "X_train_imputed.info()"
   ]
  },
  {
   "cell_type": "code",
   "execution_count": 287,
   "id": "c378d942",
   "metadata": {},
   "outputs": [
    {
     "data": {
      "text/html": [
       "<div>\n",
       "<style scoped>\n",
       "    .dataframe tbody tr th:only-of-type {\n",
       "        vertical-align: middle;\n",
       "    }\n",
       "\n",
       "    .dataframe tbody tr th {\n",
       "        vertical-align: top;\n",
       "    }\n",
       "\n",
       "    .dataframe thead th {\n",
       "        text-align: right;\n",
       "    }\n",
       "</style>\n",
       "<table border=\"1\" class=\"dataframe\">\n",
       "  <thead>\n",
       "    <tr style=\"text-align: right;\">\n",
       "      <th></th>\n",
       "      <th>Unnamed: 0</th>\n",
       "      <th>FIPS</th>\n",
       "      <th>X_URBSTAT</th>\n",
       "      <th>X_AGEG5YR</th>\n",
       "      <th>SEXVAR</th>\n",
       "      <th>GENHLTH</th>\n",
       "      <th>HLTHPLN1</th>\n",
       "      <th>EXERANY2</th>\n",
       "      <th>CVDINFR4</th>\n",
       "      <th>CVDCRHD4</th>\n",
       "      <th>...</th>\n",
       "      <th>SEATBELT</th>\n",
       "      <th>HIVTST7</th>\n",
       "      <th>HIVRISK5</th>\n",
       "      <th>X_LLCPWT</th>\n",
       "      <th>HADEXAM</th>\n",
       "      <th>SMOKDRINK</th>\n",
       "      <th>PHYSHLTH_BINNED</th>\n",
       "      <th>MENTHLTH_BINNED</th>\n",
       "      <th>SLEPTIM1_BINNED</th>\n",
       "      <th>CHILDREN_BINNED</th>\n",
       "    </tr>\n",
       "  </thead>\n",
       "  <tbody>\n",
       "    <tr>\n",
       "      <th>0</th>\n",
       "      <td>285161</td>\n",
       "      <td>39.0</td>\n",
       "      <td>1.0</td>\n",
       "      <td>6.0</td>\n",
       "      <td>1.0</td>\n",
       "      <td>3.0</td>\n",
       "      <td>1.0</td>\n",
       "      <td>1.0</td>\n",
       "      <td>2.0</td>\n",
       "      <td>2.0</td>\n",
       "      <td>...</td>\n",
       "      <td>1.0</td>\n",
       "      <td>2.000000</td>\n",
       "      <td>2.000000</td>\n",
       "      <td>750.791643</td>\n",
       "      <td>1.0</td>\n",
       "      <td>1.0</td>\n",
       "      <td>88</td>\n",
       "      <td>88</td>\n",
       "      <td>7-9</td>\n",
       "      <td>88</td>\n",
       "    </tr>\n",
       "    <tr>\n",
       "      <th>1</th>\n",
       "      <td>163053</td>\n",
       "      <td>25.0</td>\n",
       "      <td>1.0</td>\n",
       "      <td>9.0</td>\n",
       "      <td>2.0</td>\n",
       "      <td>2.0</td>\n",
       "      <td>1.0</td>\n",
       "      <td>1.0</td>\n",
       "      <td>2.0</td>\n",
       "      <td>2.0</td>\n",
       "      <td>...</td>\n",
       "      <td>1.0</td>\n",
       "      <td>1.000000</td>\n",
       "      <td>2.000000</td>\n",
       "      <td>196.090804</td>\n",
       "      <td>1.0</td>\n",
       "      <td>1.0</td>\n",
       "      <td>88</td>\n",
       "      <td>4-6</td>\n",
       "      <td>4-6</td>\n",
       "      <td>88</td>\n",
       "    </tr>\n",
       "    <tr>\n",
       "      <th>2</th>\n",
       "      <td>104402</td>\n",
       "      <td>19.0</td>\n",
       "      <td>1.0</td>\n",
       "      <td>9.0</td>\n",
       "      <td>2.0</td>\n",
       "      <td>3.0</td>\n",
       "      <td>1.0</td>\n",
       "      <td>1.0</td>\n",
       "      <td>2.0</td>\n",
       "      <td>2.0</td>\n",
       "      <td>...</td>\n",
       "      <td>1.0</td>\n",
       "      <td>2.000000</td>\n",
       "      <td>2.000000</td>\n",
       "      <td>216.153724</td>\n",
       "      <td>1.0</td>\n",
       "      <td>1.0</td>\n",
       "      <td>88</td>\n",
       "      <td>88</td>\n",
       "      <td>4-6</td>\n",
       "      <td>88</td>\n",
       "    </tr>\n",
       "    <tr>\n",
       "      <th>3</th>\n",
       "      <td>19106</td>\n",
       "      <td>4.0</td>\n",
       "      <td>1.0</td>\n",
       "      <td>3.0</td>\n",
       "      <td>2.0</td>\n",
       "      <td>3.0</td>\n",
       "      <td>1.0</td>\n",
       "      <td>1.0</td>\n",
       "      <td>2.0</td>\n",
       "      <td>2.0</td>\n",
       "      <td>...</td>\n",
       "      <td>1.0</td>\n",
       "      <td>1.000000</td>\n",
       "      <td>2.000000</td>\n",
       "      <td>422.439604</td>\n",
       "      <td>1.0</td>\n",
       "      <td>1.0</td>\n",
       "      <td>10-12</td>\n",
       "      <td>1-3</td>\n",
       "      <td>7-9</td>\n",
       "      <td>4</td>\n",
       "    </tr>\n",
       "    <tr>\n",
       "      <th>4</th>\n",
       "      <td>341849</td>\n",
       "      <td>49.0</td>\n",
       "      <td>1.0</td>\n",
       "      <td>6.0</td>\n",
       "      <td>1.0</td>\n",
       "      <td>3.0</td>\n",
       "      <td>1.0</td>\n",
       "      <td>1.0</td>\n",
       "      <td>2.0</td>\n",
       "      <td>2.0</td>\n",
       "      <td>...</td>\n",
       "      <td>1.0</td>\n",
       "      <td>1.764556</td>\n",
       "      <td>2.076261</td>\n",
       "      <td>317.087789</td>\n",
       "      <td>1.0</td>\n",
       "      <td>1.0</td>\n",
       "      <td>88</td>\n",
       "      <td>88</td>\n",
       "      <td>7-9</td>\n",
       "      <td>88</td>\n",
       "    </tr>\n",
       "  </tbody>\n",
       "</table>\n",
       "<p>5 rows × 39 columns</p>\n",
       "</div>"
      ],
      "text/plain": [
       "   Unnamed: 0  FIPS  X_URBSTAT  X_AGEG5YR  SEXVAR  GENHLTH  HLTHPLN1  \\\n",
       "0      285161  39.0        1.0        6.0     1.0      3.0       1.0   \n",
       "1      163053  25.0        1.0        9.0     2.0      2.0       1.0   \n",
       "2      104402  19.0        1.0        9.0     2.0      3.0       1.0   \n",
       "3       19106   4.0        1.0        3.0     2.0      3.0       1.0   \n",
       "4      341849  49.0        1.0        6.0     1.0      3.0       1.0   \n",
       "\n",
       "   EXERANY2  CVDINFR4  CVDCRHD4  ...  SEATBELT   HIVTST7  HIVRISK5  \\\n",
       "0       1.0       2.0       2.0  ...       1.0  2.000000  2.000000   \n",
       "1       1.0       2.0       2.0  ...       1.0  1.000000  2.000000   \n",
       "2       1.0       2.0       2.0  ...       1.0  2.000000  2.000000   \n",
       "3       1.0       2.0       2.0  ...       1.0  1.000000  2.000000   \n",
       "4       1.0       2.0       2.0  ...       1.0  1.764556  2.076261   \n",
       "\n",
       "     X_LLCPWT  HADEXAM  SMOKDRINK  PHYSHLTH_BINNED  MENTHLTH_BINNED  \\\n",
       "0  750.791643      1.0        1.0               88               88   \n",
       "1  196.090804      1.0        1.0               88              4-6   \n",
       "2  216.153724      1.0        1.0               88               88   \n",
       "3  422.439604      1.0        1.0            10-12              1-3   \n",
       "4  317.087789      1.0        1.0               88               88   \n",
       "\n",
       "   SLEPTIM1_BINNED  CHILDREN_BINNED  \n",
       "0              7-9               88  \n",
       "1              4-6               88  \n",
       "2              4-6               88  \n",
       "3              7-9                4  \n",
       "4              7-9               88  \n",
       "\n",
       "[5 rows x 39 columns]"
      ]
     },
     "execution_count": 287,
     "metadata": {},
     "output_type": "execute_result"
    }
   ],
   "source": [
    "X_train_imputed.head()"
   ]
  },
  {
   "cell_type": "code",
   "execution_count": 288,
   "id": "f66efe7b",
   "metadata": {},
   "outputs": [
    {
     "data": {
      "text/html": [
       "<div>\n",
       "<style scoped>\n",
       "    .dataframe tbody tr th:only-of-type {\n",
       "        vertical-align: middle;\n",
       "    }\n",
       "\n",
       "    .dataframe tbody tr th {\n",
       "        vertical-align: top;\n",
       "    }\n",
       "\n",
       "    .dataframe thead th {\n",
       "        text-align: right;\n",
       "    }\n",
       "</style>\n",
       "<table border=\"1\" class=\"dataframe\">\n",
       "  <thead>\n",
       "    <tr style=\"text-align: right;\">\n",
       "      <th></th>\n",
       "      <th>Unnamed: 0</th>\n",
       "      <th>FIPS</th>\n",
       "      <th>X_URBSTAT</th>\n",
       "      <th>X_AGEG5YR</th>\n",
       "      <th>SEXVAR</th>\n",
       "      <th>GENHLTH</th>\n",
       "      <th>HLTHPLN1</th>\n",
       "      <th>EXERANY2</th>\n",
       "      <th>CVDINFR4</th>\n",
       "      <th>CVDCRHD4</th>\n",
       "      <th>...</th>\n",
       "      <th>SEATBELT</th>\n",
       "      <th>HIVTST7</th>\n",
       "      <th>HIVRISK5</th>\n",
       "      <th>X_LLCPWT</th>\n",
       "      <th>HADEXAM</th>\n",
       "      <th>SMOKDRINK</th>\n",
       "      <th>PHYSHLTH_BINNED</th>\n",
       "      <th>MENTHLTH_BINNED</th>\n",
       "      <th>SLEPTIM1_BINNED</th>\n",
       "      <th>CHILDREN_BINNED</th>\n",
       "    </tr>\n",
       "  </thead>\n",
       "  <tbody>\n",
       "    <tr>\n",
       "      <th>0</th>\n",
       "      <td>60056</td>\n",
       "      <td>12.0</td>\n",
       "      <td>1.0</td>\n",
       "      <td>12.0</td>\n",
       "      <td>2.0</td>\n",
       "      <td>3.0</td>\n",
       "      <td>1.0</td>\n",
       "      <td>1.0</td>\n",
       "      <td>2.0</td>\n",
       "      <td>2.0</td>\n",
       "      <td>...</td>\n",
       "      <td>1.0</td>\n",
       "      <td>2.0</td>\n",
       "      <td>2.0</td>\n",
       "      <td>909.202697</td>\n",
       "      <td>1.0</td>\n",
       "      <td>1.0</td>\n",
       "      <td>28-30</td>\n",
       "      <td>13-15</td>\n",
       "      <td>7-9</td>\n",
       "      <td>88</td>\n",
       "    </tr>\n",
       "    <tr>\n",
       "      <th>1</th>\n",
       "      <td>26349</td>\n",
       "      <td>6.0</td>\n",
       "      <td>1.0</td>\n",
       "      <td>5.0</td>\n",
       "      <td>2.0</td>\n",
       "      <td>2.0</td>\n",
       "      <td>1.0</td>\n",
       "      <td>1.0</td>\n",
       "      <td>2.0</td>\n",
       "      <td>2.0</td>\n",
       "      <td>...</td>\n",
       "      <td>1.0</td>\n",
       "      <td>1.0</td>\n",
       "      <td>2.0</td>\n",
       "      <td>2159.343120</td>\n",
       "      <td>1.0</td>\n",
       "      <td>1.0</td>\n",
       "      <td>88</td>\n",
       "      <td>88</td>\n",
       "      <td>4-6</td>\n",
       "      <td>88</td>\n",
       "    </tr>\n",
       "    <tr>\n",
       "      <th>2</th>\n",
       "      <td>119145</td>\n",
       "      <td>20.0</td>\n",
       "      <td>1.0</td>\n",
       "      <td>1.0</td>\n",
       "      <td>1.0</td>\n",
       "      <td>1.0</td>\n",
       "      <td>1.0</td>\n",
       "      <td>1.0</td>\n",
       "      <td>2.0</td>\n",
       "      <td>2.0</td>\n",
       "      <td>...</td>\n",
       "      <td>2.0</td>\n",
       "      <td>2.0</td>\n",
       "      <td>2.0</td>\n",
       "      <td>372.359979</td>\n",
       "      <td>1.0</td>\n",
       "      <td>1.0</td>\n",
       "      <td>88</td>\n",
       "      <td>10-12</td>\n",
       "      <td>7-9</td>\n",
       "      <td>88</td>\n",
       "    </tr>\n",
       "    <tr>\n",
       "      <th>3</th>\n",
       "      <td>26773</td>\n",
       "      <td>6.0</td>\n",
       "      <td>1.0</td>\n",
       "      <td>5.0</td>\n",
       "      <td>2.0</td>\n",
       "      <td>3.0</td>\n",
       "      <td>1.0</td>\n",
       "      <td>1.0</td>\n",
       "      <td>1.0</td>\n",
       "      <td>1.0</td>\n",
       "      <td>...</td>\n",
       "      <td>1.0</td>\n",
       "      <td>1.0</td>\n",
       "      <td>2.0</td>\n",
       "      <td>3508.687600</td>\n",
       "      <td>1.0</td>\n",
       "      <td>1.0</td>\n",
       "      <td>88</td>\n",
       "      <td>28-30</td>\n",
       "      <td>4-6</td>\n",
       "      <td>88</td>\n",
       "    </tr>\n",
       "    <tr>\n",
       "      <th>4</th>\n",
       "      <td>278014</td>\n",
       "      <td>39.0</td>\n",
       "      <td>1.0</td>\n",
       "      <td>2.0</td>\n",
       "      <td>2.0</td>\n",
       "      <td>2.0</td>\n",
       "      <td>1.0</td>\n",
       "      <td>1.0</td>\n",
       "      <td>2.0</td>\n",
       "      <td>2.0</td>\n",
       "      <td>...</td>\n",
       "      <td>2.0</td>\n",
       "      <td>2.0</td>\n",
       "      <td>2.0</td>\n",
       "      <td>1118.497380</td>\n",
       "      <td>1.0</td>\n",
       "      <td>1.0</td>\n",
       "      <td>88</td>\n",
       "      <td>4-6</td>\n",
       "      <td>4-6</td>\n",
       "      <td>88</td>\n",
       "    </tr>\n",
       "  </tbody>\n",
       "</table>\n",
       "<p>5 rows × 39 columns</p>\n",
       "</div>"
      ],
      "text/plain": [
       "   Unnamed: 0  FIPS  X_URBSTAT  X_AGEG5YR  SEXVAR  GENHLTH  HLTHPLN1  \\\n",
       "0       60056  12.0        1.0       12.0     2.0      3.0       1.0   \n",
       "1       26349   6.0        1.0        5.0     2.0      2.0       1.0   \n",
       "2      119145  20.0        1.0        1.0     1.0      1.0       1.0   \n",
       "3       26773   6.0        1.0        5.0     2.0      3.0       1.0   \n",
       "4      278014  39.0        1.0        2.0     2.0      2.0       1.0   \n",
       "\n",
       "   EXERANY2  CVDINFR4  CVDCRHD4  ...  SEATBELT  HIVTST7  HIVRISK5  \\\n",
       "0       1.0       2.0       2.0  ...       1.0      2.0       2.0   \n",
       "1       1.0       2.0       2.0  ...       1.0      1.0       2.0   \n",
       "2       1.0       2.0       2.0  ...       2.0      2.0       2.0   \n",
       "3       1.0       1.0       1.0  ...       1.0      1.0       2.0   \n",
       "4       1.0       2.0       2.0  ...       2.0      2.0       2.0   \n",
       "\n",
       "      X_LLCPWT  HADEXAM  SMOKDRINK  PHYSHLTH_BINNED  MENTHLTH_BINNED  \\\n",
       "0   909.202697      1.0        1.0            28-30            13-15   \n",
       "1  2159.343120      1.0        1.0               88               88   \n",
       "2   372.359979      1.0        1.0               88            10-12   \n",
       "3  3508.687600      1.0        1.0               88            28-30   \n",
       "4  1118.497380      1.0        1.0               88              4-6   \n",
       "\n",
       "   SLEPTIM1_BINNED  CHILDREN_BINNED  \n",
       "0              7-9               88  \n",
       "1              4-6               88  \n",
       "2              7-9               88  \n",
       "3              4-6               88  \n",
       "4              4-6               88  \n",
       "\n",
       "[5 rows x 39 columns]"
      ]
     },
     "execution_count": 288,
     "metadata": {},
     "output_type": "execute_result"
    }
   ],
   "source": [
    "X_test_imputed.head()"
   ]
  },
  {
   "cell_type": "code",
   "execution_count": 289,
   "id": "ab64606f",
   "metadata": {},
   "outputs": [],
   "source": [
    "X_train_imputed.set_index(X_train_imputed.columns[0], inplace= True)"
   ]
  },
  {
   "cell_type": "code",
   "execution_count": 290,
   "id": "ccc19f6c",
   "metadata": {},
   "outputs": [],
   "source": [
    "X_test_imputed.set_index(X_test_imputed.columns[0], inplace= True)"
   ]
  },
  {
   "cell_type": "code",
   "execution_count": 291,
   "id": "901034d2",
   "metadata": {},
   "outputs": [
    {
     "data": {
      "text/html": [
       "<div>\n",
       "<style scoped>\n",
       "    .dataframe tbody tr th:only-of-type {\n",
       "        vertical-align: middle;\n",
       "    }\n",
       "\n",
       "    .dataframe tbody tr th {\n",
       "        vertical-align: top;\n",
       "    }\n",
       "\n",
       "    .dataframe thead th {\n",
       "        text-align: right;\n",
       "    }\n",
       "</style>\n",
       "<table border=\"1\" class=\"dataframe\">\n",
       "  <thead>\n",
       "    <tr style=\"text-align: right;\">\n",
       "      <th></th>\n",
       "      <th>FIPS</th>\n",
       "      <th>X_URBSTAT</th>\n",
       "      <th>X_AGEG5YR</th>\n",
       "      <th>SEXVAR</th>\n",
       "      <th>GENHLTH</th>\n",
       "      <th>HLTHPLN1</th>\n",
       "      <th>EXERANY2</th>\n",
       "      <th>CVDINFR4</th>\n",
       "      <th>CVDCRHD4</th>\n",
       "      <th>CVDSTRK3</th>\n",
       "      <th>...</th>\n",
       "      <th>WEIGHT2</th>\n",
       "      <th>HTIN4</th>\n",
       "      <th>DEAF</th>\n",
       "      <th>BLIND</th>\n",
       "      <th>SEATBELT</th>\n",
       "      <th>HIVTST7</th>\n",
       "      <th>HIVRISK5</th>\n",
       "      <th>X_LLCPWT</th>\n",
       "      <th>HADEXAM</th>\n",
       "      <th>SMOKDRINK</th>\n",
       "    </tr>\n",
       "  </thead>\n",
       "  <tbody>\n",
       "    <tr>\n",
       "      <th>count</th>\n",
       "      <td>301466.000000</td>\n",
       "      <td>301466.000000</td>\n",
       "      <td>301466.000000</td>\n",
       "      <td>301466.000000</td>\n",
       "      <td>301466.000000</td>\n",
       "      <td>301466.000000</td>\n",
       "      <td>301466.000000</td>\n",
       "      <td>301466.000000</td>\n",
       "      <td>301466.000000</td>\n",
       "      <td>301466.000000</td>\n",
       "      <td>...</td>\n",
       "      <td>301466.000000</td>\n",
       "      <td>301466.000000</td>\n",
       "      <td>301466.000000</td>\n",
       "      <td>301466.000000</td>\n",
       "      <td>301466.000000</td>\n",
       "      <td>301466.000000</td>\n",
       "      <td>301466.000000</td>\n",
       "      <td>301466.000000</td>\n",
       "      <td>301466.000000</td>\n",
       "      <td>301466.000000</td>\n",
       "    </tr>\n",
       "    <tr>\n",
       "      <th>mean</th>\n",
       "      <td>30.018748</td>\n",
       "      <td>1.150408</td>\n",
       "      <td>7.667664</td>\n",
       "      <td>1.541978</td>\n",
       "      <td>2.454812</td>\n",
       "      <td>1.125165</td>\n",
       "      <td>1.251037</td>\n",
       "      <td>1.981530</td>\n",
       "      <td>2.001426</td>\n",
       "      <td>1.981185</td>\n",
       "      <td>...</td>\n",
       "      <td>184.367666</td>\n",
       "      <td>66.968549</td>\n",
       "      <td>1.941455</td>\n",
       "      <td>1.973474</td>\n",
       "      <td>1.261002</td>\n",
       "      <td>2.031189</td>\n",
       "      <td>1.999861</td>\n",
       "      <td>646.553449</td>\n",
       "      <td>1.168978</td>\n",
       "      <td>1.110520</td>\n",
       "    </tr>\n",
       "    <tr>\n",
       "      <th>std</th>\n",
       "      <td>15.778080</td>\n",
       "      <td>0.354101</td>\n",
       "      <td>3.660480</td>\n",
       "      <td>0.498236</td>\n",
       "      <td>1.102840</td>\n",
       "      <td>0.629681</td>\n",
       "      <td>0.536443</td>\n",
       "      <td>0.555736</td>\n",
       "      <td>0.676998</td>\n",
       "      <td>0.426096</td>\n",
       "      <td>...</td>\n",
       "      <td>58.143077</td>\n",
       "      <td>4.077312</td>\n",
       "      <td>0.515598</td>\n",
       "      <td>0.462709</td>\n",
       "      <td>0.829846</td>\n",
       "      <td>1.608640</td>\n",
       "      <td>0.523902</td>\n",
       "      <td>1398.518742</td>\n",
       "      <td>0.915161</td>\n",
       "      <td>0.741486</td>\n",
       "    </tr>\n",
       "    <tr>\n",
       "      <th>min</th>\n",
       "      <td>1.000000</td>\n",
       "      <td>1.000000</td>\n",
       "      <td>1.000000</td>\n",
       "      <td>1.000000</td>\n",
       "      <td>1.000000</td>\n",
       "      <td>1.000000</td>\n",
       "      <td>1.000000</td>\n",
       "      <td>1.000000</td>\n",
       "      <td>1.000000</td>\n",
       "      <td>1.000000</td>\n",
       "      <td>...</td>\n",
       "      <td>27.251222</td>\n",
       "      <td>36.000000</td>\n",
       "      <td>1.000000</td>\n",
       "      <td>1.000000</td>\n",
       "      <td>1.000000</td>\n",
       "      <td>1.000000</td>\n",
       "      <td>1.000000</td>\n",
       "      <td>1.150421</td>\n",
       "      <td>1.000000</td>\n",
       "      <td>1.000000</td>\n",
       "    </tr>\n",
       "    <tr>\n",
       "      <th>25%</th>\n",
       "      <td>18.000000</td>\n",
       "      <td>1.000000</td>\n",
       "      <td>5.000000</td>\n",
       "      <td>1.000000</td>\n",
       "      <td>2.000000</td>\n",
       "      <td>1.000000</td>\n",
       "      <td>1.000000</td>\n",
       "      <td>2.000000</td>\n",
       "      <td>2.000000</td>\n",
       "      <td>2.000000</td>\n",
       "      <td>...</td>\n",
       "      <td>150.000000</td>\n",
       "      <td>64.000000</td>\n",
       "      <td>2.000000</td>\n",
       "      <td>2.000000</td>\n",
       "      <td>1.000000</td>\n",
       "      <td>1.000000</td>\n",
       "      <td>2.000000</td>\n",
       "      <td>113.222655</td>\n",
       "      <td>1.000000</td>\n",
       "      <td>1.000000</td>\n",
       "    </tr>\n",
       "    <tr>\n",
       "      <th>50%</th>\n",
       "      <td>29.000000</td>\n",
       "      <td>1.000000</td>\n",
       "      <td>8.000000</td>\n",
       "      <td>2.000000</td>\n",
       "      <td>2.000000</td>\n",
       "      <td>1.000000</td>\n",
       "      <td>1.000000</td>\n",
       "      <td>2.000000</td>\n",
       "      <td>2.000000</td>\n",
       "      <td>2.000000</td>\n",
       "      <td>...</td>\n",
       "      <td>176.431616</td>\n",
       "      <td>67.000000</td>\n",
       "      <td>2.000000</td>\n",
       "      <td>2.000000</td>\n",
       "      <td>1.000000</td>\n",
       "      <td>2.000000</td>\n",
       "      <td>2.000000</td>\n",
       "      <td>282.064993</td>\n",
       "      <td>1.000000</td>\n",
       "      <td>1.000000</td>\n",
       "    </tr>\n",
       "    <tr>\n",
       "      <th>75%</th>\n",
       "      <td>41.000000</td>\n",
       "      <td>1.000000</td>\n",
       "      <td>11.000000</td>\n",
       "      <td>2.000000</td>\n",
       "      <td>3.000000</td>\n",
       "      <td>1.000000</td>\n",
       "      <td>1.000000</td>\n",
       "      <td>2.000000</td>\n",
       "      <td>2.000000</td>\n",
       "      <td>2.000000</td>\n",
       "      <td>...</td>\n",
       "      <td>203.000000</td>\n",
       "      <td>70.000000</td>\n",
       "      <td>2.000000</td>\n",
       "      <td>2.000000</td>\n",
       "      <td>1.000000</td>\n",
       "      <td>2.000000</td>\n",
       "      <td>2.000000</td>\n",
       "      <td>663.284956</td>\n",
       "      <td>1.000000</td>\n",
       "      <td>1.000000</td>\n",
       "    </tr>\n",
       "    <tr>\n",
       "      <th>max</th>\n",
       "      <td>72.000000</td>\n",
       "      <td>2.000000</td>\n",
       "      <td>14.000000</td>\n",
       "      <td>2.000000</td>\n",
       "      <td>9.000000</td>\n",
       "      <td>9.000000</td>\n",
       "      <td>9.000000</td>\n",
       "      <td>9.000000</td>\n",
       "      <td>9.000000</td>\n",
       "      <td>9.000000</td>\n",
       "      <td>...</td>\n",
       "      <td>775.987179</td>\n",
       "      <td>95.000000</td>\n",
       "      <td>9.000000</td>\n",
       "      <td>9.000000</td>\n",
       "      <td>9.000000</td>\n",
       "      <td>9.000000</td>\n",
       "      <td>9.000000</td>\n",
       "      <td>72989.086900</td>\n",
       "      <td>7.000000</td>\n",
       "      <td>7.000000</td>\n",
       "    </tr>\n",
       "  </tbody>\n",
       "</table>\n",
       "<p>8 rows × 34 columns</p>\n",
       "</div>"
      ],
      "text/plain": [
       "                FIPS      X_URBSTAT      X_AGEG5YR         SEXVAR  \\\n",
       "count  301466.000000  301466.000000  301466.000000  301466.000000   \n",
       "mean       30.018748       1.150408       7.667664       1.541978   \n",
       "std        15.778080       0.354101       3.660480       0.498236   \n",
       "min         1.000000       1.000000       1.000000       1.000000   \n",
       "25%        18.000000       1.000000       5.000000       1.000000   \n",
       "50%        29.000000       1.000000       8.000000       2.000000   \n",
       "75%        41.000000       1.000000      11.000000       2.000000   \n",
       "max        72.000000       2.000000      14.000000       2.000000   \n",
       "\n",
       "             GENHLTH       HLTHPLN1       EXERANY2       CVDINFR4  \\\n",
       "count  301466.000000  301466.000000  301466.000000  301466.000000   \n",
       "mean        2.454812       1.125165       1.251037       1.981530   \n",
       "std         1.102840       0.629681       0.536443       0.555736   \n",
       "min         1.000000       1.000000       1.000000       1.000000   \n",
       "25%         2.000000       1.000000       1.000000       2.000000   \n",
       "50%         2.000000       1.000000       1.000000       2.000000   \n",
       "75%         3.000000       1.000000       1.000000       2.000000   \n",
       "max         9.000000       9.000000       9.000000       9.000000   \n",
       "\n",
       "            CVDCRHD4       CVDSTRK3  ...        WEIGHT2          HTIN4  \\\n",
       "count  301466.000000  301466.000000  ...  301466.000000  301466.000000   \n",
       "mean        2.001426       1.981185  ...     184.367666      66.968549   \n",
       "std         0.676998       0.426096  ...      58.143077       4.077312   \n",
       "min         1.000000       1.000000  ...      27.251222      36.000000   \n",
       "25%         2.000000       2.000000  ...     150.000000      64.000000   \n",
       "50%         2.000000       2.000000  ...     176.431616      67.000000   \n",
       "75%         2.000000       2.000000  ...     203.000000      70.000000   \n",
       "max         9.000000       9.000000  ...     775.987179      95.000000   \n",
       "\n",
       "                DEAF          BLIND       SEATBELT        HIVTST7  \\\n",
       "count  301466.000000  301466.000000  301466.000000  301466.000000   \n",
       "mean        1.941455       1.973474       1.261002       2.031189   \n",
       "std         0.515598       0.462709       0.829846       1.608640   \n",
       "min         1.000000       1.000000       1.000000       1.000000   \n",
       "25%         2.000000       2.000000       1.000000       1.000000   \n",
       "50%         2.000000       2.000000       1.000000       2.000000   \n",
       "75%         2.000000       2.000000       1.000000       2.000000   \n",
       "max         9.000000       9.000000       9.000000       9.000000   \n",
       "\n",
       "            HIVRISK5       X_LLCPWT        HADEXAM      SMOKDRINK  \n",
       "count  301466.000000  301466.000000  301466.000000  301466.000000  \n",
       "mean        1.999861     646.553449       1.168978       1.110520  \n",
       "std         0.523902    1398.518742       0.915161       0.741486  \n",
       "min         1.000000       1.150421       1.000000       1.000000  \n",
       "25%         2.000000     113.222655       1.000000       1.000000  \n",
       "50%         2.000000     282.064993       1.000000       1.000000  \n",
       "75%         2.000000     663.284956       1.000000       1.000000  \n",
       "max         9.000000   72989.086900       7.000000       7.000000  \n",
       "\n",
       "[8 rows x 34 columns]"
      ]
     },
     "execution_count": 291,
     "metadata": {},
     "output_type": "execute_result"
    }
   ],
   "source": [
    "X_train_imputed.describe()"
   ]
  },
  {
   "cell_type": "code",
   "execution_count": 292,
   "id": "ed72f8e9",
   "metadata": {},
   "outputs": [
    {
     "data": {
      "text/html": [
       "<div>\n",
       "<style scoped>\n",
       "    .dataframe tbody tr th:only-of-type {\n",
       "        vertical-align: middle;\n",
       "    }\n",
       "\n",
       "    .dataframe tbody tr th {\n",
       "        vertical-align: top;\n",
       "    }\n",
       "\n",
       "    .dataframe thead th {\n",
       "        text-align: right;\n",
       "    }\n",
       "</style>\n",
       "<table border=\"1\" class=\"dataframe\">\n",
       "  <thead>\n",
       "    <tr style=\"text-align: right;\">\n",
       "      <th></th>\n",
       "      <th>FIPS</th>\n",
       "      <th>X_URBSTAT</th>\n",
       "      <th>X_AGEG5YR</th>\n",
       "      <th>SEXVAR</th>\n",
       "      <th>GENHLTH</th>\n",
       "      <th>HLTHPLN1</th>\n",
       "      <th>EXERANY2</th>\n",
       "      <th>CVDINFR4</th>\n",
       "      <th>CVDCRHD4</th>\n",
       "      <th>CVDSTRK3</th>\n",
       "      <th>...</th>\n",
       "      <th>WEIGHT2</th>\n",
       "      <th>HTIN4</th>\n",
       "      <th>DEAF</th>\n",
       "      <th>BLIND</th>\n",
       "      <th>SEATBELT</th>\n",
       "      <th>HIVTST7</th>\n",
       "      <th>HIVRISK5</th>\n",
       "      <th>X_LLCPWT</th>\n",
       "      <th>HADEXAM</th>\n",
       "      <th>SMOKDRINK</th>\n",
       "    </tr>\n",
       "  </thead>\n",
       "  <tbody>\n",
       "    <tr>\n",
       "      <th>count</th>\n",
       "      <td>100489.000000</td>\n",
       "      <td>100489.000000</td>\n",
       "      <td>100489.000000</td>\n",
       "      <td>100489.000000</td>\n",
       "      <td>100489.000000</td>\n",
       "      <td>100489.000000</td>\n",
       "      <td>100489.000000</td>\n",
       "      <td>100489.000000</td>\n",
       "      <td>100489.000000</td>\n",
       "      <td>100489.000000</td>\n",
       "      <td>...</td>\n",
       "      <td>100489.000000</td>\n",
       "      <td>100489.000000</td>\n",
       "      <td>100489.000000</td>\n",
       "      <td>100489.000000</td>\n",
       "      <td>100489.000000</td>\n",
       "      <td>100489.000000</td>\n",
       "      <td>100489.000000</td>\n",
       "      <td>100489.000000</td>\n",
       "      <td>100489.000000</td>\n",
       "      <td>100489.000000</td>\n",
       "    </tr>\n",
       "    <tr>\n",
       "      <th>mean</th>\n",
       "      <td>29.985770</td>\n",
       "      <td>1.149593</td>\n",
       "      <td>7.666272</td>\n",
       "      <td>1.543602</td>\n",
       "      <td>2.460284</td>\n",
       "      <td>1.127108</td>\n",
       "      <td>1.250236</td>\n",
       "      <td>1.981588</td>\n",
       "      <td>2.000647</td>\n",
       "      <td>1.982844</td>\n",
       "      <td>...</td>\n",
       "      <td>184.499528</td>\n",
       "      <td>66.955153</td>\n",
       "      <td>1.941616</td>\n",
       "      <td>1.973139</td>\n",
       "      <td>1.260186</td>\n",
       "      <td>2.032071</td>\n",
       "      <td>2.001113</td>\n",
       "      <td>651.746631</td>\n",
       "      <td>1.169342</td>\n",
       "      <td>1.115236</td>\n",
       "    </tr>\n",
       "    <tr>\n",
       "      <th>std</th>\n",
       "      <td>15.759402</td>\n",
       "      <td>0.353391</td>\n",
       "      <td>3.659305</td>\n",
       "      <td>0.498098</td>\n",
       "      <td>1.100140</td>\n",
       "      <td>0.630393</td>\n",
       "      <td>0.516482</td>\n",
       "      <td>0.550817</td>\n",
       "      <td>0.677165</td>\n",
       "      <td>0.432241</td>\n",
       "      <td>...</td>\n",
       "      <td>58.300975</td>\n",
       "      <td>4.072611</td>\n",
       "      <td>0.506697</td>\n",
       "      <td>0.461309</td>\n",
       "      <td>0.825399</td>\n",
       "      <td>1.613332</td>\n",
       "      <td>0.539338</td>\n",
       "      <td>1476.465421</td>\n",
       "      <td>0.916762</td>\n",
       "      <td>0.758779</td>\n",
       "    </tr>\n",
       "    <tr>\n",
       "      <th>min</th>\n",
       "      <td>1.000000</td>\n",
       "      <td>1.000000</td>\n",
       "      <td>1.000000</td>\n",
       "      <td>1.000000</td>\n",
       "      <td>1.000000</td>\n",
       "      <td>1.000000</td>\n",
       "      <td>1.000000</td>\n",
       "      <td>1.000000</td>\n",
       "      <td>1.000000</td>\n",
       "      <td>1.000000</td>\n",
       "      <td>...</td>\n",
       "      <td>16.403841</td>\n",
       "      <td>36.000000</td>\n",
       "      <td>1.000000</td>\n",
       "      <td>1.000000</td>\n",
       "      <td>1.000000</td>\n",
       "      <td>1.000000</td>\n",
       "      <td>1.000000</td>\n",
       "      <td>0.958278</td>\n",
       "      <td>1.000000</td>\n",
       "      <td>1.000000</td>\n",
       "    </tr>\n",
       "    <tr>\n",
       "      <th>25%</th>\n",
       "      <td>18.000000</td>\n",
       "      <td>1.000000</td>\n",
       "      <td>5.000000</td>\n",
       "      <td>1.000000</td>\n",
       "      <td>2.000000</td>\n",
       "      <td>1.000000</td>\n",
       "      <td>1.000000</td>\n",
       "      <td>2.000000</td>\n",
       "      <td>2.000000</td>\n",
       "      <td>2.000000</td>\n",
       "      <td>...</td>\n",
       "      <td>150.000000</td>\n",
       "      <td>64.000000</td>\n",
       "      <td>2.000000</td>\n",
       "      <td>2.000000</td>\n",
       "      <td>1.000000</td>\n",
       "      <td>1.000000</td>\n",
       "      <td>2.000000</td>\n",
       "      <td>113.806758</td>\n",
       "      <td>1.000000</td>\n",
       "      <td>1.000000</td>\n",
       "    </tr>\n",
       "    <tr>\n",
       "      <th>50%</th>\n",
       "      <td>29.000000</td>\n",
       "      <td>1.000000</td>\n",
       "      <td>8.000000</td>\n",
       "      <td>2.000000</td>\n",
       "      <td>2.000000</td>\n",
       "      <td>1.000000</td>\n",
       "      <td>1.000000</td>\n",
       "      <td>2.000000</td>\n",
       "      <td>2.000000</td>\n",
       "      <td>2.000000</td>\n",
       "      <td>...</td>\n",
       "      <td>177.000000</td>\n",
       "      <td>67.000000</td>\n",
       "      <td>2.000000</td>\n",
       "      <td>2.000000</td>\n",
       "      <td>1.000000</td>\n",
       "      <td>2.000000</td>\n",
       "      <td>2.000000</td>\n",
       "      <td>282.983374</td>\n",
       "      <td>1.000000</td>\n",
       "      <td>1.000000</td>\n",
       "    </tr>\n",
       "    <tr>\n",
       "      <th>75%</th>\n",
       "      <td>41.000000</td>\n",
       "      <td>1.000000</td>\n",
       "      <td>11.000000</td>\n",
       "      <td>2.000000</td>\n",
       "      <td>3.000000</td>\n",
       "      <td>1.000000</td>\n",
       "      <td>1.000000</td>\n",
       "      <td>2.000000</td>\n",
       "      <td>2.000000</td>\n",
       "      <td>2.000000</td>\n",
       "      <td>...</td>\n",
       "      <td>204.000000</td>\n",
       "      <td>70.000000</td>\n",
       "      <td>2.000000</td>\n",
       "      <td>2.000000</td>\n",
       "      <td>1.000000</td>\n",
       "      <td>2.000000</td>\n",
       "      <td>2.000000</td>\n",
       "      <td>666.370015</td>\n",
       "      <td>1.000000</td>\n",
       "      <td>1.000000</td>\n",
       "    </tr>\n",
       "    <tr>\n",
       "      <th>max</th>\n",
       "      <td>72.000000</td>\n",
       "      <td>2.000000</td>\n",
       "      <td>14.000000</td>\n",
       "      <td>2.000000</td>\n",
       "      <td>9.000000</td>\n",
       "      <td>9.000000</td>\n",
       "      <td>9.000000</td>\n",
       "      <td>9.000000</td>\n",
       "      <td>9.000000</td>\n",
       "      <td>9.000000</td>\n",
       "      <td>...</td>\n",
       "      <td>775.946962</td>\n",
       "      <td>89.000000</td>\n",
       "      <td>9.000000</td>\n",
       "      <td>9.000000</td>\n",
       "      <td>9.000000</td>\n",
       "      <td>9.000000</td>\n",
       "      <td>9.000000</td>\n",
       "      <td>83193.322100</td>\n",
       "      <td>7.000000</td>\n",
       "      <td>7.000000</td>\n",
       "    </tr>\n",
       "  </tbody>\n",
       "</table>\n",
       "<p>8 rows × 34 columns</p>\n",
       "</div>"
      ],
      "text/plain": [
       "                FIPS      X_URBSTAT      X_AGEG5YR         SEXVAR  \\\n",
       "count  100489.000000  100489.000000  100489.000000  100489.000000   \n",
       "mean       29.985770       1.149593       7.666272       1.543602   \n",
       "std        15.759402       0.353391       3.659305       0.498098   \n",
       "min         1.000000       1.000000       1.000000       1.000000   \n",
       "25%        18.000000       1.000000       5.000000       1.000000   \n",
       "50%        29.000000       1.000000       8.000000       2.000000   \n",
       "75%        41.000000       1.000000      11.000000       2.000000   \n",
       "max        72.000000       2.000000      14.000000       2.000000   \n",
       "\n",
       "             GENHLTH       HLTHPLN1       EXERANY2       CVDINFR4  \\\n",
       "count  100489.000000  100489.000000  100489.000000  100489.000000   \n",
       "mean        2.460284       1.127108       1.250236       1.981588   \n",
       "std         1.100140       0.630393       0.516482       0.550817   \n",
       "min         1.000000       1.000000       1.000000       1.000000   \n",
       "25%         2.000000       1.000000       1.000000       2.000000   \n",
       "50%         2.000000       1.000000       1.000000       2.000000   \n",
       "75%         3.000000       1.000000       1.000000       2.000000   \n",
       "max         9.000000       9.000000       9.000000       9.000000   \n",
       "\n",
       "            CVDCRHD4       CVDSTRK3  ...        WEIGHT2          HTIN4  \\\n",
       "count  100489.000000  100489.000000  ...  100489.000000  100489.000000   \n",
       "mean        2.000647       1.982844  ...     184.499528      66.955153   \n",
       "std         0.677165       0.432241  ...      58.300975       4.072611   \n",
       "min         1.000000       1.000000  ...      16.403841      36.000000   \n",
       "25%         2.000000       2.000000  ...     150.000000      64.000000   \n",
       "50%         2.000000       2.000000  ...     177.000000      67.000000   \n",
       "75%         2.000000       2.000000  ...     204.000000      70.000000   \n",
       "max         9.000000       9.000000  ...     775.946962      89.000000   \n",
       "\n",
       "                DEAF          BLIND       SEATBELT        HIVTST7  \\\n",
       "count  100489.000000  100489.000000  100489.000000  100489.000000   \n",
       "mean        1.941616       1.973139       1.260186       2.032071   \n",
       "std         0.506697       0.461309       0.825399       1.613332   \n",
       "min         1.000000       1.000000       1.000000       1.000000   \n",
       "25%         2.000000       2.000000       1.000000       1.000000   \n",
       "50%         2.000000       2.000000       1.000000       2.000000   \n",
       "75%         2.000000       2.000000       1.000000       2.000000   \n",
       "max         9.000000       9.000000       9.000000       9.000000   \n",
       "\n",
       "            HIVRISK5       X_LLCPWT        HADEXAM      SMOKDRINK  \n",
       "count  100489.000000  100489.000000  100489.000000  100489.000000  \n",
       "mean        2.001113     651.746631       1.169342       1.115236  \n",
       "std         0.539338    1476.465421       0.916762       0.758779  \n",
       "min         1.000000       0.958278       1.000000       1.000000  \n",
       "25%         2.000000     113.806758       1.000000       1.000000  \n",
       "50%         2.000000     282.983374       1.000000       1.000000  \n",
       "75%         2.000000     666.370015       1.000000       1.000000  \n",
       "max         9.000000   83193.322100       7.000000       7.000000  \n",
       "\n",
       "[8 rows x 34 columns]"
      ]
     },
     "execution_count": 292,
     "metadata": {},
     "output_type": "execute_result"
    }
   ],
   "source": [
    "X_test_imputed.describe()"
   ]
  },
  {
   "cell_type": "code",
   "execution_count": 293,
   "id": "25cd7c41",
   "metadata": {},
   "outputs": [
    {
     "data": {
      "text/plain": [
       "Index(['FIPS', 'X_URBSTAT', 'X_AGEG5YR', 'SEXVAR', 'GENHLTH', 'HLTHPLN1',\n",
       "       'EXERANY2', 'CVDINFR4', 'CVDCRHD4', 'CVDSTRK3', 'ASTHMA3', 'CHCCOPD2',\n",
       "       'HAVARTH4', 'ADDEPEV3', 'CHCKDNY2', 'DIABETE4', 'LASTDEN4', 'RMVTETH4',\n",
       "       'MARITAL', 'EDUCA', 'RENTHOM1', 'VETERAN3', 'EMPLOY1', 'INCOME2',\n",
       "       'WEIGHT2', 'HTIN4', 'DEAF', 'BLIND', 'SEATBELT', 'HIVTST7', 'HIVRISK5',\n",
       "       'X_LLCPWT', 'HADEXAM', 'SMOKDRINK', 'PHYSHLTH_BINNED',\n",
       "       'MENTHLTH_BINNED', 'SLEPTIM1_BINNED', 'CHILDREN_BINNED'],\n",
       "      dtype='object')"
      ]
     },
     "execution_count": 293,
     "metadata": {},
     "output_type": "execute_result"
    }
   ],
   "source": [
    "X_train_imputed.columns"
   ]
  },
  {
   "cell_type": "code",
   "execution_count": 294,
   "id": "4b996624",
   "metadata": {},
   "outputs": [
    {
     "data": {
      "text/plain": [
       "Index(['FIPS', 'X_URBSTAT', 'X_AGEG5YR', 'SEXVAR', 'GENHLTH', 'HLTHPLN1',\n",
       "       'EXERANY2', 'CVDINFR4', 'CVDCRHD4', 'CVDSTRK3', 'ASTHMA3', 'CHCCOPD2',\n",
       "       'HAVARTH4', 'ADDEPEV3', 'CHCKDNY2', 'DIABETE4', 'LASTDEN4', 'RMVTETH4',\n",
       "       'MARITAL', 'EDUCA', 'RENTHOM1', 'VETERAN3', 'EMPLOY1', 'INCOME2',\n",
       "       'WEIGHT2', 'HTIN4', 'DEAF', 'BLIND', 'SEATBELT', 'HIVTST7', 'HIVRISK5',\n",
       "       'X_LLCPWT', 'HADEXAM', 'SMOKDRINK', 'PHYSHLTH_BINNED',\n",
       "       'MENTHLTH_BINNED', 'SLEPTIM1_BINNED', 'CHILDREN_BINNED'],\n",
       "      dtype='object')"
      ]
     },
     "execution_count": 294,
     "metadata": {},
     "output_type": "execute_result"
    }
   ],
   "source": [
    "X_test_imputed.columns"
   ]
  },
  {
   "cell_type": "code",
   "execution_count": 295,
   "id": "07020c91",
   "metadata": {},
   "outputs": [
    {
     "data": {
      "text/plain": [
       "X_URBSTAT\n",
       "1.000000    251731\n",
       "2.000000     44381\n",
       "1.142083         1\n",
       "1.089259         1\n",
       "1.301333         1\n",
       "             ...  \n",
       "1.090715         1\n",
       "1.444975         1\n",
       "1.186148         1\n",
       "1.131846         1\n",
       "1.094466         1\n",
       "Name: count, Length: 5356, dtype: int64"
      ]
     },
     "execution_count": 295,
     "metadata": {},
     "output_type": "execute_result"
    }
   ],
   "source": [
    "X_train_imputed['X_URBSTAT'].value_counts()"
   ]
  },
  {
   "cell_type": "code",
   "execution_count": 296,
   "id": "a3662b5b",
   "metadata": {},
   "outputs": [],
   "source": [
    "# Define the list of valid values for 'X_URBSTAT' column\n",
    "valid_values = [1, 2]\n",
    "\n",
    "# Map invalid values to the nearest valid value\n",
    "X_train_imputed['X_URBSTAT'] = X_train_imputed['X_URBSTAT'].apply(lambda x: min(valid_values, key=lambda y: abs(y - x)))\n",
    "X_test_imputed['X_URBSTAT'] = X_test_imputed['X_URBSTAT'].apply(lambda x: min(valid_values, key=lambda y: abs(y - x)))"
   ]
  },
  {
   "cell_type": "code",
   "execution_count": 297,
   "id": "076ba877",
   "metadata": {},
   "outputs": [
    {
     "data": {
      "text/plain": [
       "X_URBSTAT\n",
       "1    257070\n",
       "2     44396\n",
       "Name: count, dtype: int64"
      ]
     },
     "execution_count": 297,
     "metadata": {},
     "output_type": "execute_result"
    }
   ],
   "source": [
    "X_train_imputed['X_URBSTAT'].value_counts()"
   ]
  },
  {
   "cell_type": "code",
   "execution_count": 298,
   "id": "567a2619",
   "metadata": {},
   "outputs": [
    {
     "data": {
      "text/plain": [
       "GENHLTH\n",
       "2.000000    103459\n",
       "3.000000     89666\n",
       "1.000000     61472\n",
       "4.000000     34583\n",
       "5.000000     11558\n",
       "9.000000       725\n",
       "2.164224         1\n",
       "2.846719         1\n",
       "2.471822         1\n",
       "Name: count, dtype: int64"
      ]
     },
     "execution_count": 298,
     "metadata": {},
     "output_type": "execute_result"
    }
   ],
   "source": [
    "X_train_imputed['GENHLTH'].value_counts()"
   ]
  },
  {
   "cell_type": "code",
   "execution_count": 299,
   "id": "afd12961",
   "metadata": {},
   "outputs": [],
   "source": [
    "# Define the list of valid values for 'GENHLTH' column\n",
    "valid_values = [1, 2, 3, 4, 5, 7, 9]\n",
    "\n",
    "# Map invalid values to the nearest valid value\n",
    "X_train_imputed['GENHLTH'] = X_train_imputed['GENHLTH'].apply(lambda x: min(valid_values, key=lambda y: abs(y - x)))\n",
    "X_test_imputed['GENHLTH'] = X_test_imputed['GENHLTH'].apply(lambda x: min(valid_values, key=lambda y: abs(y - x)))"
   ]
  },
  {
   "cell_type": "code",
   "execution_count": 300,
   "id": "ec8e2279",
   "metadata": {},
   "outputs": [
    {
     "data": {
      "text/plain": [
       "GENHLTH\n",
       "2    103461\n",
       "3     89667\n",
       "1     61472\n",
       "4     34583\n",
       "5     11558\n",
       "9       725\n",
       "Name: count, dtype: int64"
      ]
     },
     "execution_count": 300,
     "metadata": {},
     "output_type": "execute_result"
    }
   ],
   "source": [
    "X_train_imputed['GENHLTH'].value_counts()"
   ]
  },
  {
   "cell_type": "code",
   "execution_count": 301,
   "id": "1af2a634",
   "metadata": {},
   "outputs": [
    {
     "data": {
      "text/plain": [
       "CVDINFR4\n",
       "2.000000    283376\n",
       "1.000000     16523\n",
       "9.000000      1565\n",
       "1.906031         1\n",
       "2.156343         1\n",
       "Name: count, dtype: int64"
      ]
     },
     "execution_count": 301,
     "metadata": {},
     "output_type": "execute_result"
    }
   ],
   "source": [
    "X_train_imputed['CVDINFR4'].value_counts()"
   ]
  },
  {
   "cell_type": "code",
   "execution_count": 302,
   "id": "5edc0ed2",
   "metadata": {},
   "outputs": [],
   "source": [
    "# Define the list of valid values for 'CVDINFR4' column\n",
    "valid_values = [1, 2, 7, 9]\n",
    "\n",
    "# Map invalid values to the nearest valid value\n",
    "X_train_imputed['CVDINFR4'] = X_train_imputed['CVDINFR4'].apply(lambda x: min(valid_values, key=lambda y: abs(y - x)))\n",
    "X_test_imputed['CVDINFR4'] = X_test_imputed['CVDINFR4'].apply(lambda x: min(valid_values, key=lambda y: abs(y - x)))"
   ]
  },
  {
   "cell_type": "code",
   "execution_count": 303,
   "id": "79b95916",
   "metadata": {},
   "outputs": [
    {
     "data": {
      "text/plain": [
       "CVDINFR4\n",
       "2    283378\n",
       "1     16523\n",
       "9      1565\n",
       "Name: count, dtype: int64"
      ]
     },
     "execution_count": 303,
     "metadata": {},
     "output_type": "execute_result"
    }
   ],
   "source": [
    "X_train_imputed['CVDINFR4'].value_counts()"
   ]
  },
  {
   "cell_type": "code",
   "execution_count": 304,
   "id": "83bcde9c",
   "metadata": {},
   "outputs": [
    {
     "data": {
      "text/plain": [
       "CHCCOPD2\n",
       "2.000000    276559\n",
       "1.000000     23454\n",
       "9.000000      1451\n",
       "2.282681         1\n",
       "2.383338         1\n",
       "Name: count, dtype: int64"
      ]
     },
     "execution_count": 304,
     "metadata": {},
     "output_type": "execute_result"
    }
   ],
   "source": [
    "X_train_imputed['CHCCOPD2'].value_counts()"
   ]
  },
  {
   "cell_type": "code",
   "execution_count": 305,
   "id": "1e5a872c",
   "metadata": {},
   "outputs": [],
   "source": [
    "# Define the list of valid values for 'CHCCOPD2' column\n",
    "valid_values = [1, 2, 9]\n",
    "\n",
    "# Map invalid values to the nearest valid value\n",
    "X_train_imputed['CHCCOPD2'] = X_train_imputed['CHCCOPD2'].apply(lambda x: min(valid_values, key=lambda y: abs(y - x)))\n",
    "X_test_imputed['CHCCOPD2'] = X_test_imputed['CHCCOPD2'].apply(lambda x: min(valid_values, key=lambda y: abs(y - x)))"
   ]
  },
  {
   "cell_type": "code",
   "execution_count": 306,
   "id": "d70d991c",
   "metadata": {},
   "outputs": [
    {
     "data": {
      "text/plain": [
       "CHCCOPD2\n",
       "2    276561\n",
       "1     23454\n",
       "9      1451\n",
       "Name: count, dtype: int64"
      ]
     },
     "execution_count": 306,
     "metadata": {},
     "output_type": "execute_result"
    }
   ],
   "source": [
    "X_train_imputed['CHCCOPD2'].value_counts()"
   ]
  },
  {
   "cell_type": "code",
   "execution_count": 307,
   "id": "d40c2185",
   "metadata": {},
   "outputs": [
    {
     "data": {
      "text/plain": [
       "HAVARTH4\n",
       "2.000000    206558\n",
       "1.000000     93179\n",
       "9.000000      1727\n",
       "2.223883         1\n",
       "2.137686         1\n",
       "Name: count, dtype: int64"
      ]
     },
     "execution_count": 307,
     "metadata": {},
     "output_type": "execute_result"
    }
   ],
   "source": [
    "X_train_imputed['HAVARTH4'].value_counts()"
   ]
  },
  {
   "cell_type": "code",
   "execution_count": 308,
   "id": "e5be9063",
   "metadata": {},
   "outputs": [],
   "source": [
    "# Define the list of valid values for 'HAVARTH4' column\n",
    "valid_values = [1, 2, 9]\n",
    "\n",
    "# Map invalid values to the nearest valid value\n",
    "X_train_imputed['HAVARTH4'] = X_train_imputed['HAVARTH4'].apply(lambda x: min(valid_values, key=lambda y: abs(y - x)))\n",
    "X_test_imputed['HAVARTH4'] = X_test_imputed['HAVARTH4'].apply(lambda x: min(valid_values, key=lambda y: abs(y - x)))"
   ]
  },
  {
   "cell_type": "code",
   "execution_count": 309,
   "id": "b11df569",
   "metadata": {},
   "outputs": [
    {
     "data": {
      "text/plain": [
       "HAVARTH4\n",
       "2    206560\n",
       "1     93179\n",
       "9      1727\n",
       "Name: count, dtype: int64"
      ]
     },
     "execution_count": 309,
     "metadata": {},
     "output_type": "execute_result"
    }
   ],
   "source": [
    "X_train_imputed['HAVARTH4'].value_counts()"
   ]
  },
  {
   "cell_type": "code",
   "execution_count": 310,
   "id": "8b6aa1a2",
   "metadata": {},
   "outputs": [
    {
     "data": {
      "text/plain": [
       "ADDEPEV3\n",
       "2.000000    243152\n",
       "1.000000     56721\n",
       "9.000000      1590\n",
       "2.402627         1\n",
       "1.867281         1\n",
       "2.394454         1\n",
       "Name: count, dtype: int64"
      ]
     },
     "execution_count": 310,
     "metadata": {},
     "output_type": "execute_result"
    }
   ],
   "source": [
    "X_train_imputed['ADDEPEV3'].value_counts()"
   ]
  },
  {
   "cell_type": "code",
   "execution_count": 311,
   "id": "a89843a4",
   "metadata": {},
   "outputs": [],
   "source": [
    "# Define the list of valid values for 'ADDEPEV3' column\n",
    "valid_values = [1, 2, 9]\n",
    "\n",
    "# Map invalid values to the nearest valid value\n",
    "X_train_imputed['ADDEPEV3'] = X_train_imputed['ADDEPEV3'].apply(lambda x: min(valid_values, key=lambda y: abs(y - x)))\n",
    "X_test_imputed['ADDEPEV3'] = X_test_imputed['ADDEPEV3'].apply(lambda x: min(valid_values, key=lambda y: abs(y - x)))"
   ]
  },
  {
   "cell_type": "code",
   "execution_count": 312,
   "id": "543142fa",
   "metadata": {},
   "outputs": [
    {
     "data": {
      "text/plain": [
       "ADDEPEV3\n",
       "2    243155\n",
       "1     56721\n",
       "9      1590\n",
       "Name: count, dtype: int64"
      ]
     },
     "execution_count": 312,
     "metadata": {},
     "output_type": "execute_result"
    }
   ],
   "source": [
    "X_train_imputed['ADDEPEV3'].value_counts()"
   ]
  },
  {
   "cell_type": "code",
   "execution_count": 313,
   "id": "28ba7a01",
   "metadata": {},
   "outputs": [
    {
     "data": {
      "text/plain": [
       "CHCKDNY2\n",
       "2.000000    289013\n",
       "1.000000     11309\n",
       "9.000000      1141\n",
       "2.377287         1\n",
       "1.991480         1\n",
       "2.256517         1\n",
       "Name: count, dtype: int64"
      ]
     },
     "execution_count": 313,
     "metadata": {},
     "output_type": "execute_result"
    }
   ],
   "source": [
    "X_train_imputed['CHCKDNY2'].value_counts()"
   ]
  },
  {
   "cell_type": "code",
   "execution_count": 314,
   "id": "702406e6",
   "metadata": {},
   "outputs": [],
   "source": [
    "# Define the list of valid values for 'CHCKDNY2' column\n",
    "valid_values = [1, 2, 9]\n",
    "\n",
    "# Map invalid values to the nearest valid value\n",
    "X_train_imputed['CHCKDNY2'] = X_train_imputed['CHCKDNY2'].apply(lambda x: min(valid_values, key=lambda y: abs(y - x)))\n",
    "X_test_imputed['CHCKDNY2'] = X_test_imputed['CHCKDNY2'].apply(lambda x: min(valid_values, key=lambda y: abs(y - x)))"
   ]
  },
  {
   "cell_type": "code",
   "execution_count": 315,
   "id": "5764bd74",
   "metadata": {},
   "outputs": [
    {
     "data": {
      "text/plain": [
       "CHCKDNY2\n",
       "2    289016\n",
       "1     11309\n",
       "9      1141\n",
       "Name: count, dtype: int64"
      ]
     },
     "execution_count": 315,
     "metadata": {},
     "output_type": "execute_result"
    }
   ],
   "source": [
    "X_train_imputed['CHCKDNY2'].value_counts()"
   ]
  },
  {
   "cell_type": "code",
   "execution_count": 316,
   "id": "e381bf30",
   "metadata": {},
   "outputs": [
    {
     "data": {
      "text/plain": [
       "DIABETE4\n",
       "3.000000    253011\n",
       "1.000000     38980\n",
       "4.000000      6363\n",
       "2.000000      2489\n",
       "9.000000       620\n",
       "3.265770         1\n",
       "2.865577         1\n",
       "3.078765         1\n",
       "Name: count, dtype: int64"
      ]
     },
     "execution_count": 316,
     "metadata": {},
     "output_type": "execute_result"
    }
   ],
   "source": [
    "X_train_imputed['DIABETE4'].value_counts()"
   ]
  },
  {
   "cell_type": "code",
   "execution_count": 317,
   "id": "b85e604c",
   "metadata": {},
   "outputs": [],
   "source": [
    "# Define the list of valid values for 'DIABETE4' column\n",
    "valid_values = [1, 2, 3, 4, 9]\n",
    "\n",
    "# Map invalid values to the nearest valid value\n",
    "X_train_imputed['DIABETE4'] = X_train_imputed['DIABETE4'].apply(lambda x: min(valid_values, key=lambda y: abs(y - x)))\n",
    "X_test_imputed['DIABETE4'] = X_test_imputed['DIABETE4'].apply(lambda x: min(valid_values, key=lambda y: abs(y - x)))"
   ]
  },
  {
   "cell_type": "code",
   "execution_count": 318,
   "id": "4d89dcb5",
   "metadata": {},
   "outputs": [
    {
     "data": {
      "text/plain": [
       "DIABETE4\n",
       "3    253014\n",
       "1     38980\n",
       "4      6363\n",
       "2      2489\n",
       "9       620\n",
       "Name: count, dtype: int64"
      ]
     },
     "execution_count": 318,
     "metadata": {},
     "output_type": "execute_result"
    }
   ],
   "source": [
    "X_train_imputed['DIABETE4'].value_counts()"
   ]
  },
  {
   "cell_type": "code",
   "execution_count": 319,
   "id": "b81ec3d8",
   "metadata": {},
   "outputs": [
    {
     "data": {
      "text/plain": [
       "LASTDEN4\n",
       "1.000000    200477\n",
       "2.000000     37104\n",
       "4.000000     31267\n",
       "3.000000     27370\n",
       "9.000000      3520\n",
       "8.000000      1724\n",
       "1.891568         1\n",
       "1.626520         1\n",
       "1.996421         1\n",
       "2.230189         1\n",
       "Name: count, dtype: int64"
      ]
     },
     "execution_count": 319,
     "metadata": {},
     "output_type": "execute_result"
    }
   ],
   "source": [
    "X_train_imputed['LASTDEN4'].value_counts()"
   ]
  },
  {
   "cell_type": "code",
   "execution_count": 320,
   "id": "42b04395",
   "metadata": {},
   "outputs": [],
   "source": [
    "# Define the list of valid values for 'LASTDEN4' column\n",
    "valid_values = [1, 2, 3, 4, 8, 9]\n",
    "\n",
    "# Map invalid values to the nearest valid value\n",
    "X_train_imputed['LASTDEN4'] = X_train_imputed['LASTDEN4'].apply(lambda x: min(valid_values, key=lambda y: abs(y - x)))\n",
    "X_test_imputed['LASTDEN4'] = X_test_imputed['LASTDEN4'].apply(lambda x: min(valid_values, key=lambda y: abs(y - x)))"
   ]
  },
  {
   "cell_type": "code",
   "execution_count": 321,
   "id": "e7b67194",
   "metadata": {},
   "outputs": [
    {
     "data": {
      "text/plain": [
       "LASTDEN4\n",
       "1    200477\n",
       "2     37108\n",
       "4     31267\n",
       "3     27370\n",
       "9      3520\n",
       "8      1724\n",
       "Name: count, dtype: int64"
      ]
     },
     "execution_count": 321,
     "metadata": {},
     "output_type": "execute_result"
    }
   ],
   "source": [
    "X_train_imputed['LASTDEN4'].value_counts()"
   ]
  },
  {
   "cell_type": "code",
   "execution_count": 322,
   "id": "9a7993db",
   "metadata": {},
   "outputs": [
    {
     "data": {
      "text/plain": [
       "RMVTETH4\n",
       "8.000000    156905\n",
       "1.000000     87213\n",
       "2.000000     31369\n",
       "3.000000     18617\n",
       "9.000000      7358\n",
       "5.945881         1\n",
       "5.209022         1\n",
       "5.816176         1\n",
       "6.667804         1\n",
       "Name: count, dtype: int64"
      ]
     },
     "execution_count": 322,
     "metadata": {},
     "output_type": "execute_result"
    }
   ],
   "source": [
    "X_train_imputed['RMVTETH4'].value_counts()"
   ]
  },
  {
   "cell_type": "code",
   "execution_count": 323,
   "id": "a211aedf",
   "metadata": {},
   "outputs": [],
   "source": [
    "# Define the list of valid values for 'RMVTETH4' column\n",
    "valid_values = [1, 2, 3, 8, 9]\n",
    "\n",
    "# Map invalid values to the nearest valid value\n",
    "X_train_imputed['RMVTETH4'] = X_train_imputed['RMVTETH4'].apply(lambda x: min(valid_values, key=lambda y: abs(y - x)))\n",
    "X_test_imputed['RMVTETH4'] = X_test_imputed['RMVTETH4'].apply(lambda x: min(valid_values, key=lambda y: abs(y - x)))"
   ]
  },
  {
   "cell_type": "code",
   "execution_count": 324,
   "id": "c977cb00",
   "metadata": {},
   "outputs": [
    {
     "data": {
      "text/plain": [
       "RMVTETH4\n",
       "8    156908\n",
       "1     87213\n",
       "2     31369\n",
       "3     18618\n",
       "9      7358\n",
       "Name: count, dtype: int64"
      ]
     },
     "execution_count": 324,
     "metadata": {},
     "output_type": "execute_result"
    }
   ],
   "source": [
    "X_train_imputed['RMVTETH4'].value_counts()"
   ]
  },
  {
   "cell_type": "code",
   "execution_count": 325,
   "id": "f64dc510",
   "metadata": {},
   "outputs": [
    {
     "data": {
      "text/plain": [
       "Index(['FIPS', 'X_URBSTAT', 'X_AGEG5YR', 'SEXVAR', 'GENHLTH', 'HLTHPLN1',\n",
       "       'EXERANY2', 'CVDINFR4', 'CVDCRHD4', 'CVDSTRK3', 'ASTHMA3', 'CHCCOPD2',\n",
       "       'HAVARTH4', 'ADDEPEV3', 'CHCKDNY2', 'DIABETE4', 'LASTDEN4', 'RMVTETH4',\n",
       "       'MARITAL', 'EDUCA', 'RENTHOM1', 'VETERAN3', 'EMPLOY1', 'INCOME2',\n",
       "       'WEIGHT2', 'HTIN4', 'DEAF', 'BLIND', 'SEATBELT', 'HIVTST7', 'HIVRISK5',\n",
       "       'X_LLCPWT', 'HADEXAM', 'SMOKDRINK', 'PHYSHLTH_BINNED',\n",
       "       'MENTHLTH_BINNED', 'SLEPTIM1_BINNED', 'CHILDREN_BINNED'],\n",
       "      dtype='object')"
      ]
     },
     "execution_count": 325,
     "metadata": {},
     "output_type": "execute_result"
    }
   ],
   "source": [
    "X_train_imputed.columns"
   ]
  },
  {
   "cell_type": "code",
   "execution_count": 326,
   "id": "fa67fba8",
   "metadata": {},
   "outputs": [
    {
     "data": {
      "text/plain": [
       "MARITAL\n",
       "1.000000    155542\n",
       "5.000000     53917\n",
       "2.000000     39000\n",
       "3.000000     32779\n",
       "6.000000     11443\n",
       "4.000000      5949\n",
       "9.000000      2828\n",
       "1.745629         1\n",
       "3.554789         1\n",
       "2.926464         1\n",
       "3.903660         1\n",
       "3.195119         1\n",
       "2.085138         1\n",
       "1.791578         1\n",
       "1.890274         1\n",
       "Name: count, dtype: int64"
      ]
     },
     "execution_count": 326,
     "metadata": {},
     "output_type": "execute_result"
    }
   ],
   "source": [
    "X_train_imputed['MARITAL'].value_counts()"
   ]
  },
  {
   "cell_type": "code",
   "execution_count": 327,
   "id": "a00490a8",
   "metadata": {},
   "outputs": [],
   "source": [
    "# Define the list of valid values for 'MARITAL' column\n",
    "valid_values = [1, 2, 3, 4, 5, 6, 9]\n",
    "\n",
    "# Map invalid values to the nearest valid value\n",
    "X_train_imputed['MARITAL'] = X_train_imputed['MARITAL'].apply(lambda x: min(valid_values, key=lambda y: abs(y - x)))\n",
    "X_test_imputed['MARITAL'] = X_test_imputed['MARITAL'].apply(lambda x: min(valid_values, key=lambda y: abs(y - x)))"
   ]
  },
  {
   "cell_type": "code",
   "execution_count": 328,
   "id": "102c7b01",
   "metadata": {},
   "outputs": [
    {
     "data": {
      "text/plain": [
       "MARITAL\n",
       "1    155542\n",
       "5     53917\n",
       "2     39004\n",
       "3     32781\n",
       "6     11443\n",
       "4      5951\n",
       "9      2828\n",
       "Name: count, dtype: int64"
      ]
     },
     "execution_count": 328,
     "metadata": {},
     "output_type": "execute_result"
    }
   ],
   "source": [
    "X_train_imputed['MARITAL'].value_counts()"
   ]
  },
  {
   "cell_type": "code",
   "execution_count": 329,
   "id": "c6ed279f",
   "metadata": {},
   "outputs": [
    {
     "data": {
      "text/plain": [
       "EDUCA\n",
       "6.000000    116625\n",
       "5.000000     83513\n",
       "4.000000     80301\n",
       "3.000000     13175\n",
       "2.000000      5972\n",
       "9.000000      1434\n",
       "1.000000       438\n",
       "5.181291         1\n",
       "5.046585         1\n",
       "5.341730         1\n",
       "5.183461         1\n",
       "5.960315         1\n",
       "5.584752         1\n",
       "4.457059         1\n",
       "4.793117         1\n",
       "Name: count, dtype: int64"
      ]
     },
     "execution_count": 329,
     "metadata": {},
     "output_type": "execute_result"
    }
   ],
   "source": [
    "X_train_imputed['EDUCA'].value_counts()"
   ]
  },
  {
   "cell_type": "code",
   "execution_count": 330,
   "id": "0fa04dc1",
   "metadata": {},
   "outputs": [],
   "source": [
    "# Define the list of valid values for 'EDUCA' column\n",
    "valid_values = [1, 2, 3, 4, 5, 6, 9]\n",
    "\n",
    "# Map invalid values to the nearest valid value\n",
    "X_train_imputed['EDUCA'] = X_train_imputed['EDUCA'].apply(lambda x: min(valid_values, key=lambda y: abs(y - x)))\n",
    "X_test_imputed['EDUCA'] = X_test_imputed['EDUCA'].apply(lambda x: min(valid_values, key=lambda y: abs(y - x)))"
   ]
  },
  {
   "cell_type": "code",
   "execution_count": 331,
   "id": "21b3f62e",
   "metadata": {},
   "outputs": [
    {
     "data": {
      "text/plain": [
       "EDUCA\n",
       "6    116627\n",
       "5     83518\n",
       "4     80302\n",
       "3     13175\n",
       "2      5972\n",
       "9      1434\n",
       "1       438\n",
       "Name: count, dtype: int64"
      ]
     },
     "execution_count": 331,
     "metadata": {},
     "output_type": "execute_result"
    }
   ],
   "source": [
    "X_train_imputed['EDUCA'].value_counts()"
   ]
  },
  {
   "cell_type": "code",
   "execution_count": 332,
   "id": "fb74e855",
   "metadata": {},
   "outputs": [
    {
     "data": {
      "text/plain": [
       "RENTHOM1\n",
       "1.000000    210448\n",
       "2.000000     73083\n",
       "3.000000     15316\n",
       "9.000000      2608\n",
       "1.257300         1\n",
       "1.560232         1\n",
       "2.608099         1\n",
       "1.485991         1\n",
       "1.731152         1\n",
       "2.576677         1\n",
       "2.509883         1\n",
       "1.305105         1\n",
       "1.429038         1\n",
       "1.282923         1\n",
       "1.375785         1\n",
       "Name: count, dtype: int64"
      ]
     },
     "execution_count": 332,
     "metadata": {},
     "output_type": "execute_result"
    }
   ],
   "source": [
    "X_train_imputed['RENTHOM1'].value_counts()"
   ]
  },
  {
   "cell_type": "code",
   "execution_count": 333,
   "id": "b3e2f88a",
   "metadata": {},
   "outputs": [],
   "source": [
    "# Define the list of valid values for 'RENTHOM1' column\n",
    "valid_values = [1, 2, 3, 9]\n",
    "\n",
    "# Map invalid values to the nearest valid value\n",
    "X_train_imputed['RENTHOM1'] = X_train_imputed['RENTHOM1'].apply(lambda x: min(valid_values, key=lambda y: abs(y - x)))\n",
    "X_test_imputed['RENTHOM1'] = X_test_imputed['RENTHOM1'].apply(lambda x: min(valid_values, key=lambda y: abs(y - x)))"
   ]
  },
  {
   "cell_type": "code",
   "execution_count": 334,
   "id": "25bd347a",
   "metadata": {},
   "outputs": [
    {
     "data": {
      "text/plain": [
       "RENTHOM1\n",
       "1    210454\n",
       "2     73085\n",
       "3     15319\n",
       "9      2608\n",
       "Name: count, dtype: int64"
      ]
     },
     "execution_count": 334,
     "metadata": {},
     "output_type": "execute_result"
    }
   ],
   "source": [
    "X_train_imputed['RENTHOM1'].value_counts()"
   ]
  },
  {
   "cell_type": "code",
   "execution_count": 335,
   "id": "8af0518f",
   "metadata": {},
   "outputs": [
    {
     "data": {
      "text/plain": [
       "VETERAN3\n",
       "2.000000    263484\n",
       "1.000000     36085\n",
       "9.000000       928\n",
       "2.159438         1\n",
       "1.916653         1\n",
       "             ...  \n",
       "1.835496         1\n",
       "1.955230         1\n",
       "1.882350         1\n",
       "1.943195         1\n",
       "2.041708         1\n",
       "Name: count, Length: 972, dtype: int64"
      ]
     },
     "execution_count": 335,
     "metadata": {},
     "output_type": "execute_result"
    }
   ],
   "source": [
    "X_train_imputed['VETERAN3'].value_counts()"
   ]
  },
  {
   "cell_type": "code",
   "execution_count": 336,
   "id": "f4f95959",
   "metadata": {},
   "outputs": [],
   "source": [
    "# Define the list of valid values for 'VETERAN3' column\n",
    "valid_values = [1, 2, 9]\n",
    "\n",
    "# Map invalid values to the nearest valid value\n",
    "X_train_imputed['VETERAN3'] = X_train_imputed['VETERAN3'].apply(lambda x: min(valid_values, key=lambda y: abs(y - x)))\n",
    "X_test_imputed['VETERAN3'] = X_test_imputed['VETERAN3'].apply(lambda x: min(valid_values, key=lambda y: abs(y - x)))"
   ]
  },
  {
   "cell_type": "code",
   "execution_count": 337,
   "id": "1db063ba",
   "metadata": {},
   "outputs": [
    {
     "data": {
      "text/plain": [
       "VETERAN3\n",
       "2    264453\n",
       "1     36085\n",
       "9       928\n",
       "Name: count, dtype: int64"
      ]
     },
     "execution_count": 337,
     "metadata": {},
     "output_type": "execute_result"
    }
   ],
   "source": [
    "X_train_imputed['VETERAN3'].value_counts()"
   ]
  },
  {
   "cell_type": "code",
   "execution_count": 338,
   "id": "3a457ab8",
   "metadata": {},
   "outputs": [
    {
     "data": {
      "text/plain": [
       "EMPLOY1\n",
       "1.000000    124427\n",
       "7.000000     87865\n",
       "2.000000     26259\n",
       "8.000000     18953\n",
       "5.000000     12861\n",
       "             ...  \n",
       "2.307977         1\n",
       "2.146231         1\n",
       "2.891906         1\n",
       "2.924766         1\n",
       "2.770515         1\n",
       "Name: count, Length: 2184, dtype: int64"
      ]
     },
     "execution_count": 338,
     "metadata": {},
     "output_type": "execute_result"
    }
   ],
   "source": [
    "X_train_imputed['EMPLOY1'].value_counts()"
   ]
  },
  {
   "cell_type": "code",
   "execution_count": 339,
   "id": "0b1fed7d",
   "metadata": {},
   "outputs": [],
   "source": [
    "# Define the list of valid values for 'EMPLOY1' column\n",
    "valid_values = [1, 2, 3, 4, 5, 6, 7, 8, 9]\n",
    "\n",
    "# Map invalid values to the nearest valid value\n",
    "X_train_imputed['EMPLOY1'] = X_train_imputed['EMPLOY1'].apply(lambda x: min(valid_values, key=lambda y: abs(y - x)))\n",
    "X_test_imputed['EMPLOY1'] = X_test_imputed['EMPLOY1'].apply(lambda x: min(valid_values, key=lambda y: abs(y - x)))"
   ]
  },
  {
   "cell_type": "code",
   "execution_count": 340,
   "id": "89fad9c6",
   "metadata": {},
   "outputs": [
    {
     "data": {
      "text/plain": [
       "EMPLOY1\n",
       "1    124428\n",
       "7     87878\n",
       "2     26915\n",
       "8     18953\n",
       "5     13161\n",
       "4     12646\n",
       "6      8384\n",
       "3      5952\n",
       "9      3149\n",
       "Name: count, dtype: int64"
      ]
     },
     "execution_count": 340,
     "metadata": {},
     "output_type": "execute_result"
    }
   ],
   "source": [
    "X_train_imputed['EMPLOY1'].value_counts()"
   ]
  },
  {
   "cell_type": "code",
   "execution_count": 341,
   "id": "e172721d",
   "metadata": {},
   "outputs": [
    {
     "data": {
      "text/plain": [
       "INCOME2\n",
       "8.000000     89195\n",
       "99.000000    54523\n",
       "7.000000     39331\n",
       "6.000000     32852\n",
       "5.000000     23548\n",
       "             ...  \n",
       "21.916233        1\n",
       "20.965810        1\n",
       "23.777399        1\n",
       "18.728176        1\n",
       "26.777546        1\n",
       "Name: count, Length: 5531, dtype: int64"
      ]
     },
     "execution_count": 341,
     "metadata": {},
     "output_type": "execute_result"
    }
   ],
   "source": [
    "X_train_imputed['INCOME2'].value_counts()"
   ]
  },
  {
   "cell_type": "code",
   "execution_count": 342,
   "id": "40d5f614",
   "metadata": {},
   "outputs": [],
   "source": [
    "# Define the list of valid values for 'INCOME2' column\n",
    "valid_values = [1, 2, 3, 4, 5, 6, 7, 8, 99]\n",
    "\n",
    "# Map invalid values to the nearest valid value\n",
    "X_train_imputed['INCOME2'] = X_train_imputed['INCOME2'].apply(lambda x: min(valid_values, key=lambda y: abs(y - x)))\n",
    "X_test_imputed['INCOME2'] = X_test_imputed['INCOME2'].apply(lambda x: min(valid_values, key=lambda y: abs(y - x)))"
   ]
  },
  {
   "cell_type": "code",
   "execution_count": 343,
   "id": "148c2e53",
   "metadata": {},
   "outputs": [
    {
     "data": {
      "text/plain": [
       "INCOME2\n",
       "8     94478\n",
       "99    54761\n",
       "7     39332\n",
       "6     32852\n",
       "5     23548\n",
       "4     20787\n",
       "3     15811\n",
       "2     10221\n",
       "1      9676\n",
       "Name: count, dtype: int64"
      ]
     },
     "execution_count": 343,
     "metadata": {},
     "output_type": "execute_result"
    }
   ],
   "source": [
    "X_train_imputed['INCOME2'].value_counts()"
   ]
  },
  {
   "cell_type": "code",
   "execution_count": 344,
   "id": "5ccb87f3",
   "metadata": {},
   "outputs": [
    {
     "data": {
      "text/plain": [
       "Index(['FIPS', 'X_URBSTAT', 'X_AGEG5YR', 'SEXVAR', 'GENHLTH', 'HLTHPLN1',\n",
       "       'EXERANY2', 'CVDINFR4', 'CVDCRHD4', 'CVDSTRK3', 'ASTHMA3', 'CHCCOPD2',\n",
       "       'HAVARTH4', 'ADDEPEV3', 'CHCKDNY2', 'DIABETE4', 'LASTDEN4', 'RMVTETH4',\n",
       "       'MARITAL', 'EDUCA', 'RENTHOM1', 'VETERAN3', 'EMPLOY1', 'INCOME2',\n",
       "       'WEIGHT2', 'HTIN4', 'DEAF', 'BLIND', 'SEATBELT', 'HIVTST7', 'HIVRISK5',\n",
       "       'X_LLCPWT', 'HADEXAM', 'SMOKDRINK', 'PHYSHLTH_BINNED',\n",
       "       'MENTHLTH_BINNED', 'SLEPTIM1_BINNED', 'CHILDREN_BINNED'],\n",
       "      dtype='object')"
      ]
     },
     "execution_count": 344,
     "metadata": {},
     "output_type": "execute_result"
    }
   ],
   "source": [
    "X_train_imputed.columns"
   ]
  },
  {
   "cell_type": "code",
   "execution_count": 345,
   "id": "401f8426",
   "metadata": {},
   "outputs": [
    {
     "data": {
      "text/plain": [
       "DEAF\n",
       "2.000000    265828\n",
       "1.000000     25312\n",
       "9.000000      1138\n",
       "1.974253         1\n",
       "1.987903         1\n",
       "             ...  \n",
       "1.967704         1\n",
       "2.126885         1\n",
       "1.903399         1\n",
       "1.900430         1\n",
       "1.982660         1\n",
       "Name: count, Length: 9191, dtype: int64"
      ]
     },
     "execution_count": 345,
     "metadata": {},
     "output_type": "execute_result"
    }
   ],
   "source": [
    "X_train_imputed['DEAF'].value_counts()"
   ]
  },
  {
   "cell_type": "code",
   "execution_count": 346,
   "id": "bdd672e1",
   "metadata": {},
   "outputs": [],
   "source": [
    "# Define the list of valid values for 'DEAF' column\n",
    "valid_values = [1, 2, 9]\n",
    "\n",
    "# Map invalid values to the nearest valid value\n",
    "X_train_imputed['DEAF'] = X_train_imputed['DEAF'].apply(lambda x: min(valid_values, key=lambda y: abs(y - x)))\n",
    "X_test_imputed['DEAF'] = X_test_imputed['DEAF'].apply(lambda x: min(valid_values, key=lambda y: abs(y - x)))"
   ]
  },
  {
   "cell_type": "code",
   "execution_count": 347,
   "id": "97db14af",
   "metadata": {},
   "outputs": [
    {
     "data": {
      "text/plain": [
       "DEAF\n",
       "2    275016\n",
       "1     25312\n",
       "9      1138\n",
       "Name: count, dtype: int64"
      ]
     },
     "execution_count": 347,
     "metadata": {},
     "output_type": "execute_result"
    }
   ],
   "source": [
    "X_train_imputed['DEAF'].value_counts()"
   ]
  },
  {
   "cell_type": "code",
   "execution_count": 348,
   "id": "62e741d3",
   "metadata": {},
   "outputs": [
    {
     "data": {
      "text/plain": [
       "BLIND\n",
       "2.000000    275574\n",
       "1.000000     14994\n",
       "9.000000      1014\n",
       "1.971804         1\n",
       "1.951907         1\n",
       "             ...  \n",
       "2.018954         1\n",
       "1.982132         1\n",
       "1.908941         1\n",
       "1.967081         1\n",
       "1.952752         1\n",
       "Name: count, Length: 9887, dtype: int64"
      ]
     },
     "execution_count": 348,
     "metadata": {},
     "output_type": "execute_result"
    }
   ],
   "source": [
    "X_train_imputed['BLIND'].value_counts()"
   ]
  },
  {
   "cell_type": "code",
   "execution_count": 349,
   "id": "8b2bfa08",
   "metadata": {},
   "outputs": [],
   "source": [
    "# Define the list of valid values for 'BLIND' column\n",
    "valid_values = [1, 2, 9]\n",
    "\n",
    "# Map invalid values to the nearest valid value\n",
    "X_train_imputed['BLIND'] = X_train_imputed['BLIND'].apply(lambda x: min(valid_values, key=lambda y: abs(y - x)))\n",
    "X_test_imputed['BLIND'] = X_test_imputed['BLIND'].apply(lambda x: min(valid_values, key=lambda y: abs(y - x)))"
   ]
  },
  {
   "cell_type": "code",
   "execution_count": 350,
   "id": "e29e8d0d",
   "metadata": {},
   "outputs": [
    {
     "data": {
      "text/plain": [
       "BLIND\n",
       "2    285458\n",
       "1     14994\n",
       "9      1014\n",
       "Name: count, dtype: int64"
      ]
     },
     "execution_count": 350,
     "metadata": {},
     "output_type": "execute_result"
    }
   ],
   "source": [
    "X_train_imputed['BLIND'].value_counts()"
   ]
  },
  {
   "cell_type": "code",
   "execution_count": 351,
   "id": "2a4d14d3",
   "metadata": {},
   "outputs": [
    {
     "data": {
      "text/plain": [
       "SEATBELT\n",
       "1.000000    245440\n",
       "2.000000     20081\n",
       "3.000000      7640\n",
       "5.000000      4975\n",
       "4.000000      2946\n",
       "             ...  \n",
       "1.272020         1\n",
       "1.283467         1\n",
       "1.062881         1\n",
       "1.214507         1\n",
       "1.241457         1\n",
       "Name: count, Length: 19128, dtype: int64"
      ]
     },
     "execution_count": 351,
     "metadata": {},
     "output_type": "execute_result"
    }
   ],
   "source": [
    "X_train_imputed['SEATBELT'].value_counts()"
   ]
  },
  {
   "cell_type": "code",
   "execution_count": 352,
   "id": "baabbdbd",
   "metadata": {},
   "outputs": [],
   "source": [
    "# Define the list of valid values for 'SEATBELT' column\n",
    "valid_values = [1, 2, 3, 4, 5, 8, 9]\n",
    "\n",
    "# Map invalid values to the nearest valid value\n",
    "X_train_imputed['SEATBELT'] = X_train_imputed['SEATBELT'].apply(lambda x: min(valid_values, key=lambda y: abs(y - x)))\n",
    "X_test_imputed['SEATBELT'] = X_test_imputed['SEATBELT'].apply(lambda x: min(valid_values, key=lambda y: abs(y - x)))"
   ]
  },
  {
   "cell_type": "code",
   "execution_count": 353,
   "id": "92a031a4",
   "metadata": {},
   "outputs": [
    {
     "data": {
      "text/plain": [
       "SEATBELT\n",
       "1    263724\n",
       "2     20917\n",
       "3      7641\n",
       "5      4975\n",
       "4      2946\n",
       "8       744\n",
       "9       519\n",
       "Name: count, dtype: int64"
      ]
     },
     "execution_count": 353,
     "metadata": {},
     "output_type": "execute_result"
    }
   ],
   "source": [
    "X_train_imputed['SEATBELT'].value_counts()"
   ]
  },
  {
   "cell_type": "code",
   "execution_count": 354,
   "id": "8419a1ca",
   "metadata": {},
   "outputs": [
    {
     "data": {
      "text/plain": [
       "HIVTST7\n",
       "2.000000    174212\n",
       "1.000000     87655\n",
       "9.000000     14101\n",
       "1.857711         4\n",
       "1.691201         1\n",
       "             ...  \n",
       "1.747676         1\n",
       "1.840452         1\n",
       "2.588270         1\n",
       "2.261249         1\n",
       "1.636203         1\n",
       "Name: count, Length: 25498, dtype: int64"
      ]
     },
     "execution_count": 354,
     "metadata": {},
     "output_type": "execute_result"
    }
   ],
   "source": [
    "X_train_imputed['HIVTST7'].value_counts()"
   ]
  },
  {
   "cell_type": "code",
   "execution_count": 355,
   "id": "258ffe50",
   "metadata": {},
   "outputs": [],
   "source": [
    "# Define the list of valid values for 'HIVTST7' column\n",
    "valid_values = [1, 2, 9]\n",
    "\n",
    "# Map invalid values to the nearest valid value\n",
    "X_train_imputed['HIVTST7'] = X_train_imputed['HIVTST7'].apply(lambda x: min(valid_values, key=lambda y: abs(y - x)))\n",
    "X_test_imputed['HIVTST7'] = X_test_imputed['HIVTST7'].apply(lambda x: min(valid_values, key=lambda y: abs(y - x)))"
   ]
  },
  {
   "cell_type": "code",
   "execution_count": 356,
   "id": "1f4ffb68",
   "metadata": {},
   "outputs": [
    {
     "data": {
      "text/plain": [
       "HIVTST7\n",
       "2    199428\n",
       "1     87937\n",
       "9     14101\n",
       "Name: count, dtype: int64"
      ]
     },
     "execution_count": 356,
     "metadata": {},
     "output_type": "execute_result"
    }
   ],
   "source": [
    "X_train_imputed['HIVTST7'].value_counts()"
   ]
  },
  {
   "cell_type": "code",
   "execution_count": 357,
   "id": "9e569567",
   "metadata": {},
   "outputs": [
    {
     "data": {
      "text/plain": [
       "HIVRISK5\n",
       "2.000000    264198\n",
       "1.000000     10823\n",
       "9.000000      1462\n",
       "1.952136         4\n",
       "2.044651         1\n",
       "             ...  \n",
       "2.011363         1\n",
       "2.114715         1\n",
       "1.990782         1\n",
       "1.952527         1\n",
       "2.055964         1\n",
       "Name: count, Length: 24983, dtype: int64"
      ]
     },
     "execution_count": 357,
     "metadata": {},
     "output_type": "execute_result"
    }
   ],
   "source": [
    "X_train_imputed['HIVRISK5'].value_counts()"
   ]
  },
  {
   "cell_type": "code",
   "execution_count": 358,
   "id": "9660abc0",
   "metadata": {},
   "outputs": [],
   "source": [
    "# Define the list of valid values for 'HIVRISK5' column\n",
    "valid_values = [1, 2, 9]\n",
    "\n",
    "# Map invalid values to the nearest valid value\n",
    "X_train_imputed['HIVRISK5'] = X_train_imputed['HIVRISK5'].apply(lambda x: min(valid_values, key=lambda y: abs(y - x)))\n",
    "X_test_imputed['HIVRISK5'] = X_test_imputed['HIVRISK5'].apply(lambda x: min(valid_values, key=lambda y: abs(y - x)))"
   ]
  },
  {
   "cell_type": "code",
   "execution_count": 359,
   "id": "5daa5de0",
   "metadata": {},
   "outputs": [
    {
     "data": {
      "text/plain": [
       "HIVRISK5\n",
       "2    289181\n",
       "1     10823\n",
       "9      1462\n",
       "Name: count, dtype: int64"
      ]
     },
     "execution_count": 359,
     "metadata": {},
     "output_type": "execute_result"
    }
   ],
   "source": [
    "X_train_imputed['HIVRISK5'].value_counts()"
   ]
  },
  {
   "cell_type": "code",
   "execution_count": 360,
   "id": "62851263",
   "metadata": {},
   "outputs": [
    {
     "data": {
      "text/plain": [
       "PHYSHLTH_BINNED\n",
       "88       209148\n",
       "1-3       30493\n",
       "28-30     19410\n",
       "4-6       12086\n",
       "13-15      7406\n",
       "99         6430\n",
       "10-12      5638\n",
       "7-9        5350\n",
       "19-21      3636\n",
       "25-27      1285\n",
       "16-18       391\n",
       "22-24       193\n",
       "Name: count, dtype: int64"
      ]
     },
     "execution_count": 360,
     "metadata": {},
     "output_type": "execute_result"
    }
   ],
   "source": [
    "X_train_imputed['PHYSHLTH_BINNED'].value_counts()"
   ]
  },
  {
   "cell_type": "code",
   "execution_count": 361,
   "id": "548d5504",
   "metadata": {},
   "outputs": [],
   "source": [
    "num_columns = ['WEIGHT2', 'HTIN4', 'X_LLCPWT']"
   ]
  },
  {
   "cell_type": "code",
   "execution_count": 362,
   "id": "43c56a3d",
   "metadata": {},
   "outputs": [],
   "source": [
    "# Iterate over the columns of the DataFrame\n",
    "for column in X_train_imputed.columns:\n",
    "    # Check if the column is not in the list of non-categorical columns\n",
    "    if column not in num_columns:\n",
    "        # Convert the column to categorical or object dtype\n",
    "        X_train_imputed[column] = X_train_imputed[column].astype('category')  # Change 'category' to 'object' \n",
    "        X_test_imputed[column] = X_test_imputed[column].astype('category')  # Change 'category' to 'object' "
   ]
  },
  {
   "cell_type": "code",
   "execution_count": 363,
   "id": "017decb7",
   "metadata": {},
   "outputs": [
    {
     "name": "stdout",
     "output_type": "stream",
     "text": [
      "<class 'pandas.core.frame.DataFrame'>\n",
      "Index: 100489 entries, 60056 to 27943\n",
      "Data columns (total 38 columns):\n",
      " #   Column           Non-Null Count   Dtype   \n",
      "---  ------           --------------   -----   \n",
      " 0   FIPS             100489 non-null  category\n",
      " 1   X_URBSTAT        100489 non-null  category\n",
      " 2   X_AGEG5YR        100489 non-null  category\n",
      " 3   SEXVAR           100489 non-null  category\n",
      " 4   GENHLTH          100489 non-null  category\n",
      " 5   HLTHPLN1         100489 non-null  category\n",
      " 6   EXERANY2         100489 non-null  category\n",
      " 7   CVDINFR4         100489 non-null  category\n",
      " 8   CVDCRHD4         100489 non-null  category\n",
      " 9   CVDSTRK3         100489 non-null  category\n",
      " 10  ASTHMA3          100489 non-null  category\n",
      " 11  CHCCOPD2         100489 non-null  category\n",
      " 12  HAVARTH4         100489 non-null  category\n",
      " 13  ADDEPEV3         100489 non-null  category\n",
      " 14  CHCKDNY2         100489 non-null  category\n",
      " 15  DIABETE4         100489 non-null  category\n",
      " 16  LASTDEN4         100489 non-null  category\n",
      " 17  RMVTETH4         100489 non-null  category\n",
      " 18  MARITAL          100489 non-null  category\n",
      " 19  EDUCA            100489 non-null  category\n",
      " 20  RENTHOM1         100489 non-null  category\n",
      " 21  VETERAN3         100489 non-null  category\n",
      " 22  EMPLOY1          100489 non-null  category\n",
      " 23  INCOME2          100489 non-null  category\n",
      " 24  WEIGHT2          100489 non-null  float64 \n",
      " 25  HTIN4            100489 non-null  float64 \n",
      " 26  DEAF             100489 non-null  category\n",
      " 27  BLIND            100489 non-null  category\n",
      " 28  SEATBELT         100489 non-null  category\n",
      " 29  HIVTST7          100489 non-null  category\n",
      " 30  HIVRISK5         100489 non-null  category\n",
      " 31  X_LLCPWT         100489 non-null  float64 \n",
      " 32  HADEXAM          100489 non-null  category\n",
      " 33  SMOKDRINK        100489 non-null  category\n",
      " 34  PHYSHLTH_BINNED  100489 non-null  category\n",
      " 35  MENTHLTH_BINNED  100489 non-null  category\n",
      " 36  SLEPTIM1_BINNED  100489 non-null  category\n",
      " 37  CHILDREN_BINNED  100489 non-null  category\n",
      "dtypes: category(35), float64(3)\n",
      "memory usage: 6.4 MB\n"
     ]
    }
   ],
   "source": [
    "X_test_imputed.info()"
   ]
  },
  {
   "cell_type": "markdown",
   "id": "8d2e20f7",
   "metadata": {},
   "source": [
    "# Class Imbalance "
   ]
  },
  {
   "cell_type": "code",
   "execution_count": 393,
   "id": "f4eeedb9",
   "metadata": {},
   "outputs": [
    {
     "data": {
      "text/plain": [
       "[(2,), (1,), (99,)]"
      ]
     },
     "execution_count": 393,
     "metadata": {},
     "output_type": "execute_result"
    }
   ],
   "source": [
    "list(y_train.value_counts().index)"
   ]
  },
  {
   "cell_type": "code",
   "execution_count": 395,
   "id": "3256c0ab",
   "metadata": {},
   "outputs": [
    {
     "name": "stderr",
     "output_type": "stream",
     "text": [
      "/var/folders/6s/tl4bp6ld5hn0_f_lz0b38n780000gn/T/ipykernel_25927/4199583795.py:3: MatplotlibDeprecationWarning: The get_cmap function was deprecated in Matplotlib 3.7 and will be removed two minor releases later. Use ``matplotlib.colormaps[name]`` or ``matplotlib.colormaps.get_cmap(obj)`` instead.\n",
      "  colormap = cm.get_cmap('coolwarm')\n"
     ]
    },
    {
     "data": {
      "image/png": "[encoded data removed]",
      "text/plain": [
       "<Figure size 640x480 with 1 Axes>"
      ]
     },
     "metadata": {},
     "output_type": "display_data"
    }
   ],
   "source": [
    "import matplotlib.cm as cm\n",
    "# Choose a colormap\n",
    "colormap = cm.get_cmap('coolwarm')\n",
    "# Determine the number of colors needed\n",
    "num_colors = len(y_train.value_counts())\n",
    "# Generate colors from the colormap\n",
    "colors = [colormap(i / num_colors) for i in range(num_colors)]\n",
    "# Make plot\n",
    "plt.bar([1, 2, 3], y_train.value_counts(), label= list(y_train.value_counts().index), color=colors)\n",
    "plt.legend(title = 'Categories')\n",
    "plt.xticks(list(range(1,4)));"
   ]
  },
  {
   "cell_type": "code",
   "execution_count": 396,
   "id": "24ee6e7e",
   "metadata": {},
   "outputs": [
    {
     "data": {
      "text/html": [
       "<div>\n",
       "<style scoped>\n",
       "    .dataframe tbody tr th:only-of-type {\n",
       "        vertical-align: middle;\n",
       "    }\n",
       "\n",
       "    .dataframe tbody tr th {\n",
       "        vertical-align: top;\n",
       "    }\n",
       "\n",
       "    .dataframe thead th {\n",
       "        text-align: right;\n",
       "    }\n",
       "</style>\n",
       "<table border=\"1\" class=\"dataframe\">\n",
       "  <thead>\n",
       "    <tr style=\"text-align: right;\">\n",
       "      <th></th>\n",
       "      <th>CHC_CNCR</th>\n",
       "    </tr>\n",
       "  </thead>\n",
       "  <tbody>\n",
       "    <tr>\n",
       "      <th>285161</th>\n",
       "      <td>2</td>\n",
       "    </tr>\n",
       "    <tr>\n",
       "      <th>163053</th>\n",
       "      <td>1</td>\n",
       "    </tr>\n",
       "    <tr>\n",
       "      <th>104402</th>\n",
       "      <td>2</td>\n",
       "    </tr>\n",
       "    <tr>\n",
       "      <th>19106</th>\n",
       "      <td>1</td>\n",
       "    </tr>\n",
       "    <tr>\n",
       "      <th>341849</th>\n",
       "      <td>2</td>\n",
       "    </tr>\n",
       "  </tbody>\n",
       "</table>\n",
       "</div>"
      ],
      "text/plain": [
       "        CHC_CNCR\n",
       "285161         2\n",
       "163053         1\n",
       "104402         2\n",
       "19106          1\n",
       "341849         2"
      ]
     },
     "execution_count": 396,
     "metadata": {},
     "output_type": "execute_result"
    }
   ],
   "source": [
    "y_train.head()"
   ]
  },
  {
   "cell_type": "code",
   "execution_count": 405,
   "id": "c370acf1",
   "metadata": {},
   "outputs": [
    {
     "data": {
      "text/plain": [
       "301466"
      ]
     },
     "execution_count": 405,
     "metadata": {},
     "output_type": "execute_result"
    }
   ],
   "source": [
    "len(X_train_imputed)"
   ]
  },
  {
   "cell_type": "code",
   "execution_count": 411,
   "id": "170580d4",
   "metadata": {},
   "outputs": [
    {
     "data": {
      "text/plain": [
       "301466"
      ]
     },
     "execution_count": 411,
     "metadata": {},
     "output_type": "execute_result"
    }
   ],
   "source": [
    "len(y_train)"
   ]
  },
  {
   "cell_type": "code",
   "execution_count": 412,
   "id": "b1f55a3e",
   "metadata": {},
   "outputs": [],
   "source": [
    "# Remove class '99' in target variable [y]\n",
    "# Identify indices where y_train['CHC_CNCR'] is 99\n",
    "rm_indices_train = y_train[y_train['CHC_CNCR'] == 99].index\n",
    "rm_indices_test = y_test[y_test['CHC_CNCR'] == 99].index"
   ]
  },
  {
   "cell_type": "code",
   "execution_count": 413,
   "id": "5220120b",
   "metadata": {},
   "outputs": [
    {
     "data": {
      "text/plain": [
       "Index([198456, 230479, 310525, 188953, 244823,  66272, 238550, 147642,  46363,\n",
       "       380594,\n",
       "       ...\n",
       "       111279, 223536, 136487, 189728,   1015, 295735,  23960,  90982, 349457,\n",
       "        84654],\n",
       "      dtype='int64', length=1382)"
      ]
     },
     "execution_count": 413,
     "metadata": {},
     "output_type": "execute_result"
    }
   ],
   "source": [
    "rm_indices_train"
   ]
  },
  {
   "cell_type": "code",
   "execution_count": 415,
   "id": "43173571",
   "metadata": {},
   "outputs": [
    {
     "ename": "KeyError",
     "evalue": "'[198456, 230479, 310525, 188953, 244823, 66272, 238550, 147642, 46363, 380594, 43427, 152646, 265286, 357567, 277036, 215983, 374256, 26954, 86428, 30456, 300257, 378607, 67504, 168748, 338779, 231468, 294543, 282718, 30660, 103906, 147178, 230551, 100815, 400805, 293051, 284520, 287147, 347524, 287811, 57778, 115740, 325072, 231841, 98638, 227775, 64418, 108213, 278211, 218750, 327566, 155320, 270284, 111033, 213246, 347440, 196204, 373613, 84746, 19661, 260598, 52248, 99201, 106083, 35711, 43817, 295122, 245658, 350009, 162488, 296492, 37800, 283552, 247698, 72012, 250020, 363376, 115700, 200419, 209901, 132535, 284443, 229617, 38813, 125462, 295491, 137684, 203746, 216190, 10779, 330506, 215729, 158536, 371224, 159148, 151824, 113909, 253321, 207675, 202357, 228293, 146818, 376955, 97655, 236701, 277177, 258643, 96262, 287513, 309684, 347713, 218333, 127704, 346369, 365532, 147479, 348971, 362106, 393379, 292671, 307730, 271386, 327884, 160160, 74850, 229587, 65944, 69238, 401054, 310041, 294479, 20915, 159321, 257669, 116017, 279499, 179459, 21255, 232000, 205684, 161285, 56741, 75484, 228435, 6129, 81805, 336843, 39849, 331936, 321480, 358008, 35393, 169979, 380911, 110339, 295177, 369594, 37362, 244440, 43273, 150166, 136648, 320963, 361771, 397513, 346728, 373158, 317103, 286496, 58950, 387449, 291521, 158804, 132745, 32141, 329545, 157895, 298994, 260333, 13445, 107485, 24454, 123530, 179562, 303924, 49947, 105207, 309104, 148043, 146378, 18129, 366401, 356134, 160981, 285922, 322000, 325096, 80680, 153419, 104578, 337853, 98814, 275171, 353514, 292220, 327312, 379175, 310610, 239635, 329624, 250704, 17755, 346617, 278274, 122996, 141741, 197410, 89525, 319569, 287054, 216297, 291105, 287699, 184077, 309872, 110758, 4396, 167310, 237418, 356156, 346736, 59867, 360127, 362138, 208109, 204275, 375133, 300631, 102459, 6348, 384339, 86303, 850, 240828, 195228, 70535, 200324, 301313, 46843, 119556, 97195, 79576, 296109, 348004, 291931, 314184, 39975, 345827, 124772, 195526, 358370, 332872, 86964, 257099, 370061, 263126, 317375, 90543, 156563, 367831, 191145, 292809, 114246, 7000, 398333, 114201, 254612, 92819, 13477, 144183, 22171, 83691, 343560, 240251, 109715, 18224, 392102, 139332, 230320, 297607, 378711, 354626, 207283, 155457, 296802, 1617, 285112, 358746, 206910, 184097, 189090, 263946, 142659, 215014, 156700, 292133, 232523, 46115, 224556, 54568, 95834, 247642, 141237, 60373, 169776, 1261, 210415, 135043, 48860, 271823, 227616, 392147, 139191, 65010, 332784, 231819, 69960, 121871, 262877, 313441, 38680, 128016, 230510, 232978, 91308, 253471, 52058, 183700, 150430, 306103, 228314, 86601, 282288, 238748, 49487, 91421, 388979, 158157, 136863, 215535, 387531, 262242, 250285, 102387, 278080, 292852, 69862, 243757, 19152, 356585, 72425, 377836, 65511, 298247, 227425, 360917, 228226, 101548, 214717, 283575, 237681, 96526, 66664, 133489, 286882, 95713, 6335, 290755, 265281, 322440, 66431, 231837, 349267, 119857, 164975, 289704, 15969, 27726, 130357, 213505, 91110, 309427, 311959, 138754, 322584, 255993, 245774, 311259, 292981, 356038, 136324, 153650, 294053, 205749, 292969, 75925, 86014, 302454, 244213, 17634, 381013, 260209, 257043, 120560, 206177, 156675, 381607, 207090, 13942, 33513, 217628, 372081, 15858, 294548, 363344, 44039, 28472, 262810, 75307, 199873, 296073, 324573, 117401, 323912, 275760, 13274, 72040, 59357, 114561, 164122, 292225, 72171, 137340, 396015, 165776, 68778, 68868, 51170, 291503, 53802, 176485, 45267, 328138, 41412, 337518, 230528, 49773, 69151, 35206, 121567, 13060, 197211, 216237, 124712, 346398, 109654, 365661, 152107, 356341, 127861, 213759, 298856, 266636, 232290, 15844, 73577, 100936, 1169, 128495, 90129, 336356, 334702, 160112, 45355, 85092, 218954, 357714, 163330, 120293, 250197, 336682, 49671, 341131, 41719, 242922, 358279, 258653, 135443, 12341, 160729, 265196, 38248, 295369, 354914, 20107, 186119, 294464, 234647, 151080, 98207, 258986, 343242, 108579, 188605, 271744, 387051, 293047, 36238, 41639, 343316, 322327, 129883, 107185, 134829, 282997, 322162, 347162, 278141, 396412, 101677, 18897, 346937, 314540, 47044, 47871, 287482, 266462, 292653, 49346, 10670, 392950, 13926, 316750, 263701, 271864, 215713, 333078, 181439, 285519, 87634, 114960, 168282, 136536, 97738, 384643, 272522, 307767, 295402, 296088, 204175, 133116, 292840, 84730, 93087, 145308, 250670, 8065, 196721, 294285, 26867, 25846, 359425, 287807, 340083, 295481, 180004, 307179, 209178, 362461, 206033, 100849, 123822, 285178, 252389, 104300, 344194, 69706, 103249, 361259, 138993, 280358, 224517, 390072, 73350, 52074, 375410, 164984, 120566, 26408, 152728, 57372, 358669, 191639, 10860, 260036, 8964, 148058, 207369, 230423, 383980, 373208, 106079, 92676, 319637, 287616, 291916, 237124, 82893, 256614, 41470, 69871, 384916, 139976, 293102, 65685, 129121, 70431, 161251, 390422, 188357, 215982, 264782, 222831, 392461, 311260, 352931, 179043, 312037, 250098, 177964, 139172, 356862, 77733, 180125, 114513, 269787, 263084, 16426, 347253, 274856, 210940, 287063, 139963, 47410, 10560, 368990, 328680, 272169, 269769, 233516, 256933, 58616, 315696, 21867, 166607, 80210, 90788, 337558, 243906, 182065, 100129, 394403, 291610, 52697, 171165, 293773, 306151, 281512, 166323, 141782, 150473, 223867, 293731, 124745, 253473, 5933, 66536, 222045, 381804, 234136, 89761, 391633, 345751, 361657, 351429, 398575, 73720, 96287, 237261, 214754, 189815, 92423, 386483, 384423, 252342, 50053, 88959, 341509, 13419, 212925, 124539, 34877, 8292, 242749, 322186, 92684, 131924, 115751, 330676, 283106, 312234, 303991, 243435, 277871, 329114, 108370, 72761, 210570, 206480, 345754, 350076, 390220, 238347, 311699, 384397, 192018, 185476, 243567, 11517, 343083, 242252, 84624, 290559, 120551, 136122, 319462, 349429, 303117, 264027, 239757, 60402, 343806, 191900, 245041, 326676, 338112, 277351, 268109, 62878, 158020, 120707, 198272, 122386, 363801, 363637, 97608, 101641, 124348, 297319, 323661, 124920, 275290, 333407, 40189, 137630, 194914, 18930, 137136, 109323, 327838, 350774, 28414, 238166, 354882, 177993, 110180, 262817, 29298, 274713, 31898, 363340, 372304, 32902, 183238, 299467, 32186, 189729, 98721, 337759, 209906, 331784, 255056, 6249, 143038, 207304, 210430, 125218, 292844, 63707, 234606, 37113, 238255, 352695, 21024, 126017, 261316, 397235, 121621, 154516, 391448, 293787, 155225, 119617, 165545, 52964, 196446, 165939, 380685, 358592, 343544, 238436, 158712, 340899, 258818, 128768, 149259, 83272, 362124, 117956, 63159, 304921, 72697, 318077, 327712, 311465, 259942, 35189, 139283, 258867, 288559, 298398, 101917, 173424, 65752, 13088, 370920, 279581, 293434, 196974, 119864, 6847, 99568, 225310, 242577, 20664, 67474, 159252, 262556, 184117, 297075, 38914, 113158, 217268, 305129, 292685, 132474, 129461, 161400, 199701, 271407, 165897, 307511, 309286, 294014, 120830, 330798, 343559, 235245, 190157, 211513, 379475, 4123, 253146, 242060, 250482, 294648, 232376, 283380, 95262, 245049, 280063, 288338, 293614, 296123, 255468, 71311, 174417, 163796, 143046, 325850, 311658, 265288, 94409, 298584, 15640, 255153, 95296, 122955, 195217, 163846, 121730, 180348, 282043, 51891, 226792, 297867, 83913, 291720, 71142, 59741, 151699, 223162, 231645, 291886, 72216, 142486, 312432, 159496, 35918, 129881, 21687, 353714, 157122, 300267, 244953, 237950, 126864, 153066, 294909, 116488, 374448, 315996, 385299, 312133, 258369, 13589, 13673, 5288, 390384, 345279, 42283, 69494, 131459, 320860, 306004, 42808, 138463, 297617, 396290, 22195, 5856, 161954, 47825, 127733, 360759, 382240, 56245, 184976, 380707, 20652, 243316, 296512, 296833, 153589, 72417, 90270, 30612, 135408, 56588, 337440, 107642, 138745, 350598, 188406, 252457, 19889, 241427, 278688, 201945, 390305, 176544, 171373, 158073, 287713, 251806, 106641, 287373, 58916, 10173, 50461, 384190, 155894, 309632, 337396, 228046, 132752, 110356, 254073, 71894, 311291, 315049, 3184, 127649, 207918, 54056, 236068, 36599, 197772, 103637, 19269, 370773, 213172, 188244, 331134, 57173, 162155, 361330, 254752, 95470, 287156, 328075, 136214, 157712, 33418, 375615, 225387, 141715, 116614, 32527, 19652, 131838, 54613, 191035, 197290, 343368, 103384, 112068, 361694, 373532, 370054, 303465, 318337, 259893, 293578, 131333, 363193, 12183, 579, 28832, 188197, 250676, 121141, 281497, 285096, 315714, 274742, 326381, 130373, 134178, 361222, 144625, 43401, 230195, 321147, 215025, 142451, 166036, 315613, 334253, 32678, 27282, 336176, 259772, 245287, 290087, 160590, 112276, 374586, 345140, 380961, 39564, 53539, 235617, 205953, 333506, 212434, 169264, 212522, 269014, 260310, 21947, 369255, 326700, 181539, 132422, 125400, 302972, 265971, 363225, 282336, 25300, 221341, 152954, 341221, 144122, 121493, 314644, 14295, 147384, 158824, 253110, 282344, 319947, 93051, 126549, 266114, 330027, 193918, 229479, 294423, 180192, 140108, 349759, 238024, 362123, 267519, 299454, 48401, 106319, 358317, 370752, 134120, 74144, 328530, 71949, 128899, 44604, 205414, 127439, 164328, 348913, 298327, 152712, 53017, 360807, 58881, 128192, 390326, 100378, 217768, 11602, 345576, 212313, 108229, 347993, 147217, 280051, 294385, 201433, 142502, 253489, 169881, 63566, 98314, 282156, 105210, 343497, 52445, 260034, 293551, 59496, 114708, 194683, 294431, 105366, 304850, 347753, 19804, 85122, 72149, 230186, 269141, 276681, 57873, 335049, 165186, 395068, 254409, 135032, 12988, 236802, 77214, 292657, 98878, 10701, 136845, 161262, 344094, 148998, 59351, 44053, 376455, 331786, 329751, 56663, 253685, 17171, 384547, 400143, 290779, 260358, 88003, 277136, 20010, 376165, 176375, 165763, 107046, 245258, 282240, 293042, 108707, 355269, 70714, 358935, 56480, 198482, 390816, 337651, 374736, 314073, 283635, 98343, 196896, 43525, 76566, 174933, 203753, 84482, 366226, 349068, 389009, 320595, 144475, 128236, 243705, 45812, 8299, 46573, 322547, 66445, 355045, 308750, 63305, 85275, 118411, 141234, 303979, 356035, 382009, 151857, 211929, 67078, 212437, 144015, 12420, 44917, 322453, 310499, 259289, 170188, 286102, 72795, 337282, 383094, 292490, 240014, 229147, 155355, 371603, 347599, 54583, 129745, 51798, 267724, 140926, 50551, 51818, 290431, 15909, 87687, 127378, 140721, 213092, 36845, 352475, 293271, 346534, 243234, 367424, 96950, 341508, 145763, 103565, 298663, 174698, 295966, 369676, 177443, 346773, 234484, 85283, 256682, 178394, 164244, 290655, 180109, 41954, 67560, 170534, 195991, 196594, 292706, 341116, 323864, 258470, 263312, 166991, 295901, 17143, 51567, 231444, 30791, 98064, 265702, 107228, 287623, 384010, 23408, 262043, 178207, 62433, 264889, 254840, 194387, 326022, 65633, 168933, 117235, 293199, 268865, 87468, 225049, 111279, 223536, 136487, 189728, 1015, 295735, 23960, 90982, 349457, 84654] not found in axis'",
     "output_type": "error",
     "traceback": [
      "\u001b[0;31m---------------------------------------------------------------------------\u001b[0m",
      "\u001b[0;31mKeyError\u001b[0m                                  Traceback (most recent call last)",
      "Cell \u001b[0;32mIn[415], line 3\u001b[0m\n\u001b[1;32m      1\u001b[0m \u001b[38;5;66;03m# Remove instances with class label '99' from the training set\u001b[39;00m\n\u001b[1;32m      2\u001b[0m X_train_final \u001b[38;5;241m=\u001b[39m X_train_imputed\u001b[38;5;241m.\u001b[39mdrop(index\u001b[38;5;241m=\u001b[39mrm_indices_train)\n\u001b[0;32m----> 3\u001b[0m y_train \u001b[38;5;241m=\u001b[39m y_train\u001b[38;5;241m.\u001b[39mdrop(index\u001b[38;5;241m=\u001b[39mrm_indices_train)\n\u001b[1;32m      5\u001b[0m \u001b[38;5;66;03m# Remove instances with class label '99' from the test set\u001b[39;00m\n\u001b[1;32m      6\u001b[0m X_test_final \u001b[38;5;241m=\u001b[39m X_test_imputed\u001b[38;5;241m.\u001b[39mdrop(index\u001b[38;5;241m=\u001b[39mrm_indices_test)\n",
      "File \u001b[0;32m~/anaconda3/lib/python3.11/site-packages/pandas/core/frame.py:5258\u001b[0m, in \u001b[0;36mDataFrame.drop\u001b[0;34m(self, labels, axis, index, columns, level, inplace, errors)\u001b[0m\n\u001b[1;32m   5110\u001b[0m \u001b[38;5;28;01mdef\u001b[39;00m \u001b[38;5;21mdrop\u001b[39m(\n\u001b[1;32m   5111\u001b[0m     \u001b[38;5;28mself\u001b[39m,\n\u001b[1;32m   5112\u001b[0m     labels: IndexLabel \u001b[38;5;241m=\u001b[39m \u001b[38;5;28;01mNone\u001b[39;00m,\n\u001b[0;32m   (...)\u001b[0m\n\u001b[1;32m   5119\u001b[0m     errors: IgnoreRaise \u001b[38;5;241m=\u001b[39m \u001b[38;5;124m\"\u001b[39m\u001b[38;5;124mraise\u001b[39m\u001b[38;5;124m\"\u001b[39m,\n\u001b[1;32m   5120\u001b[0m ) \u001b[38;5;241m-\u001b[39m\u001b[38;5;241m>\u001b[39m DataFrame \u001b[38;5;241m|\u001b[39m \u001b[38;5;28;01mNone\u001b[39;00m:\n\u001b[1;32m   5121\u001b[0m \u001b[38;5;250m    \u001b[39m\u001b[38;5;124;03m\"\"\"\u001b[39;00m\n\u001b[1;32m   5122\u001b[0m \u001b[38;5;124;03m    Drop specified labels from rows or columns.\u001b[39;00m\n\u001b[1;32m   5123\u001b[0m \n\u001b[0;32m   (...)\u001b[0m\n\u001b[1;32m   5256\u001b[0m \u001b[38;5;124;03m            weight  1.0     0.8\u001b[39;00m\n\u001b[1;32m   5257\u001b[0m \u001b[38;5;124;03m    \"\"\"\u001b[39;00m\n\u001b[0;32m-> 5258\u001b[0m     \u001b[38;5;28;01mreturn\u001b[39;00m \u001b[38;5;28msuper\u001b[39m()\u001b[38;5;241m.\u001b[39mdrop(\n\u001b[1;32m   5259\u001b[0m         labels\u001b[38;5;241m=\u001b[39mlabels,\n\u001b[1;32m   5260\u001b[0m         axis\u001b[38;5;241m=\u001b[39maxis,\n\u001b[1;32m   5261\u001b[0m         index\u001b[38;5;241m=\u001b[39mindex,\n\u001b[1;32m   5262\u001b[0m         columns\u001b[38;5;241m=\u001b[39mcolumns,\n\u001b[1;32m   5263\u001b[0m         level\u001b[38;5;241m=\u001b[39mlevel,\n\u001b[1;32m   5264\u001b[0m         inplace\u001b[38;5;241m=\u001b[39minplace,\n\u001b[1;32m   5265\u001b[0m         errors\u001b[38;5;241m=\u001b[39merrors,\n\u001b[1;32m   5266\u001b[0m     )\n",
      "File \u001b[0;32m~/anaconda3/lib/python3.11/site-packages/pandas/core/generic.py:4549\u001b[0m, in \u001b[0;36mNDFrame.drop\u001b[0;34m(self, labels, axis, index, columns, level, inplace, errors)\u001b[0m\n\u001b[1;32m   4547\u001b[0m \u001b[38;5;28;01mfor\u001b[39;00m axis, labels \u001b[38;5;129;01min\u001b[39;00m axes\u001b[38;5;241m.\u001b[39mitems():\n\u001b[1;32m   4548\u001b[0m     \u001b[38;5;28;01mif\u001b[39;00m labels \u001b[38;5;129;01mis\u001b[39;00m \u001b[38;5;129;01mnot\u001b[39;00m \u001b[38;5;28;01mNone\u001b[39;00m:\n\u001b[0;32m-> 4549\u001b[0m         obj \u001b[38;5;241m=\u001b[39m obj\u001b[38;5;241m.\u001b[39m_drop_axis(labels, axis, level\u001b[38;5;241m=\u001b[39mlevel, errors\u001b[38;5;241m=\u001b[39merrors)\n\u001b[1;32m   4551\u001b[0m \u001b[38;5;28;01mif\u001b[39;00m inplace:\n\u001b[1;32m   4552\u001b[0m     \u001b[38;5;28mself\u001b[39m\u001b[38;5;241m.\u001b[39m_update_inplace(obj)\n",
      "File \u001b[0;32m~/anaconda3/lib/python3.11/site-packages/pandas/core/generic.py:4591\u001b[0m, in \u001b[0;36mNDFrame._drop_axis\u001b[0;34m(self, labels, axis, level, errors, only_slice)\u001b[0m\n\u001b[1;32m   4589\u001b[0m         new_axis \u001b[38;5;241m=\u001b[39m axis\u001b[38;5;241m.\u001b[39mdrop(labels, level\u001b[38;5;241m=\u001b[39mlevel, errors\u001b[38;5;241m=\u001b[39merrors)\n\u001b[1;32m   4590\u001b[0m     \u001b[38;5;28;01melse\u001b[39;00m:\n\u001b[0;32m-> 4591\u001b[0m         new_axis \u001b[38;5;241m=\u001b[39m axis\u001b[38;5;241m.\u001b[39mdrop(labels, errors\u001b[38;5;241m=\u001b[39merrors)\n\u001b[1;32m   4592\u001b[0m     indexer \u001b[38;5;241m=\u001b[39m axis\u001b[38;5;241m.\u001b[39mget_indexer(new_axis)\n\u001b[1;32m   4594\u001b[0m \u001b[38;5;66;03m# Case for non-unique axis\u001b[39;00m\n\u001b[1;32m   4595\u001b[0m \u001b[38;5;28;01melse\u001b[39;00m:\n",
      "File \u001b[0;32m~/anaconda3/lib/python3.11/site-packages/pandas/core/indexes/base.py:6699\u001b[0m, in \u001b[0;36mIndex.drop\u001b[0;34m(self, labels, errors)\u001b[0m\n\u001b[1;32m   6697\u001b[0m \u001b[38;5;28;01mif\u001b[39;00m mask\u001b[38;5;241m.\u001b[39many():\n\u001b[1;32m   6698\u001b[0m     \u001b[38;5;28;01mif\u001b[39;00m errors \u001b[38;5;241m!=\u001b[39m \u001b[38;5;124m\"\u001b[39m\u001b[38;5;124mignore\u001b[39m\u001b[38;5;124m\"\u001b[39m:\n\u001b[0;32m-> 6699\u001b[0m         \u001b[38;5;28;01mraise\u001b[39;00m \u001b[38;5;167;01mKeyError\u001b[39;00m(\u001b[38;5;124mf\u001b[39m\u001b[38;5;124m\"\u001b[39m\u001b[38;5;132;01m{\u001b[39;00m\u001b[38;5;28mlist\u001b[39m(labels[mask])\u001b[38;5;132;01m}\u001b[39;00m\u001b[38;5;124m not found in axis\u001b[39m\u001b[38;5;124m\"\u001b[39m)\n\u001b[1;32m   6700\u001b[0m     indexer \u001b[38;5;241m=\u001b[39m indexer[\u001b[38;5;241m~\u001b[39mmask]\n\u001b[1;32m   6701\u001b[0m \u001b[38;5;28;01mreturn\u001b[39;00m \u001b[38;5;28mself\u001b[39m\u001b[38;5;241m.\u001b[39mdelete(indexer)\n",
      "\u001b[0;31mKeyError\u001b[0m: '[198456, 230479, 310525, 188953, 244823, 66272, 238550, 147642, 46363, 380594, 43427, 152646, 265286, 357567, 277036, 215983, 374256, 26954, 86428, 30456, 300257, 378607, 67504, 168748, 338779, 231468, 294543, 282718, 30660, 103906, 147178, 230551, 100815, 400805, 293051, 284520, 287147, 347524, 287811, 57778, 115740, 325072, 231841, 98638, 227775, 64418, 108213, 278211, 218750, 327566, 155320, 270284, 111033, 213246, 347440, 196204, 373613, 84746, 19661, 260598, 52248, 99201, 106083, 35711, 43817, 295122, 245658, 350009, 162488, 296492, 37800, 283552, 247698, 72012, 250020, 363376, 115700, 200419, 209901, 132535, 284443, 229617, 38813, 125462, 295491, 137684, 203746, 216190, 10779, 330506, 215729, 158536, 371224, 159148, 151824, 113909, 253321, 207675, 202357, 228293, 146818, 376955, 97655, 236701, 277177, 258643, 96262, 287513, 309684, 347713, 218333, 127704, 346369, 365532, 147479, 348971, 362106, 393379, 292671, 307730, 271386, 327884, 160160, 74850, 229587, 65944, 69238, 401054, 310041, 294479, 20915, 159321, 257669, 116017, 279499, 179459, 21255, 232000, 205684, 161285, 56741, 75484, 228435, 6129, 81805, 336843, 39849, 331936, 321480, 358008, 35393, 169979, 380911, 110339, 295177, 369594, 37362, 244440, 43273, 150166, 136648, 320963, 361771, 397513, 346728, 373158, 317103, 286496, 58950, 387449, 291521, 158804, 132745, 32141, 329545, 157895, 298994, 260333, 13445, 107485, 24454, 123530, 179562, 303924, 49947, 105207, 309104, 148043, 146378, 18129, 366401, 356134, 160981, 285922, 322000, 325096, 80680, 153419, 104578, 337853, 98814, 275171, 353514, 292220, 327312, 379175, 310610, 239635, 329624, 250704, 17755, 346617, 278274, 122996, 141741, 197410, 89525, 319569, 287054, 216297, 291105, 287699, 184077, 309872, 110758, 4396, 167310, 237418, 356156, 346736, 59867, 360127, 362138, 208109, 204275, 375133, 300631, 102459, 6348, 384339, 86303, 850, 240828, 195228, 70535, 200324, 301313, 46843, 119556, 97195, 79576, 296109, 348004, 291931, 314184, 39975, 345827, 124772, 195526, 358370, 332872, 86964, 257099, 370061, 263126, 317375, 90543, 156563, 367831, 191145, 292809, 114246, 7000, 398333, 114201, 254612, 92819, 13477, 144183, 22171, 83691, 343560, 240251, 109715, 18224, 392102, 139332, 230320, 297607, 378711, 354626, 207283, 155457, 296802, 1617, 285112, 358746, 206910, 184097, 189090, 263946, 142659, 215014, 156700, 292133, 232523, 46115, 224556, 54568, 95834, 247642, 141237, 60373, 169776, 1261, 210415, 135043, 48860, 271823, 227616, 392147, 139191, 65010, 332784, 231819, 69960, 121871, 262877, 313441, 38680, 128016, 230510, 232978, 91308, 253471, 52058, 183700, 150430, 306103, 228314, 86601, 282288, 238748, 49487, 91421, 388979, 158157, 136863, 215535, 387531, 262242, 250285, 102387, 278080, 292852, 69862, 243757, 19152, 356585, 72425, 377836, 65511, 298247, 227425, 360917, 228226, 101548, 214717, 283575, 237681, 96526, 66664, 133489, 286882, 95713, 6335, 290755, 265281, 322440, 66431, 231837, 349267, 119857, 164975, 289704, 15969, 27726, 130357, 213505, 91110, 309427, 311959, 138754, 322584, 255993, 245774, 311259, 292981, 356038, 136324, 153650, 294053, 205749, 292969, 75925, 86014, 302454, 244213, 17634, 381013, 260209, 257043, 120560, 206177, 156675, 381607, 207090, 13942, 33513, 217628, 372081, 15858, 294548, 363344, 44039, 28472, 262810, 75307, 199873, 296073, 324573, 117401, 323912, 275760, 13274, 72040, 59357, 114561, 164122, 292225, 72171, 137340, 396015, 165776, 68778, 68868, 51170, 291503, 53802, 176485, 45267, 328138, 41412, 337518, 230528, 49773, 69151, 35206, 121567, 13060, 197211, 216237, 124712, 346398, 109654, 365661, 152107, 356341, 127861, 213759, 298856, 266636, 232290, 15844, 73577, 100936, 1169, 128495, 90129, 336356, 334702, 160112, 45355, 85092, 218954, 357714, 163330, 120293, 250197, 336682, 49671, 341131, 41719, 242922, 358279, 258653, 135443, 12341, 160729, 265196, 38248, 295369, 354914, 20107, 186119, 294464, 234647, 151080, 98207, 258986, 343242, 108579, 188605, 271744, 387051, 293047, 36238, 41639, 343316, 322327, 129883, 107185, 134829, 282997, 322162, 347162, 278141, 396412, 101677, 18897, 346937, 314540, 47044, 47871, 287482, 266462, 292653, 49346, 10670, 392950, 13926, 316750, 263701, 271864, 215713, 333078, 181439, 285519, 87634, 114960, 168282, 136536, 97738, 384643, 272522, 307767, 295402, 296088, 204175, 133116, 292840, 84730, 93087, 145308, 250670, 8065, 196721, 294285, 26867, 25846, 359425, 287807, 340083, 295481, 180004, 307179, 209178, 362461, 206033, 100849, 123822, 285178, 252389, 104300, 344194, 69706, 103249, 361259, 138993, 280358, 224517, 390072, 73350, 52074, 375410, 164984, 120566, 26408, 152728, 57372, 358669, 191639, 10860, 260036, 8964, 148058, 207369, 230423, 383980, 373208, 106079, 92676, 319637, 287616, 291916, 237124, 82893, 256614, 41470, 69871, 384916, 139976, 293102, 65685, 129121, 70431, 161251, 390422, 188357, 215982, 264782, 222831, 392461, 311260, 352931, 179043, 312037, 250098, 177964, 139172, 356862, 77733, 180125, 114513, 269787, 263084, 16426, 347253, 274856, 210940, 287063, 139963, 47410, 10560, 368990, 328680, 272169, 269769, 233516, 256933, 58616, 315696, 21867, 166607, 80210, 90788, 337558, 243906, 182065, 100129, 394403, 291610, 52697, 171165, 293773, 306151, 281512, 166323, 141782, 150473, 223867, 293731, 124745, 253473, 5933, 66536, 222045, 381804, 234136, 89761, 391633, 345751, 361657, 351429, 398575, 73720, 96287, 237261, 214754, 189815, 92423, 386483, 384423, 252342, 50053, 88959, 341509, 13419, 212925, 124539, 34877, 8292, 242749, 322186, 92684, 131924, 115751, 330676, 283106, 312234, 303991, 243435, 277871, 329114, 108370, 72761, 210570, 206480, 345754, 350076, 390220, 238347, 311699, 384397, 192018, 185476, 243567, 11517, 343083, 242252, 84624, 290559, 120551, 136122, 319462, 349429, 303117, 264027, 239757, 60402, 343806, 191900, 245041, 326676, 338112, 277351, 268109, 62878, 158020, 120707, 198272, 122386, 363801, 363637, 97608, 101641, 124348, 297319, 323661, 124920, 275290, 333407, 40189, 137630, 194914, 18930, 137136, 109323, 327838, 350774, 28414, 238166, 354882, 177993, 110180, 262817, 29298, 274713, 31898, 363340, 372304, 32902, 183238, 299467, 32186, 189729, 98721, 337759, 209906, 331784, 255056, 6249, 143038, 207304, 210430, 125218, 292844, 63707, 234606, 37113, 238255, 352695, 21024, 126017, 261316, 397235, 121621, 154516, 391448, 293787, 155225, 119617, 165545, 52964, 196446, 165939, 380685, 358592, 343544, 238436, 158712, 340899, 258818, 128768, 149259, 83272, 362124, 117956, 63159, 304921, 72697, 318077, 327712, 311465, 259942, 35189, 139283, 258867, 288559, 298398, 101917, 173424, 65752, 13088, 370920, 279581, 293434, 196974, 119864, 6847, 99568, 225310, 242577, 20664, 67474, 159252, 262556, 184117, 297075, 38914, 113158, 217268, 305129, 292685, 132474, 129461, 161400, 199701, 271407, 165897, 307511, 309286, 294014, 120830, 330798, 343559, 235245, 190157, 211513, 379475, 4123, 253146, 242060, 250482, 294648, 232376, 283380, 95262, 245049, 280063, 288338, 293614, 296123, 255468, 71311, 174417, 163796, 143046, 325850, 311658, 265288, 94409, 298584, 15640, 255153, 95296, 122955, 195217, 163846, 121730, 180348, 282043, 51891, 226792, 297867, 83913, 291720, 71142, 59741, 151699, 223162, 231645, 291886, 72216, 142486, 312432, 159496, 35918, 129881, 21687, 353714, 157122, 300267, 244953, 237950, 126864, 153066, 294909, 116488, 374448, 315996, 385299, 312133, 258369, 13589, 13673, 5288, 390384, 345279, 42283, 69494, 131459, 320860, 306004, 42808, 138463, 297617, 396290, 22195, 5856, 161954, 47825, 127733, 360759, 382240, 56245, 184976, 380707, 20652, 243316, 296512, 296833, 153589, 72417, 90270, 30612, 135408, 56588, 337440, 107642, 138745, 350598, 188406, 252457, 19889, 241427, 278688, 201945, 390305, 176544, 171373, 158073, 287713, 251806, 106641, 287373, 58916, 10173, 50461, 384190, 155894, 309632, 337396, 228046, 132752, 110356, 254073, 71894, 311291, 315049, 3184, 127649, 207918, 54056, 236068, 36599, 197772, 103637, 19269, 370773, 213172, 188244, 331134, 57173, 162155, 361330, 254752, 95470, 287156, 328075, 136214, 157712, 33418, 375615, 225387, 141715, 116614, 32527, 19652, 131838, 54613, 191035, 197290, 343368, 103384, 112068, 361694, 373532, 370054, 303465, 318337, 259893, 293578, 131333, 363193, 12183, 579, 28832, 188197, 250676, 121141, 281497, 285096, 315714, 274742, 326381, 130373, 134178, 361222, 144625, 43401, 230195, 321147, 215025, 142451, 166036, 315613, 334253, 32678, 27282, 336176, 259772, 245287, 290087, 160590, 112276, 374586, 345140, 380961, 39564, 53539, 235617, 205953, 333506, 212434, 169264, 212522, 269014, 260310, 21947, 369255, 326700, 181539, 132422, 125400, 302972, 265971, 363225, 282336, 25300, 221341, 152954, 341221, 144122, 121493, 314644, 14295, 147384, 158824, 253110, 282344, 319947, 93051, 126549, 266114, 330027, 193918, 229479, 294423, 180192, 140108, 349759, 238024, 362123, 267519, 299454, 48401, 106319, 358317, 370752, 134120, 74144, 328530, 71949, 128899, 44604, 205414, 127439, 164328, 348913, 298327, 152712, 53017, 360807, 58881, 128192, 390326, 100378, 217768, 11602, 345576, 212313, 108229, 347993, 147217, 280051, 294385, 201433, 142502, 253489, 169881, 63566, 98314, 282156, 105210, 343497, 52445, 260034, 293551, 59496, 114708, 194683, 294431, 105366, 304850, 347753, 19804, 85122, 72149, 230186, 269141, 276681, 57873, 335049, 165186, 395068, 254409, 135032, 12988, 236802, 77214, 292657, 98878, 10701, 136845, 161262, 344094, 148998, 59351, 44053, 376455, 331786, 329751, 56663, 253685, 17171, 384547, 400143, 290779, 260358, 88003, 277136, 20010, 376165, 176375, 165763, 107046, 245258, 282240, 293042, 108707, 355269, 70714, 358935, 56480, 198482, 390816, 337651, 374736, 314073, 283635, 98343, 196896, 43525, 76566, 174933, 203753, 84482, 366226, 349068, 389009, 320595, 144475, 128236, 243705, 45812, 8299, 46573, 322547, 66445, 355045, 308750, 63305, 85275, 118411, 141234, 303979, 356035, 382009, 151857, 211929, 67078, 212437, 144015, 12420, 44917, 322453, 310499, 259289, 170188, 286102, 72795, 337282, 383094, 292490, 240014, 229147, 155355, 371603, 347599, 54583, 129745, 51798, 267724, 140926, 50551, 51818, 290431, 15909, 87687, 127378, 140721, 213092, 36845, 352475, 293271, 346534, 243234, 367424, 96950, 341508, 145763, 103565, 298663, 174698, 295966, 369676, 177443, 346773, 234484, 85283, 256682, 178394, 164244, 290655, 180109, 41954, 67560, 170534, 195991, 196594, 292706, 341116, 323864, 258470, 263312, 166991, 295901, 17143, 51567, 231444, 30791, 98064, 265702, 107228, 287623, 384010, 23408, 262043, 178207, 62433, 264889, 254840, 194387, 326022, 65633, 168933, 117235, 293199, 268865, 87468, 225049, 111279, 223536, 136487, 189728, 1015, 295735, 23960, 90982, 349457, 84654] not found in axis'"
     ]
    }
   ],
   "source": [
    "# Remove instances with class label '99' from the training set\n",
    "X_train_final = X_train_imputed.drop(index=rm_indices_train)\n",
    "y_train = y_train.drop(index=rm_indices_train)\n",
    "\n",
    "# Remove instances with class label '99' from the test set\n",
    "X_test_final = X_test_imputed.drop(index=rm_indices_test)\n",
    "y_test = y_test.drop(index=rm_indices_test)"
   ]
  },
  {
   "cell_type": "code",
   "execution_count": 417,
   "id": "99e2407e",
   "metadata": {},
   "outputs": [
    {
     "name": "stdout",
     "output_type": "stream",
     "text": [
      "True\n",
      "True\n"
     ]
    }
   ],
   "source": [
    "# Check if all indices match\n",
    "print(all(X_train_final.index == y_train.index))\n",
    "print(all(X_test_final.index == y_test.index))"
   ]
  },
  {
   "cell_type": "code",
   "execution_count": 418,
   "id": "06d53b3c",
   "metadata": {},
   "outputs": [],
   "source": [
    "from imblearn.over_sampling import SMOTE\n",
    "from sklearn.preprocessing import OneHotEncoder, StandardScaler\n",
    "from sklearn.compose import ColumnTransformer\n",
    "from sklearn.pipeline import Pipeline as skl_Pipeline\n",
    "from imblearn.pipeline import Pipeline as imb_Pipeline"
   ]
  },
  {
   "cell_type": "code",
   "execution_count": 424,
   "id": "cb120e0e",
   "metadata": {},
   "outputs": [],
   "source": [
    "# Define categorical features and numerical features\n",
    "categorical_features = [col for col in X_train_imputed.columns if col not in num_columns]\n",
    "numerical_features = ['WEIGHT2', 'HTIN4']\n",
    "\n",
    "# Define preprocessing steps for categorical and numerical features\n",
    "preprocessor = ColumnTransformer(\n",
    "    transformers=[\n",
    "        ('cat', OneHotEncoder(), categorical_features),\n",
    "        ('num', StandardScaler(), numerical_features)\n",
    "    ],\n",
    "    remainder='passthrough'\n",
    ")\n",
    "\n",
    "# Define the pipeline with preprocessing and SMOTE\n",
    "pipeline = imb_Pipeline([\n",
    "    ('preprocessor', preprocessor),\n",
    "    ('smote', SMOTE(random_state=42))\n",
    "])\n",
    "\n",
    "# Apply the pipeline to the entire dataset\n",
    "X_train_ohe_resampled, y_train_ohe_resampled = pipeline.fit_resample(X_train_final, y_train)"
   ]
  },
  {
   "cell_type": "code",
   "execution_count": 425,
   "id": "65fce0b0",
   "metadata": {},
   "outputs": [],
   "source": [
    "# Define the pipeline with preprocessing (without SMOTE)\n",
    "pipeline = imb_Pipeline([\n",
    "    ('preprocessor', preprocessor)\n",
    "])\n",
    "\n",
    "# Apply the pipeline to the test set\n",
    "X_test_ohe = pipeline.transform(X_test_final)"
   ]
  },
  {
   "cell_type": "code",
   "execution_count": 426,
   "id": "9944208f",
   "metadata": {},
   "outputs": [
    {
     "data": {
      "text/plain": [
       "(503098, 236)"
      ]
     },
     "execution_count": 426,
     "metadata": {},
     "output_type": "execute_result"
    }
   ],
   "source": [
    "X_train_resampled.shape"
   ]
  },
  {
   "cell_type": "code",
   "execution_count": 427,
   "id": "90def744",
   "metadata": {},
   "outputs": [
    {
     "data": {
      "text/plain": [
       "(100049, 236)"
      ]
     },
     "execution_count": 427,
     "metadata": {},
     "output_type": "execute_result"
    }
   ],
   "source": [
    "X_test_ohe.shape"
   ]
  },
  {
   "cell_type": "code",
   "execution_count": 431,
   "id": "745dbec1",
   "metadata": {},
   "outputs": [
    {
     "data": {
      "text/plain": [
       "CHC_CNCR\n",
       "1           251549\n",
       "2           251549\n",
       "Name: count, dtype: int64"
      ]
     },
     "execution_count": 431,
     "metadata": {},
     "output_type": "execute_result"
    }
   ],
   "source": [
    "y_train_ohe_resampled.value_counts()"
   ]
  },
  {
   "cell_type": "code",
   "execution_count": 430,
   "id": "0427c87f",
   "metadata": {},
   "outputs": [
    {
     "data": {
      "image/png": "[encoded data removed]",
      "text/plain": [
       "<Figure size 640x480 with 1 Axes>"
      ]
     },
     "metadata": {},
     "output_type": "display_data"
    }
   ],
   "source": [
    "# Make plot\n",
    "plt.bar([1, 2], y_train_ohe_resampled.value_counts(), label= list(y_train.value_counts().index), color=colors)\n",
    "plt.legend(title = 'Categories')\n",
    "plt.xticks(list(range(1,3)));"
   ]
  },
  {
   "cell_type": "markdown",
   "id": "296a9b13",
   "metadata": {},
   "source": [
    "# Modeling "
   ]
  },
  {
   "cell_type": "code",
   "execution_count": null,
   "id": "f4b41d75",
   "metadata": {},
   "outputs": [],
   "source": []
  }
 ],
 "metadata": {
  "kernelspec": {
   "display_name": "Python 3 (ipykernel)",
   "language": "python",
   "name": "python3"
  },
  "language_info": {
   "codemirror_mode": {
    "name": "ipython",
    "version": 3
   },
   "file_extension": ".py",
   "mimetype": "text/x-python",
   "name": "python",
   "nbconvert_exporter": "python",
   "pygments_lexer": "ipython3",
   "version": "3.11.4"
  }
 },
 "nbformat": 4,
 "nbformat_minor": 5
}
